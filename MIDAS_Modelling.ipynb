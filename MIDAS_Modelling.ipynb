{
  "nbformat": 4,
  "nbformat_minor": 0,
  "metadata": {
    "colab": {
      "name": "MIDAS - Modelling.ipynb",
      "provenance": [],
      "collapsed_sections": []
    },
    "kernelspec": {
      "name": "python3",
      "display_name": "Python 3"
    },
    "language_info": {
      "name": "python"
    },
    "accelerator": "GPU",
    "widgets": {
      "application/vnd.jupyter.widget-state+json": {
        "7b0e351312f64b7cb50d955cb34cd74b": {
          "model_module": "@jupyter-widgets/controls",
          "model_name": "HBoxModel",
          "state": {
            "_view_name": "HBoxView",
            "_dom_classes": [],
            "_model_name": "HBoxModel",
            "_view_module": "@jupyter-widgets/controls",
            "_model_module_version": "1.5.0",
            "_view_count": null,
            "_view_module_version": "1.5.0",
            "box_style": "",
            "layout": "IPY_MODEL_f1d328fcc93a401ba2031a51f98026e4",
            "_model_module": "@jupyter-widgets/controls",
            "children": [
              "IPY_MODEL_8b5a38eaad7f435cb8c7d9c7de6f7d1b",
              "IPY_MODEL_db616963be36428491df9f40250c0fe4"
            ]
          }
        },
        "f1d328fcc93a401ba2031a51f98026e4": {
          "model_module": "@jupyter-widgets/base",
          "model_name": "LayoutModel",
          "state": {
            "_view_name": "LayoutView",
            "grid_template_rows": null,
            "right": null,
            "justify_content": null,
            "_view_module": "@jupyter-widgets/base",
            "overflow": null,
            "_model_module_version": "1.2.0",
            "_view_count": null,
            "flex_flow": null,
            "width": null,
            "min_width": null,
            "border": null,
            "align_items": null,
            "bottom": null,
            "_model_module": "@jupyter-widgets/base",
            "top": null,
            "grid_column": null,
            "overflow_y": null,
            "overflow_x": null,
            "grid_auto_flow": null,
            "grid_area": null,
            "grid_template_columns": null,
            "flex": null,
            "_model_name": "LayoutModel",
            "justify_items": null,
            "grid_row": null,
            "max_height": null,
            "align_content": null,
            "visibility": null,
            "align_self": null,
            "height": null,
            "min_height": null,
            "padding": null,
            "grid_auto_rows": null,
            "grid_gap": null,
            "max_width": null,
            "order": null,
            "_view_module_version": "1.2.0",
            "grid_template_areas": null,
            "object_position": null,
            "object_fit": null,
            "grid_auto_columns": null,
            "margin": null,
            "display": null,
            "left": null
          }
        },
        "8b5a38eaad7f435cb8c7d9c7de6f7d1b": {
          "model_module": "@jupyter-widgets/controls",
          "model_name": "FloatProgressModel",
          "state": {
            "_view_name": "ProgressView",
            "style": "IPY_MODEL_af046a7ed8c44010830792740da8d90b",
            "_dom_classes": [],
            "description": "Downloading: 100%",
            "_model_name": "FloatProgressModel",
            "bar_style": "success",
            "max": 442,
            "_view_module": "@jupyter-widgets/controls",
            "_model_module_version": "1.5.0",
            "value": 442,
            "_view_count": null,
            "_view_module_version": "1.5.0",
            "orientation": "horizontal",
            "min": 0,
            "description_tooltip": null,
            "_model_module": "@jupyter-widgets/controls",
            "layout": "IPY_MODEL_ac7a7787a750467d83c2e9a80d22667d"
          }
        },
        "db616963be36428491df9f40250c0fe4": {
          "model_module": "@jupyter-widgets/controls",
          "model_name": "HTMLModel",
          "state": {
            "_view_name": "HTMLView",
            "style": "IPY_MODEL_80587a40ff894a16bdedaa958bb86449",
            "_dom_classes": [],
            "description": "",
            "_model_name": "HTMLModel",
            "placeholder": "​",
            "_view_module": "@jupyter-widgets/controls",
            "_model_module_version": "1.5.0",
            "value": " 442/442 [00:17&lt;00:00, 24.8B/s]",
            "_view_count": null,
            "_view_module_version": "1.5.0",
            "description_tooltip": null,
            "_model_module": "@jupyter-widgets/controls",
            "layout": "IPY_MODEL_cd63cc5eb09140b19947a9aea23f7f0a"
          }
        },
        "af046a7ed8c44010830792740da8d90b": {
          "model_module": "@jupyter-widgets/controls",
          "model_name": "ProgressStyleModel",
          "state": {
            "_view_name": "StyleView",
            "_model_name": "ProgressStyleModel",
            "description_width": "initial",
            "_view_module": "@jupyter-widgets/base",
            "_model_module_version": "1.5.0",
            "_view_count": null,
            "_view_module_version": "1.2.0",
            "bar_color": null,
            "_model_module": "@jupyter-widgets/controls"
          }
        },
        "ac7a7787a750467d83c2e9a80d22667d": {
          "model_module": "@jupyter-widgets/base",
          "model_name": "LayoutModel",
          "state": {
            "_view_name": "LayoutView",
            "grid_template_rows": null,
            "right": null,
            "justify_content": null,
            "_view_module": "@jupyter-widgets/base",
            "overflow": null,
            "_model_module_version": "1.2.0",
            "_view_count": null,
            "flex_flow": null,
            "width": null,
            "min_width": null,
            "border": null,
            "align_items": null,
            "bottom": null,
            "_model_module": "@jupyter-widgets/base",
            "top": null,
            "grid_column": null,
            "overflow_y": null,
            "overflow_x": null,
            "grid_auto_flow": null,
            "grid_area": null,
            "grid_template_columns": null,
            "flex": null,
            "_model_name": "LayoutModel",
            "justify_items": null,
            "grid_row": null,
            "max_height": null,
            "align_content": null,
            "visibility": null,
            "align_self": null,
            "height": null,
            "min_height": null,
            "padding": null,
            "grid_auto_rows": null,
            "grid_gap": null,
            "max_width": null,
            "order": null,
            "_view_module_version": "1.2.0",
            "grid_template_areas": null,
            "object_position": null,
            "object_fit": null,
            "grid_auto_columns": null,
            "margin": null,
            "display": null,
            "left": null
          }
        },
        "80587a40ff894a16bdedaa958bb86449": {
          "model_module": "@jupyter-widgets/controls",
          "model_name": "DescriptionStyleModel",
          "state": {
            "_view_name": "StyleView",
            "_model_name": "DescriptionStyleModel",
            "description_width": "",
            "_view_module": "@jupyter-widgets/base",
            "_model_module_version": "1.5.0",
            "_view_count": null,
            "_view_module_version": "1.2.0",
            "_model_module": "@jupyter-widgets/controls"
          }
        },
        "cd63cc5eb09140b19947a9aea23f7f0a": {
          "model_module": "@jupyter-widgets/base",
          "model_name": "LayoutModel",
          "state": {
            "_view_name": "LayoutView",
            "grid_template_rows": null,
            "right": null,
            "justify_content": null,
            "_view_module": "@jupyter-widgets/base",
            "overflow": null,
            "_model_module_version": "1.2.0",
            "_view_count": null,
            "flex_flow": null,
            "width": null,
            "min_width": null,
            "border": null,
            "align_items": null,
            "bottom": null,
            "_model_module": "@jupyter-widgets/base",
            "top": null,
            "grid_column": null,
            "overflow_y": null,
            "overflow_x": null,
            "grid_auto_flow": null,
            "grid_area": null,
            "grid_template_columns": null,
            "flex": null,
            "_model_name": "LayoutModel",
            "justify_items": null,
            "grid_row": null,
            "max_height": null,
            "align_content": null,
            "visibility": null,
            "align_self": null,
            "height": null,
            "min_height": null,
            "padding": null,
            "grid_auto_rows": null,
            "grid_gap": null,
            "max_width": null,
            "order": null,
            "_view_module_version": "1.2.0",
            "grid_template_areas": null,
            "object_position": null,
            "object_fit": null,
            "grid_auto_columns": null,
            "margin": null,
            "display": null,
            "left": null
          }
        },
        "a1e10827385544d6a4539fa9a34d3fc1": {
          "model_module": "@jupyter-widgets/controls",
          "model_name": "HBoxModel",
          "state": {
            "_view_name": "HBoxView",
            "_dom_classes": [],
            "_model_name": "HBoxModel",
            "_view_module": "@jupyter-widgets/controls",
            "_model_module_version": "1.5.0",
            "_view_count": null,
            "_view_module_version": "1.5.0",
            "box_style": "",
            "layout": "IPY_MODEL_d7fc818b86d24336a6d1e4967955be4e",
            "_model_module": "@jupyter-widgets/controls",
            "children": [
              "IPY_MODEL_d3446b845ac44b4a85ae0191b19c34ea",
              "IPY_MODEL_dc67edd4da2247e598e2b0acf7ca5fab"
            ]
          }
        },
        "d7fc818b86d24336a6d1e4967955be4e": {
          "model_module": "@jupyter-widgets/base",
          "model_name": "LayoutModel",
          "state": {
            "_view_name": "LayoutView",
            "grid_template_rows": null,
            "right": null,
            "justify_content": null,
            "_view_module": "@jupyter-widgets/base",
            "overflow": null,
            "_model_module_version": "1.2.0",
            "_view_count": null,
            "flex_flow": null,
            "width": null,
            "min_width": null,
            "border": null,
            "align_items": null,
            "bottom": null,
            "_model_module": "@jupyter-widgets/base",
            "top": null,
            "grid_column": null,
            "overflow_y": null,
            "overflow_x": null,
            "grid_auto_flow": null,
            "grid_area": null,
            "grid_template_columns": null,
            "flex": null,
            "_model_name": "LayoutModel",
            "justify_items": null,
            "grid_row": null,
            "max_height": null,
            "align_content": null,
            "visibility": null,
            "align_self": null,
            "height": null,
            "min_height": null,
            "padding": null,
            "grid_auto_rows": null,
            "grid_gap": null,
            "max_width": null,
            "order": null,
            "_view_module_version": "1.2.0",
            "grid_template_areas": null,
            "object_position": null,
            "object_fit": null,
            "grid_auto_columns": null,
            "margin": null,
            "display": null,
            "left": null
          }
        },
        "d3446b845ac44b4a85ae0191b19c34ea": {
          "model_module": "@jupyter-widgets/controls",
          "model_name": "FloatProgressModel",
          "state": {
            "_view_name": "ProgressView",
            "style": "IPY_MODEL_318fad8975694607b4629c6c6e8f0822",
            "_dom_classes": [],
            "description": "Downloading: 100%",
            "_model_name": "FloatProgressModel",
            "bar_style": "success",
            "max": 231508,
            "_view_module": "@jupyter-widgets/controls",
            "_model_module_version": "1.5.0",
            "value": 231508,
            "_view_count": null,
            "_view_module_version": "1.5.0",
            "orientation": "horizontal",
            "min": 0,
            "description_tooltip": null,
            "_model_module": "@jupyter-widgets/controls",
            "layout": "IPY_MODEL_3537c275e35942e39dfa95d5fe488eb6"
          }
        },
        "dc67edd4da2247e598e2b0acf7ca5fab": {
          "model_module": "@jupyter-widgets/controls",
          "model_name": "HTMLModel",
          "state": {
            "_view_name": "HTMLView",
            "style": "IPY_MODEL_c80d82fcfb604c869b2ed38bff81ff55",
            "_dom_classes": [],
            "description": "",
            "_model_name": "HTMLModel",
            "placeholder": "​",
            "_view_module": "@jupyter-widgets/controls",
            "_model_module_version": "1.5.0",
            "value": " 232k/232k [00:17&lt;00:00, 13.0kB/s]",
            "_view_count": null,
            "_view_module_version": "1.5.0",
            "description_tooltip": null,
            "_model_module": "@jupyter-widgets/controls",
            "layout": "IPY_MODEL_7e902960a0014b5d8c394200e0859216"
          }
        },
        "318fad8975694607b4629c6c6e8f0822": {
          "model_module": "@jupyter-widgets/controls",
          "model_name": "ProgressStyleModel",
          "state": {
            "_view_name": "StyleView",
            "_model_name": "ProgressStyleModel",
            "description_width": "initial",
            "_view_module": "@jupyter-widgets/base",
            "_model_module_version": "1.5.0",
            "_view_count": null,
            "_view_module_version": "1.2.0",
            "bar_color": null,
            "_model_module": "@jupyter-widgets/controls"
          }
        },
        "3537c275e35942e39dfa95d5fe488eb6": {
          "model_module": "@jupyter-widgets/base",
          "model_name": "LayoutModel",
          "state": {
            "_view_name": "LayoutView",
            "grid_template_rows": null,
            "right": null,
            "justify_content": null,
            "_view_module": "@jupyter-widgets/base",
            "overflow": null,
            "_model_module_version": "1.2.0",
            "_view_count": null,
            "flex_flow": null,
            "width": null,
            "min_width": null,
            "border": null,
            "align_items": null,
            "bottom": null,
            "_model_module": "@jupyter-widgets/base",
            "top": null,
            "grid_column": null,
            "overflow_y": null,
            "overflow_x": null,
            "grid_auto_flow": null,
            "grid_area": null,
            "grid_template_columns": null,
            "flex": null,
            "_model_name": "LayoutModel",
            "justify_items": null,
            "grid_row": null,
            "max_height": null,
            "align_content": null,
            "visibility": null,
            "align_self": null,
            "height": null,
            "min_height": null,
            "padding": null,
            "grid_auto_rows": null,
            "grid_gap": null,
            "max_width": null,
            "order": null,
            "_view_module_version": "1.2.0",
            "grid_template_areas": null,
            "object_position": null,
            "object_fit": null,
            "grid_auto_columns": null,
            "margin": null,
            "display": null,
            "left": null
          }
        },
        "c80d82fcfb604c869b2ed38bff81ff55": {
          "model_module": "@jupyter-widgets/controls",
          "model_name": "DescriptionStyleModel",
          "state": {
            "_view_name": "StyleView",
            "_model_name": "DescriptionStyleModel",
            "description_width": "",
            "_view_module": "@jupyter-widgets/base",
            "_model_module_version": "1.5.0",
            "_view_count": null,
            "_view_module_version": "1.2.0",
            "_model_module": "@jupyter-widgets/controls"
          }
        },
        "7e902960a0014b5d8c394200e0859216": {
          "model_module": "@jupyter-widgets/base",
          "model_name": "LayoutModel",
          "state": {
            "_view_name": "LayoutView",
            "grid_template_rows": null,
            "right": null,
            "justify_content": null,
            "_view_module": "@jupyter-widgets/base",
            "overflow": null,
            "_model_module_version": "1.2.0",
            "_view_count": null,
            "flex_flow": null,
            "width": null,
            "min_width": null,
            "border": null,
            "align_items": null,
            "bottom": null,
            "_model_module": "@jupyter-widgets/base",
            "top": null,
            "grid_column": null,
            "overflow_y": null,
            "overflow_x": null,
            "grid_auto_flow": null,
            "grid_area": null,
            "grid_template_columns": null,
            "flex": null,
            "_model_name": "LayoutModel",
            "justify_items": null,
            "grid_row": null,
            "max_height": null,
            "align_content": null,
            "visibility": null,
            "align_self": null,
            "height": null,
            "min_height": null,
            "padding": null,
            "grid_auto_rows": null,
            "grid_gap": null,
            "max_width": null,
            "order": null,
            "_view_module_version": "1.2.0",
            "grid_template_areas": null,
            "object_position": null,
            "object_fit": null,
            "grid_auto_columns": null,
            "margin": null,
            "display": null,
            "left": null
          }
        },
        "cff14a96ea5c4fab91d8117422134f84": {
          "model_module": "@jupyter-widgets/controls",
          "model_name": "HBoxModel",
          "state": {
            "_view_name": "HBoxView",
            "_dom_classes": [],
            "_model_name": "HBoxModel",
            "_view_module": "@jupyter-widgets/controls",
            "_model_module_version": "1.5.0",
            "_view_count": null,
            "_view_module_version": "1.5.0",
            "box_style": "",
            "layout": "IPY_MODEL_0e6fe3ac70c84121a6395d7ceb4299fb",
            "_model_module": "@jupyter-widgets/controls",
            "children": [
              "IPY_MODEL_2b4bbb5f21f04ceea1fae572bf911e49",
              "IPY_MODEL_85acec46d18747aa9849754dae8cc59f"
            ]
          }
        },
        "0e6fe3ac70c84121a6395d7ceb4299fb": {
          "model_module": "@jupyter-widgets/base",
          "model_name": "LayoutModel",
          "state": {
            "_view_name": "LayoutView",
            "grid_template_rows": null,
            "right": null,
            "justify_content": null,
            "_view_module": "@jupyter-widgets/base",
            "overflow": null,
            "_model_module_version": "1.2.0",
            "_view_count": null,
            "flex_flow": null,
            "width": null,
            "min_width": null,
            "border": null,
            "align_items": null,
            "bottom": null,
            "_model_module": "@jupyter-widgets/base",
            "top": null,
            "grid_column": null,
            "overflow_y": null,
            "overflow_x": null,
            "grid_auto_flow": null,
            "grid_area": null,
            "grid_template_columns": null,
            "flex": null,
            "_model_name": "LayoutModel",
            "justify_items": null,
            "grid_row": null,
            "max_height": null,
            "align_content": null,
            "visibility": null,
            "align_self": null,
            "height": null,
            "min_height": null,
            "padding": null,
            "grid_auto_rows": null,
            "grid_gap": null,
            "max_width": null,
            "order": null,
            "_view_module_version": "1.2.0",
            "grid_template_areas": null,
            "object_position": null,
            "object_fit": null,
            "grid_auto_columns": null,
            "margin": null,
            "display": null,
            "left": null
          }
        },
        "2b4bbb5f21f04ceea1fae572bf911e49": {
          "model_module": "@jupyter-widgets/controls",
          "model_name": "FloatProgressModel",
          "state": {
            "_view_name": "ProgressView",
            "style": "IPY_MODEL_247795a4ee1e4d3ab41660a4c9a9721b",
            "_dom_classes": [],
            "description": "Downloading: 100%",
            "_model_name": "FloatProgressModel",
            "bar_style": "success",
            "max": 466062,
            "_view_module": "@jupyter-widgets/controls",
            "_model_module_version": "1.5.0",
            "value": 466062,
            "_view_count": null,
            "_view_module_version": "1.5.0",
            "orientation": "horizontal",
            "min": 0,
            "description_tooltip": null,
            "_model_module": "@jupyter-widgets/controls",
            "layout": "IPY_MODEL_86ba5eaca48342de8cdc1d1ca76015ad"
          }
        },
        "85acec46d18747aa9849754dae8cc59f": {
          "model_module": "@jupyter-widgets/controls",
          "model_name": "HTMLModel",
          "state": {
            "_view_name": "HTMLView",
            "style": "IPY_MODEL_6b2ee4dc5e2d4225b3b3659af1f75fe3",
            "_dom_classes": [],
            "description": "",
            "_model_name": "HTMLModel",
            "placeholder": "​",
            "_view_module": "@jupyter-widgets/controls",
            "_model_module_version": "1.5.0",
            "value": " 466k/466k [00:00&lt;00:00, 1.27MB/s]",
            "_view_count": null,
            "_view_module_version": "1.5.0",
            "description_tooltip": null,
            "_model_module": "@jupyter-widgets/controls",
            "layout": "IPY_MODEL_e1dcbea6f85149449ab1ef6b9174d545"
          }
        },
        "247795a4ee1e4d3ab41660a4c9a9721b": {
          "model_module": "@jupyter-widgets/controls",
          "model_name": "ProgressStyleModel",
          "state": {
            "_view_name": "StyleView",
            "_model_name": "ProgressStyleModel",
            "description_width": "initial",
            "_view_module": "@jupyter-widgets/base",
            "_model_module_version": "1.5.0",
            "_view_count": null,
            "_view_module_version": "1.2.0",
            "bar_color": null,
            "_model_module": "@jupyter-widgets/controls"
          }
        },
        "86ba5eaca48342de8cdc1d1ca76015ad": {
          "model_module": "@jupyter-widgets/base",
          "model_name": "LayoutModel",
          "state": {
            "_view_name": "LayoutView",
            "grid_template_rows": null,
            "right": null,
            "justify_content": null,
            "_view_module": "@jupyter-widgets/base",
            "overflow": null,
            "_model_module_version": "1.2.0",
            "_view_count": null,
            "flex_flow": null,
            "width": null,
            "min_width": null,
            "border": null,
            "align_items": null,
            "bottom": null,
            "_model_module": "@jupyter-widgets/base",
            "top": null,
            "grid_column": null,
            "overflow_y": null,
            "overflow_x": null,
            "grid_auto_flow": null,
            "grid_area": null,
            "grid_template_columns": null,
            "flex": null,
            "_model_name": "LayoutModel",
            "justify_items": null,
            "grid_row": null,
            "max_height": null,
            "align_content": null,
            "visibility": null,
            "align_self": null,
            "height": null,
            "min_height": null,
            "padding": null,
            "grid_auto_rows": null,
            "grid_gap": null,
            "max_width": null,
            "order": null,
            "_view_module_version": "1.2.0",
            "grid_template_areas": null,
            "object_position": null,
            "object_fit": null,
            "grid_auto_columns": null,
            "margin": null,
            "display": null,
            "left": null
          }
        },
        "6b2ee4dc5e2d4225b3b3659af1f75fe3": {
          "model_module": "@jupyter-widgets/controls",
          "model_name": "DescriptionStyleModel",
          "state": {
            "_view_name": "StyleView",
            "_model_name": "DescriptionStyleModel",
            "description_width": "",
            "_view_module": "@jupyter-widgets/base",
            "_model_module_version": "1.5.0",
            "_view_count": null,
            "_view_module_version": "1.2.0",
            "_model_module": "@jupyter-widgets/controls"
          }
        },
        "e1dcbea6f85149449ab1ef6b9174d545": {
          "model_module": "@jupyter-widgets/base",
          "model_name": "LayoutModel",
          "state": {
            "_view_name": "LayoutView",
            "grid_template_rows": null,
            "right": null,
            "justify_content": null,
            "_view_module": "@jupyter-widgets/base",
            "overflow": null,
            "_model_module_version": "1.2.0",
            "_view_count": null,
            "flex_flow": null,
            "width": null,
            "min_width": null,
            "border": null,
            "align_items": null,
            "bottom": null,
            "_model_module": "@jupyter-widgets/base",
            "top": null,
            "grid_column": null,
            "overflow_y": null,
            "overflow_x": null,
            "grid_auto_flow": null,
            "grid_area": null,
            "grid_template_columns": null,
            "flex": null,
            "_model_name": "LayoutModel",
            "justify_items": null,
            "grid_row": null,
            "max_height": null,
            "align_content": null,
            "visibility": null,
            "align_self": null,
            "height": null,
            "min_height": null,
            "padding": null,
            "grid_auto_rows": null,
            "grid_gap": null,
            "max_width": null,
            "order": null,
            "_view_module_version": "1.2.0",
            "grid_template_areas": null,
            "object_position": null,
            "object_fit": null,
            "grid_auto_columns": null,
            "margin": null,
            "display": null,
            "left": null
          }
        },
        "a00756a44ef143c2a6fe9c810dfadaeb": {
          "model_module": "@jupyter-widgets/controls",
          "model_name": "HBoxModel",
          "state": {
            "_view_name": "HBoxView",
            "_dom_classes": [],
            "_model_name": "HBoxModel",
            "_view_module": "@jupyter-widgets/controls",
            "_model_module_version": "1.5.0",
            "_view_count": null,
            "_view_module_version": "1.5.0",
            "box_style": "",
            "layout": "IPY_MODEL_7909a1c07c86427ba9d1270a2c09b47a",
            "_model_module": "@jupyter-widgets/controls",
            "children": [
              "IPY_MODEL_8bf1542c91aa492d979909106ad572b4",
              "IPY_MODEL_52e944ee041649e3a3ad02b81c65bc9b"
            ]
          }
        },
        "7909a1c07c86427ba9d1270a2c09b47a": {
          "model_module": "@jupyter-widgets/base",
          "model_name": "LayoutModel",
          "state": {
            "_view_name": "LayoutView",
            "grid_template_rows": null,
            "right": null,
            "justify_content": null,
            "_view_module": "@jupyter-widgets/base",
            "overflow": null,
            "_model_module_version": "1.2.0",
            "_view_count": null,
            "flex_flow": null,
            "width": null,
            "min_width": null,
            "border": null,
            "align_items": null,
            "bottom": null,
            "_model_module": "@jupyter-widgets/base",
            "top": null,
            "grid_column": null,
            "overflow_y": null,
            "overflow_x": null,
            "grid_auto_flow": null,
            "grid_area": null,
            "grid_template_columns": null,
            "flex": null,
            "_model_name": "LayoutModel",
            "justify_items": null,
            "grid_row": null,
            "max_height": null,
            "align_content": null,
            "visibility": null,
            "align_self": null,
            "height": null,
            "min_height": null,
            "padding": null,
            "grid_auto_rows": null,
            "grid_gap": null,
            "max_width": null,
            "order": null,
            "_view_module_version": "1.2.0",
            "grid_template_areas": null,
            "object_position": null,
            "object_fit": null,
            "grid_auto_columns": null,
            "margin": null,
            "display": null,
            "left": null
          }
        },
        "8bf1542c91aa492d979909106ad572b4": {
          "model_module": "@jupyter-widgets/controls",
          "model_name": "FloatProgressModel",
          "state": {
            "_view_name": "ProgressView",
            "style": "IPY_MODEL_01fd4be4db4f442a82ab88923d4a61e2",
            "_dom_classes": [],
            "description": "Downloading: 100%",
            "_model_name": "FloatProgressModel",
            "bar_style": "success",
            "max": 28,
            "_view_module": "@jupyter-widgets/controls",
            "_model_module_version": "1.5.0",
            "value": 28,
            "_view_count": null,
            "_view_module_version": "1.5.0",
            "orientation": "horizontal",
            "min": 0,
            "description_tooltip": null,
            "_model_module": "@jupyter-widgets/controls",
            "layout": "IPY_MODEL_d35472e3596b4798af791b63796d55a5"
          }
        },
        "52e944ee041649e3a3ad02b81c65bc9b": {
          "model_module": "@jupyter-widgets/controls",
          "model_name": "HTMLModel",
          "state": {
            "_view_name": "HTMLView",
            "style": "IPY_MODEL_24c323780520424a9621f397c95631c0",
            "_dom_classes": [],
            "description": "",
            "_model_name": "HTMLModel",
            "placeholder": "​",
            "_view_module": "@jupyter-widgets/controls",
            "_model_module_version": "1.5.0",
            "value": " 28.0/28.0 [00:00&lt;00:00, 126B/s]",
            "_view_count": null,
            "_view_module_version": "1.5.0",
            "description_tooltip": null,
            "_model_module": "@jupyter-widgets/controls",
            "layout": "IPY_MODEL_0c046d57d9c64383bb2a4a85180ad471"
          }
        },
        "01fd4be4db4f442a82ab88923d4a61e2": {
          "model_module": "@jupyter-widgets/controls",
          "model_name": "ProgressStyleModel",
          "state": {
            "_view_name": "StyleView",
            "_model_name": "ProgressStyleModel",
            "description_width": "initial",
            "_view_module": "@jupyter-widgets/base",
            "_model_module_version": "1.5.0",
            "_view_count": null,
            "_view_module_version": "1.2.0",
            "bar_color": null,
            "_model_module": "@jupyter-widgets/controls"
          }
        },
        "d35472e3596b4798af791b63796d55a5": {
          "model_module": "@jupyter-widgets/base",
          "model_name": "LayoutModel",
          "state": {
            "_view_name": "LayoutView",
            "grid_template_rows": null,
            "right": null,
            "justify_content": null,
            "_view_module": "@jupyter-widgets/base",
            "overflow": null,
            "_model_module_version": "1.2.0",
            "_view_count": null,
            "flex_flow": null,
            "width": null,
            "min_width": null,
            "border": null,
            "align_items": null,
            "bottom": null,
            "_model_module": "@jupyter-widgets/base",
            "top": null,
            "grid_column": null,
            "overflow_y": null,
            "overflow_x": null,
            "grid_auto_flow": null,
            "grid_area": null,
            "grid_template_columns": null,
            "flex": null,
            "_model_name": "LayoutModel",
            "justify_items": null,
            "grid_row": null,
            "max_height": null,
            "align_content": null,
            "visibility": null,
            "align_self": null,
            "height": null,
            "min_height": null,
            "padding": null,
            "grid_auto_rows": null,
            "grid_gap": null,
            "max_width": null,
            "order": null,
            "_view_module_version": "1.2.0",
            "grid_template_areas": null,
            "object_position": null,
            "object_fit": null,
            "grid_auto_columns": null,
            "margin": null,
            "display": null,
            "left": null
          }
        },
        "24c323780520424a9621f397c95631c0": {
          "model_module": "@jupyter-widgets/controls",
          "model_name": "DescriptionStyleModel",
          "state": {
            "_view_name": "StyleView",
            "_model_name": "DescriptionStyleModel",
            "description_width": "",
            "_view_module": "@jupyter-widgets/base",
            "_model_module_version": "1.5.0",
            "_view_count": null,
            "_view_module_version": "1.2.0",
            "_model_module": "@jupyter-widgets/controls"
          }
        },
        "0c046d57d9c64383bb2a4a85180ad471": {
          "model_module": "@jupyter-widgets/base",
          "model_name": "LayoutModel",
          "state": {
            "_view_name": "LayoutView",
            "grid_template_rows": null,
            "right": null,
            "justify_content": null,
            "_view_module": "@jupyter-widgets/base",
            "overflow": null,
            "_model_module_version": "1.2.0",
            "_view_count": null,
            "flex_flow": null,
            "width": null,
            "min_width": null,
            "border": null,
            "align_items": null,
            "bottom": null,
            "_model_module": "@jupyter-widgets/base",
            "top": null,
            "grid_column": null,
            "overflow_y": null,
            "overflow_x": null,
            "grid_auto_flow": null,
            "grid_area": null,
            "grid_template_columns": null,
            "flex": null,
            "_model_name": "LayoutModel",
            "justify_items": null,
            "grid_row": null,
            "max_height": null,
            "align_content": null,
            "visibility": null,
            "align_self": null,
            "height": null,
            "min_height": null,
            "padding": null,
            "grid_auto_rows": null,
            "grid_gap": null,
            "max_width": null,
            "order": null,
            "_view_module_version": "1.2.0",
            "grid_template_areas": null,
            "object_position": null,
            "object_fit": null,
            "grid_auto_columns": null,
            "margin": null,
            "display": null,
            "left": null
          }
        },
        "f0c7dfe4f6274bddac5eeeccd8ebc04a": {
          "model_module": "@jupyter-widgets/controls",
          "model_name": "HBoxModel",
          "state": {
            "_view_name": "HBoxView",
            "_dom_classes": [],
            "_model_name": "HBoxModel",
            "_view_module": "@jupyter-widgets/controls",
            "_model_module_version": "1.5.0",
            "_view_count": null,
            "_view_module_version": "1.5.0",
            "box_style": "",
            "layout": "IPY_MODEL_ea355c2cdc004e09ad739eafd227d7da",
            "_model_module": "@jupyter-widgets/controls",
            "children": [
              "IPY_MODEL_1920e317c5a24ec1849351d9696e15d8",
              "IPY_MODEL_033bc89e49ee47d2a93969ee0507a3ca"
            ]
          }
        },
        "ea355c2cdc004e09ad739eafd227d7da": {
          "model_module": "@jupyter-widgets/base",
          "model_name": "LayoutModel",
          "state": {
            "_view_name": "LayoutView",
            "grid_template_rows": null,
            "right": null,
            "justify_content": null,
            "_view_module": "@jupyter-widgets/base",
            "overflow": null,
            "_model_module_version": "1.2.0",
            "_view_count": null,
            "flex_flow": null,
            "width": null,
            "min_width": null,
            "border": null,
            "align_items": null,
            "bottom": null,
            "_model_module": "@jupyter-widgets/base",
            "top": null,
            "grid_column": null,
            "overflow_y": null,
            "overflow_x": null,
            "grid_auto_flow": null,
            "grid_area": null,
            "grid_template_columns": null,
            "flex": null,
            "_model_name": "LayoutModel",
            "justify_items": null,
            "grid_row": null,
            "max_height": null,
            "align_content": null,
            "visibility": null,
            "align_self": null,
            "height": null,
            "min_height": null,
            "padding": null,
            "grid_auto_rows": null,
            "grid_gap": null,
            "max_width": null,
            "order": null,
            "_view_module_version": "1.2.0",
            "grid_template_areas": null,
            "object_position": null,
            "object_fit": null,
            "grid_auto_columns": null,
            "margin": null,
            "display": null,
            "left": null
          }
        },
        "1920e317c5a24ec1849351d9696e15d8": {
          "model_module": "@jupyter-widgets/controls",
          "model_name": "FloatProgressModel",
          "state": {
            "_view_name": "ProgressView",
            "style": "IPY_MODEL_34c695ec39f14a8eaa13383c7ff09380",
            "_dom_classes": [],
            "description": "Downloading: ",
            "_model_name": "FloatProgressModel",
            "bar_style": "success",
            "max": 1905,
            "_view_module": "@jupyter-widgets/controls",
            "_model_module_version": "1.5.0",
            "value": 1905,
            "_view_count": null,
            "_view_module_version": "1.5.0",
            "orientation": "horizontal",
            "min": 0,
            "description_tooltip": null,
            "_model_module": "@jupyter-widgets/controls",
            "layout": "IPY_MODEL_1f1de1fc913f40e0a6cd070478a81010"
          }
        },
        "033bc89e49ee47d2a93969ee0507a3ca": {
          "model_module": "@jupyter-widgets/controls",
          "model_name": "HTMLModel",
          "state": {
            "_view_name": "HTMLView",
            "style": "IPY_MODEL_47bb96fffcd34f42923e6abc51e8aa9d",
            "_dom_classes": [],
            "description": "",
            "_model_name": "HTMLModel",
            "placeholder": "​",
            "_view_module": "@jupyter-widgets/controls",
            "_model_module_version": "1.5.0",
            "value": " 4.38k/? [00:17&lt;00:00, 253B/s]",
            "_view_count": null,
            "_view_module_version": "1.5.0",
            "description_tooltip": null,
            "_model_module": "@jupyter-widgets/controls",
            "layout": "IPY_MODEL_ec77163d191742dd9ae145dc378c652e"
          }
        },
        "34c695ec39f14a8eaa13383c7ff09380": {
          "model_module": "@jupyter-widgets/controls",
          "model_name": "ProgressStyleModel",
          "state": {
            "_view_name": "StyleView",
            "_model_name": "ProgressStyleModel",
            "description_width": "initial",
            "_view_module": "@jupyter-widgets/base",
            "_model_module_version": "1.5.0",
            "_view_count": null,
            "_view_module_version": "1.2.0",
            "bar_color": null,
            "_model_module": "@jupyter-widgets/controls"
          }
        },
        "1f1de1fc913f40e0a6cd070478a81010": {
          "model_module": "@jupyter-widgets/base",
          "model_name": "LayoutModel",
          "state": {
            "_view_name": "LayoutView",
            "grid_template_rows": null,
            "right": null,
            "justify_content": null,
            "_view_module": "@jupyter-widgets/base",
            "overflow": null,
            "_model_module_version": "1.2.0",
            "_view_count": null,
            "flex_flow": null,
            "width": null,
            "min_width": null,
            "border": null,
            "align_items": null,
            "bottom": null,
            "_model_module": "@jupyter-widgets/base",
            "top": null,
            "grid_column": null,
            "overflow_y": null,
            "overflow_x": null,
            "grid_auto_flow": null,
            "grid_area": null,
            "grid_template_columns": null,
            "flex": null,
            "_model_name": "LayoutModel",
            "justify_items": null,
            "grid_row": null,
            "max_height": null,
            "align_content": null,
            "visibility": null,
            "align_self": null,
            "height": null,
            "min_height": null,
            "padding": null,
            "grid_auto_rows": null,
            "grid_gap": null,
            "max_width": null,
            "order": null,
            "_view_module_version": "1.2.0",
            "grid_template_areas": null,
            "object_position": null,
            "object_fit": null,
            "grid_auto_columns": null,
            "margin": null,
            "display": null,
            "left": null
          }
        },
        "47bb96fffcd34f42923e6abc51e8aa9d": {
          "model_module": "@jupyter-widgets/controls",
          "model_name": "DescriptionStyleModel",
          "state": {
            "_view_name": "StyleView",
            "_model_name": "DescriptionStyleModel",
            "description_width": "",
            "_view_module": "@jupyter-widgets/base",
            "_model_module_version": "1.5.0",
            "_view_count": null,
            "_view_module_version": "1.2.0",
            "_model_module": "@jupyter-widgets/controls"
          }
        },
        "ec77163d191742dd9ae145dc378c652e": {
          "model_module": "@jupyter-widgets/base",
          "model_name": "LayoutModel",
          "state": {
            "_view_name": "LayoutView",
            "grid_template_rows": null,
            "right": null,
            "justify_content": null,
            "_view_module": "@jupyter-widgets/base",
            "overflow": null,
            "_model_module_version": "1.2.0",
            "_view_count": null,
            "flex_flow": null,
            "width": null,
            "min_width": null,
            "border": null,
            "align_items": null,
            "bottom": null,
            "_model_module": "@jupyter-widgets/base",
            "top": null,
            "grid_column": null,
            "overflow_y": null,
            "overflow_x": null,
            "grid_auto_flow": null,
            "grid_area": null,
            "grid_template_columns": null,
            "flex": null,
            "_model_name": "LayoutModel",
            "justify_items": null,
            "grid_row": null,
            "max_height": null,
            "align_content": null,
            "visibility": null,
            "align_self": null,
            "height": null,
            "min_height": null,
            "padding": null,
            "grid_auto_rows": null,
            "grid_gap": null,
            "max_width": null,
            "order": null,
            "_view_module_version": "1.2.0",
            "grid_template_areas": null,
            "object_position": null,
            "object_fit": null,
            "grid_auto_columns": null,
            "margin": null,
            "display": null,
            "left": null
          }
        },
        "0635a4a07d0c4fb29f0e2c600dba0583": {
          "model_module": "@jupyter-widgets/controls",
          "model_name": "HBoxModel",
          "state": {
            "_view_name": "HBoxView",
            "_dom_classes": [],
            "_model_name": "HBoxModel",
            "_view_module": "@jupyter-widgets/controls",
            "_model_module_version": "1.5.0",
            "_view_count": null,
            "_view_module_version": "1.5.0",
            "box_style": "",
            "layout": "IPY_MODEL_5236849975644dabba84470185cba8c3",
            "_model_module": "@jupyter-widgets/controls",
            "children": [
              "IPY_MODEL_38ddb0752a46417eb23d989efcd2fa21",
              "IPY_MODEL_76dbd39678dd4405b8e99e930668810e"
            ]
          }
        },
        "5236849975644dabba84470185cba8c3": {
          "model_module": "@jupyter-widgets/base",
          "model_name": "LayoutModel",
          "state": {
            "_view_name": "LayoutView",
            "grid_template_rows": null,
            "right": null,
            "justify_content": null,
            "_view_module": "@jupyter-widgets/base",
            "overflow": null,
            "_model_module_version": "1.2.0",
            "_view_count": null,
            "flex_flow": null,
            "width": null,
            "min_width": null,
            "border": null,
            "align_items": null,
            "bottom": null,
            "_model_module": "@jupyter-widgets/base",
            "top": null,
            "grid_column": null,
            "overflow_y": null,
            "overflow_x": null,
            "grid_auto_flow": null,
            "grid_area": null,
            "grid_template_columns": null,
            "flex": null,
            "_model_name": "LayoutModel",
            "justify_items": null,
            "grid_row": null,
            "max_height": null,
            "align_content": null,
            "visibility": null,
            "align_self": null,
            "height": null,
            "min_height": null,
            "padding": null,
            "grid_auto_rows": null,
            "grid_gap": null,
            "max_width": null,
            "order": null,
            "_view_module_version": "1.2.0",
            "grid_template_areas": null,
            "object_position": null,
            "object_fit": null,
            "grid_auto_columns": null,
            "margin": null,
            "display": null,
            "left": null
          }
        },
        "38ddb0752a46417eb23d989efcd2fa21": {
          "model_module": "@jupyter-widgets/controls",
          "model_name": "FloatProgressModel",
          "state": {
            "_view_name": "ProgressView",
            "style": "IPY_MODEL_c3e4a4c87f894a9aa1275f21d242bcaf",
            "_dom_classes": [],
            "description": "100%",
            "_model_name": "FloatProgressModel",
            "bar_style": "success",
            "max": 1,
            "_view_module": "@jupyter-widgets/controls",
            "_model_module_version": "1.5.0",
            "value": 1,
            "_view_count": null,
            "_view_module_version": "1.5.0",
            "orientation": "horizontal",
            "min": 0,
            "description_tooltip": null,
            "_model_module": "@jupyter-widgets/controls",
            "layout": "IPY_MODEL_5f19e7f09d73429a9447296ac8a08256"
          }
        },
        "76dbd39678dd4405b8e99e930668810e": {
          "model_module": "@jupyter-widgets/controls",
          "model_name": "HTMLModel",
          "state": {
            "_view_name": "HTMLView",
            "style": "IPY_MODEL_96f7f8f1bca74bc99e3c5325c98aef0b",
            "_dom_classes": [],
            "description": "",
            "_model_name": "HTMLModel",
            "placeholder": "​",
            "_view_module": "@jupyter-widgets/controls",
            "_model_module_version": "1.5.0",
            "value": " 1/1 [00:59&lt;00:00, 59.47s/ba]",
            "_view_count": null,
            "_view_module_version": "1.5.0",
            "description_tooltip": null,
            "_model_module": "@jupyter-widgets/controls",
            "layout": "IPY_MODEL_7a82d542af18441ca7f92fa96fb98570"
          }
        },
        "c3e4a4c87f894a9aa1275f21d242bcaf": {
          "model_module": "@jupyter-widgets/controls",
          "model_name": "ProgressStyleModel",
          "state": {
            "_view_name": "StyleView",
            "_model_name": "ProgressStyleModel",
            "description_width": "initial",
            "_view_module": "@jupyter-widgets/base",
            "_model_module_version": "1.5.0",
            "_view_count": null,
            "_view_module_version": "1.2.0",
            "bar_color": null,
            "_model_module": "@jupyter-widgets/controls"
          }
        },
        "5f19e7f09d73429a9447296ac8a08256": {
          "model_module": "@jupyter-widgets/base",
          "model_name": "LayoutModel",
          "state": {
            "_view_name": "LayoutView",
            "grid_template_rows": null,
            "right": null,
            "justify_content": null,
            "_view_module": "@jupyter-widgets/base",
            "overflow": null,
            "_model_module_version": "1.2.0",
            "_view_count": null,
            "flex_flow": null,
            "width": null,
            "min_width": null,
            "border": null,
            "align_items": null,
            "bottom": null,
            "_model_module": "@jupyter-widgets/base",
            "top": null,
            "grid_column": null,
            "overflow_y": null,
            "overflow_x": null,
            "grid_auto_flow": null,
            "grid_area": null,
            "grid_template_columns": null,
            "flex": null,
            "_model_name": "LayoutModel",
            "justify_items": null,
            "grid_row": null,
            "max_height": null,
            "align_content": null,
            "visibility": null,
            "align_self": null,
            "height": null,
            "min_height": null,
            "padding": null,
            "grid_auto_rows": null,
            "grid_gap": null,
            "max_width": null,
            "order": null,
            "_view_module_version": "1.2.0",
            "grid_template_areas": null,
            "object_position": null,
            "object_fit": null,
            "grid_auto_columns": null,
            "margin": null,
            "display": null,
            "left": null
          }
        },
        "96f7f8f1bca74bc99e3c5325c98aef0b": {
          "model_module": "@jupyter-widgets/controls",
          "model_name": "DescriptionStyleModel",
          "state": {
            "_view_name": "StyleView",
            "_model_name": "DescriptionStyleModel",
            "description_width": "",
            "_view_module": "@jupyter-widgets/base",
            "_model_module_version": "1.5.0",
            "_view_count": null,
            "_view_module_version": "1.2.0",
            "_model_module": "@jupyter-widgets/controls"
          }
        },
        "7a82d542af18441ca7f92fa96fb98570": {
          "model_module": "@jupyter-widgets/base",
          "model_name": "LayoutModel",
          "state": {
            "_view_name": "LayoutView",
            "grid_template_rows": null,
            "right": null,
            "justify_content": null,
            "_view_module": "@jupyter-widgets/base",
            "overflow": null,
            "_model_module_version": "1.2.0",
            "_view_count": null,
            "flex_flow": null,
            "width": null,
            "min_width": null,
            "border": null,
            "align_items": null,
            "bottom": null,
            "_model_module": "@jupyter-widgets/base",
            "top": null,
            "grid_column": null,
            "overflow_y": null,
            "overflow_x": null,
            "grid_auto_flow": null,
            "grid_area": null,
            "grid_template_columns": null,
            "flex": null,
            "_model_name": "LayoutModel",
            "justify_items": null,
            "grid_row": null,
            "max_height": null,
            "align_content": null,
            "visibility": null,
            "align_self": null,
            "height": null,
            "min_height": null,
            "padding": null,
            "grid_auto_rows": null,
            "grid_gap": null,
            "max_width": null,
            "order": null,
            "_view_module_version": "1.2.0",
            "grid_template_areas": null,
            "object_position": null,
            "object_fit": null,
            "grid_auto_columns": null,
            "margin": null,
            "display": null,
            "left": null
          }
        },
        "f34453cbceb3444faefd0d0c04313bce": {
          "model_module": "@jupyter-widgets/controls",
          "model_name": "HBoxModel",
          "state": {
            "_view_name": "HBoxView",
            "_dom_classes": [],
            "_model_name": "HBoxModel",
            "_view_module": "@jupyter-widgets/controls",
            "_model_module_version": "1.5.0",
            "_view_count": null,
            "_view_module_version": "1.5.0",
            "box_style": "",
            "layout": "IPY_MODEL_b7fea89590dd470d8ac2dbaf9433bf15",
            "_model_module": "@jupyter-widgets/controls",
            "children": [
              "IPY_MODEL_8ae7677f021241be97a3117e85dc3dfd",
              "IPY_MODEL_750f087735e646dd988db6fb64b36694"
            ]
          }
        },
        "b7fea89590dd470d8ac2dbaf9433bf15": {
          "model_module": "@jupyter-widgets/base",
          "model_name": "LayoutModel",
          "state": {
            "_view_name": "LayoutView",
            "grid_template_rows": null,
            "right": null,
            "justify_content": null,
            "_view_module": "@jupyter-widgets/base",
            "overflow": null,
            "_model_module_version": "1.2.0",
            "_view_count": null,
            "flex_flow": null,
            "width": null,
            "min_width": null,
            "border": null,
            "align_items": null,
            "bottom": null,
            "_model_module": "@jupyter-widgets/base",
            "top": null,
            "grid_column": null,
            "overflow_y": null,
            "overflow_x": null,
            "grid_auto_flow": null,
            "grid_area": null,
            "grid_template_columns": null,
            "flex": null,
            "_model_name": "LayoutModel",
            "justify_items": null,
            "grid_row": null,
            "max_height": null,
            "align_content": null,
            "visibility": null,
            "align_self": null,
            "height": null,
            "min_height": null,
            "padding": null,
            "grid_auto_rows": null,
            "grid_gap": null,
            "max_width": null,
            "order": null,
            "_view_module_version": "1.2.0",
            "grid_template_areas": null,
            "object_position": null,
            "object_fit": null,
            "grid_auto_columns": null,
            "margin": null,
            "display": null,
            "left": null
          }
        },
        "8ae7677f021241be97a3117e85dc3dfd": {
          "model_module": "@jupyter-widgets/controls",
          "model_name": "FloatProgressModel",
          "state": {
            "_view_name": "ProgressView",
            "style": "IPY_MODEL_4579507859be4a8d9be8202af0b6d1e8",
            "_dom_classes": [],
            "description": "100%",
            "_model_name": "FloatProgressModel",
            "bar_style": "success",
            "max": 1,
            "_view_module": "@jupyter-widgets/controls",
            "_model_module_version": "1.5.0",
            "value": 1,
            "_view_count": null,
            "_view_module_version": "1.5.0",
            "orientation": "horizontal",
            "min": 0,
            "description_tooltip": null,
            "_model_module": "@jupyter-widgets/controls",
            "layout": "IPY_MODEL_ee2eb0b72c4a41bc94598999f4dcaf5f"
          }
        },
        "750f087735e646dd988db6fb64b36694": {
          "model_module": "@jupyter-widgets/controls",
          "model_name": "HTMLModel",
          "state": {
            "_view_name": "HTMLView",
            "style": "IPY_MODEL_6d30ba57852e41129275ecd560070dee",
            "_dom_classes": [],
            "description": "",
            "_model_name": "HTMLModel",
            "placeholder": "​",
            "_view_module": "@jupyter-widgets/controls",
            "_model_module_version": "1.5.0",
            "value": " 1/1 [00:51&lt;00:00, 51.78s/ba]",
            "_view_count": null,
            "_view_module_version": "1.5.0",
            "description_tooltip": null,
            "_model_module": "@jupyter-widgets/controls",
            "layout": "IPY_MODEL_0a5a41209bb342da906587c07b1fab35"
          }
        },
        "4579507859be4a8d9be8202af0b6d1e8": {
          "model_module": "@jupyter-widgets/controls",
          "model_name": "ProgressStyleModel",
          "state": {
            "_view_name": "StyleView",
            "_model_name": "ProgressStyleModel",
            "description_width": "initial",
            "_view_module": "@jupyter-widgets/base",
            "_model_module_version": "1.5.0",
            "_view_count": null,
            "_view_module_version": "1.2.0",
            "bar_color": null,
            "_model_module": "@jupyter-widgets/controls"
          }
        },
        "ee2eb0b72c4a41bc94598999f4dcaf5f": {
          "model_module": "@jupyter-widgets/base",
          "model_name": "LayoutModel",
          "state": {
            "_view_name": "LayoutView",
            "grid_template_rows": null,
            "right": null,
            "justify_content": null,
            "_view_module": "@jupyter-widgets/base",
            "overflow": null,
            "_model_module_version": "1.2.0",
            "_view_count": null,
            "flex_flow": null,
            "width": null,
            "min_width": null,
            "border": null,
            "align_items": null,
            "bottom": null,
            "_model_module": "@jupyter-widgets/base",
            "top": null,
            "grid_column": null,
            "overflow_y": null,
            "overflow_x": null,
            "grid_auto_flow": null,
            "grid_area": null,
            "grid_template_columns": null,
            "flex": null,
            "_model_name": "LayoutModel",
            "justify_items": null,
            "grid_row": null,
            "max_height": null,
            "align_content": null,
            "visibility": null,
            "align_self": null,
            "height": null,
            "min_height": null,
            "padding": null,
            "grid_auto_rows": null,
            "grid_gap": null,
            "max_width": null,
            "order": null,
            "_view_module_version": "1.2.0",
            "grid_template_areas": null,
            "object_position": null,
            "object_fit": null,
            "grid_auto_columns": null,
            "margin": null,
            "display": null,
            "left": null
          }
        },
        "6d30ba57852e41129275ecd560070dee": {
          "model_module": "@jupyter-widgets/controls",
          "model_name": "DescriptionStyleModel",
          "state": {
            "_view_name": "StyleView",
            "_model_name": "DescriptionStyleModel",
            "description_width": "",
            "_view_module": "@jupyter-widgets/base",
            "_model_module_version": "1.5.0",
            "_view_count": null,
            "_view_module_version": "1.2.0",
            "_model_module": "@jupyter-widgets/controls"
          }
        },
        "0a5a41209bb342da906587c07b1fab35": {
          "model_module": "@jupyter-widgets/base",
          "model_name": "LayoutModel",
          "state": {
            "_view_name": "LayoutView",
            "grid_template_rows": null,
            "right": null,
            "justify_content": null,
            "_view_module": "@jupyter-widgets/base",
            "overflow": null,
            "_model_module_version": "1.2.0",
            "_view_count": null,
            "flex_flow": null,
            "width": null,
            "min_width": null,
            "border": null,
            "align_items": null,
            "bottom": null,
            "_model_module": "@jupyter-widgets/base",
            "top": null,
            "grid_column": null,
            "overflow_y": null,
            "overflow_x": null,
            "grid_auto_flow": null,
            "grid_area": null,
            "grid_template_columns": null,
            "flex": null,
            "_model_name": "LayoutModel",
            "justify_items": null,
            "grid_row": null,
            "max_height": null,
            "align_content": null,
            "visibility": null,
            "align_self": null,
            "height": null,
            "min_height": null,
            "padding": null,
            "grid_auto_rows": null,
            "grid_gap": null,
            "max_width": null,
            "order": null,
            "_view_module_version": "1.2.0",
            "grid_template_areas": null,
            "object_position": null,
            "object_fit": null,
            "grid_auto_columns": null,
            "margin": null,
            "display": null,
            "left": null
          }
        },
        "304579311b8f4954a2c399d56a26c504": {
          "model_module": "@jupyter-widgets/controls",
          "model_name": "HBoxModel",
          "state": {
            "_view_name": "HBoxView",
            "_dom_classes": [],
            "_model_name": "HBoxModel",
            "_view_module": "@jupyter-widgets/controls",
            "_model_module_version": "1.5.0",
            "_view_count": null,
            "_view_module_version": "1.5.0",
            "box_style": "",
            "layout": "IPY_MODEL_aea78923d9764917a76161a66fafaa10",
            "_model_module": "@jupyter-widgets/controls",
            "children": [
              "IPY_MODEL_a0862bf4ab224440a713a20f24425926",
              "IPY_MODEL_38ec042476b249839d76ad0da3fb8d1c"
            ]
          }
        },
        "aea78923d9764917a76161a66fafaa10": {
          "model_module": "@jupyter-widgets/base",
          "model_name": "LayoutModel",
          "state": {
            "_view_name": "LayoutView",
            "grid_template_rows": null,
            "right": null,
            "justify_content": null,
            "_view_module": "@jupyter-widgets/base",
            "overflow": null,
            "_model_module_version": "1.2.0",
            "_view_count": null,
            "flex_flow": null,
            "width": null,
            "min_width": null,
            "border": null,
            "align_items": null,
            "bottom": null,
            "_model_module": "@jupyter-widgets/base",
            "top": null,
            "grid_column": null,
            "overflow_y": null,
            "overflow_x": null,
            "grid_auto_flow": null,
            "grid_area": null,
            "grid_template_columns": null,
            "flex": null,
            "_model_name": "LayoutModel",
            "justify_items": null,
            "grid_row": null,
            "max_height": null,
            "align_content": null,
            "visibility": null,
            "align_self": null,
            "height": null,
            "min_height": null,
            "padding": null,
            "grid_auto_rows": null,
            "grid_gap": null,
            "max_width": null,
            "order": null,
            "_view_module_version": "1.2.0",
            "grid_template_areas": null,
            "object_position": null,
            "object_fit": null,
            "grid_auto_columns": null,
            "margin": null,
            "display": null,
            "left": null
          }
        },
        "a0862bf4ab224440a713a20f24425926": {
          "model_module": "@jupyter-widgets/controls",
          "model_name": "FloatProgressModel",
          "state": {
            "_view_name": "ProgressView",
            "style": "IPY_MODEL_f52bc48090cb4781a451fac57bb493ac",
            "_dom_classes": [],
            "description": "Downloading: 100%",
            "_model_name": "FloatProgressModel",
            "bar_style": "success",
            "max": 267967963,
            "_view_module": "@jupyter-widgets/controls",
            "_model_module_version": "1.5.0",
            "value": 267967963,
            "_view_count": null,
            "_view_module_version": "1.5.0",
            "orientation": "horizontal",
            "min": 0,
            "description_tooltip": null,
            "_model_module": "@jupyter-widgets/controls",
            "layout": "IPY_MODEL_ef98e40411cf4064b6fcef83c1801b9e"
          }
        },
        "38ec042476b249839d76ad0da3fb8d1c": {
          "model_module": "@jupyter-widgets/controls",
          "model_name": "HTMLModel",
          "state": {
            "_view_name": "HTMLView",
            "style": "IPY_MODEL_1ae1e15a6e4940aab3b6517ed8eed290",
            "_dom_classes": [],
            "description": "",
            "_model_name": "HTMLModel",
            "placeholder": "​",
            "_view_module": "@jupyter-widgets/controls",
            "_model_module_version": "1.5.0",
            "value": " 268M/268M [00:05&lt;00:00, 49.2MB/s]",
            "_view_count": null,
            "_view_module_version": "1.5.0",
            "description_tooltip": null,
            "_model_module": "@jupyter-widgets/controls",
            "layout": "IPY_MODEL_0b5c274183644fbf8533573cc56f0bec"
          }
        },
        "f52bc48090cb4781a451fac57bb493ac": {
          "model_module": "@jupyter-widgets/controls",
          "model_name": "ProgressStyleModel",
          "state": {
            "_view_name": "StyleView",
            "_model_name": "ProgressStyleModel",
            "description_width": "initial",
            "_view_module": "@jupyter-widgets/base",
            "_model_module_version": "1.5.0",
            "_view_count": null,
            "_view_module_version": "1.2.0",
            "bar_color": null,
            "_model_module": "@jupyter-widgets/controls"
          }
        },
        "ef98e40411cf4064b6fcef83c1801b9e": {
          "model_module": "@jupyter-widgets/base",
          "model_name": "LayoutModel",
          "state": {
            "_view_name": "LayoutView",
            "grid_template_rows": null,
            "right": null,
            "justify_content": null,
            "_view_module": "@jupyter-widgets/base",
            "overflow": null,
            "_model_module_version": "1.2.0",
            "_view_count": null,
            "flex_flow": null,
            "width": null,
            "min_width": null,
            "border": null,
            "align_items": null,
            "bottom": null,
            "_model_module": "@jupyter-widgets/base",
            "top": null,
            "grid_column": null,
            "overflow_y": null,
            "overflow_x": null,
            "grid_auto_flow": null,
            "grid_area": null,
            "grid_template_columns": null,
            "flex": null,
            "_model_name": "LayoutModel",
            "justify_items": null,
            "grid_row": null,
            "max_height": null,
            "align_content": null,
            "visibility": null,
            "align_self": null,
            "height": null,
            "min_height": null,
            "padding": null,
            "grid_auto_rows": null,
            "grid_gap": null,
            "max_width": null,
            "order": null,
            "_view_module_version": "1.2.0",
            "grid_template_areas": null,
            "object_position": null,
            "object_fit": null,
            "grid_auto_columns": null,
            "margin": null,
            "display": null,
            "left": null
          }
        },
        "1ae1e15a6e4940aab3b6517ed8eed290": {
          "model_module": "@jupyter-widgets/controls",
          "model_name": "DescriptionStyleModel",
          "state": {
            "_view_name": "StyleView",
            "_model_name": "DescriptionStyleModel",
            "description_width": "",
            "_view_module": "@jupyter-widgets/base",
            "_model_module_version": "1.5.0",
            "_view_count": null,
            "_view_module_version": "1.2.0",
            "_model_module": "@jupyter-widgets/controls"
          }
        },
        "0b5c274183644fbf8533573cc56f0bec": {
          "model_module": "@jupyter-widgets/base",
          "model_name": "LayoutModel",
          "state": {
            "_view_name": "LayoutView",
            "grid_template_rows": null,
            "right": null,
            "justify_content": null,
            "_view_module": "@jupyter-widgets/base",
            "overflow": null,
            "_model_module_version": "1.2.0",
            "_view_count": null,
            "flex_flow": null,
            "width": null,
            "min_width": null,
            "border": null,
            "align_items": null,
            "bottom": null,
            "_model_module": "@jupyter-widgets/base",
            "top": null,
            "grid_column": null,
            "overflow_y": null,
            "overflow_x": null,
            "grid_auto_flow": null,
            "grid_area": null,
            "grid_template_columns": null,
            "flex": null,
            "_model_name": "LayoutModel",
            "justify_items": null,
            "grid_row": null,
            "max_height": null,
            "align_content": null,
            "visibility": null,
            "align_self": null,
            "height": null,
            "min_height": null,
            "padding": null,
            "grid_auto_rows": null,
            "grid_gap": null,
            "max_width": null,
            "order": null,
            "_view_module_version": "1.2.0",
            "grid_template_areas": null,
            "object_position": null,
            "object_fit": null,
            "grid_auto_columns": null,
            "margin": null,
            "display": null,
            "left": null
          }
        },
        "f3057963dde3489c97b79c23c148d031": {
          "model_module": "@jupyter-widgets/controls",
          "model_name": "HBoxModel",
          "state": {
            "_view_name": "HBoxView",
            "_dom_classes": [],
            "_model_name": "HBoxModel",
            "_view_module": "@jupyter-widgets/controls",
            "_model_module_version": "1.5.0",
            "_view_count": null,
            "_view_module_version": "1.5.0",
            "box_style": "",
            "layout": "IPY_MODEL_6b20687185104bcea5e6bb4383a19f09",
            "_model_module": "@jupyter-widgets/controls",
            "children": [
              "IPY_MODEL_9b29acbfca874382a2b33646e84aa58b",
              "IPY_MODEL_d1957382ce834fe0825def2abefc1afa"
            ]
          }
        },
        "6b20687185104bcea5e6bb4383a19f09": {
          "model_module": "@jupyter-widgets/base",
          "model_name": "LayoutModel",
          "state": {
            "_view_name": "LayoutView",
            "grid_template_rows": null,
            "right": null,
            "justify_content": null,
            "_view_module": "@jupyter-widgets/base",
            "overflow": null,
            "_model_module_version": "1.2.0",
            "_view_count": null,
            "flex_flow": null,
            "width": null,
            "min_width": null,
            "border": null,
            "align_items": null,
            "bottom": null,
            "_model_module": "@jupyter-widgets/base",
            "top": null,
            "grid_column": null,
            "overflow_y": null,
            "overflow_x": null,
            "grid_auto_flow": null,
            "grid_area": null,
            "grid_template_columns": null,
            "flex": null,
            "_model_name": "LayoutModel",
            "justify_items": null,
            "grid_row": null,
            "max_height": null,
            "align_content": null,
            "visibility": null,
            "align_self": null,
            "height": null,
            "min_height": null,
            "padding": null,
            "grid_auto_rows": null,
            "grid_gap": null,
            "max_width": null,
            "order": null,
            "_view_module_version": "1.2.0",
            "grid_template_areas": null,
            "object_position": null,
            "object_fit": null,
            "grid_auto_columns": null,
            "margin": null,
            "display": null,
            "left": null
          }
        },
        "9b29acbfca874382a2b33646e84aa58b": {
          "model_module": "@jupyter-widgets/controls",
          "model_name": "FloatProgressModel",
          "state": {
            "_view_name": "ProgressView",
            "style": "IPY_MODEL_efefe2827be34102a1a8f0ac6015c7ae",
            "_dom_classes": [],
            "description": "100%",
            "_model_name": "FloatProgressModel",
            "bar_style": "success",
            "max": 1,
            "_view_module": "@jupyter-widgets/controls",
            "_model_module_version": "1.5.0",
            "value": 1,
            "_view_count": null,
            "_view_module_version": "1.5.0",
            "orientation": "horizontal",
            "min": 0,
            "description_tooltip": null,
            "_model_module": "@jupyter-widgets/controls",
            "layout": "IPY_MODEL_e8bb47d7193d4557a35106a4cd8e5e67"
          }
        },
        "d1957382ce834fe0825def2abefc1afa": {
          "model_module": "@jupyter-widgets/controls",
          "model_name": "HTMLModel",
          "state": {
            "_view_name": "HTMLView",
            "style": "IPY_MODEL_d04a12087eeb4871820b62ac18e324e3",
            "_dom_classes": [],
            "description": "",
            "_model_name": "HTMLModel",
            "placeholder": "​",
            "_view_module": "@jupyter-widgets/controls",
            "_model_module_version": "1.5.0",
            "value": " 1/1 [00:00&lt;00:00,  4.08ba/s]",
            "_view_count": null,
            "_view_module_version": "1.5.0",
            "description_tooltip": null,
            "_model_module": "@jupyter-widgets/controls",
            "layout": "IPY_MODEL_1b62f939b373475abace090d600dbe01"
          }
        },
        "efefe2827be34102a1a8f0ac6015c7ae": {
          "model_module": "@jupyter-widgets/controls",
          "model_name": "ProgressStyleModel",
          "state": {
            "_view_name": "StyleView",
            "_model_name": "ProgressStyleModel",
            "description_width": "initial",
            "_view_module": "@jupyter-widgets/base",
            "_model_module_version": "1.5.0",
            "_view_count": null,
            "_view_module_version": "1.2.0",
            "bar_color": null,
            "_model_module": "@jupyter-widgets/controls"
          }
        },
        "e8bb47d7193d4557a35106a4cd8e5e67": {
          "model_module": "@jupyter-widgets/base",
          "model_name": "LayoutModel",
          "state": {
            "_view_name": "LayoutView",
            "grid_template_rows": null,
            "right": null,
            "justify_content": null,
            "_view_module": "@jupyter-widgets/base",
            "overflow": null,
            "_model_module_version": "1.2.0",
            "_view_count": null,
            "flex_flow": null,
            "width": null,
            "min_width": null,
            "border": null,
            "align_items": null,
            "bottom": null,
            "_model_module": "@jupyter-widgets/base",
            "top": null,
            "grid_column": null,
            "overflow_y": null,
            "overflow_x": null,
            "grid_auto_flow": null,
            "grid_area": null,
            "grid_template_columns": null,
            "flex": null,
            "_model_name": "LayoutModel",
            "justify_items": null,
            "grid_row": null,
            "max_height": null,
            "align_content": null,
            "visibility": null,
            "align_self": null,
            "height": null,
            "min_height": null,
            "padding": null,
            "grid_auto_rows": null,
            "grid_gap": null,
            "max_width": null,
            "order": null,
            "_view_module_version": "1.2.0",
            "grid_template_areas": null,
            "object_position": null,
            "object_fit": null,
            "grid_auto_columns": null,
            "margin": null,
            "display": null,
            "left": null
          }
        },
        "d04a12087eeb4871820b62ac18e324e3": {
          "model_module": "@jupyter-widgets/controls",
          "model_name": "DescriptionStyleModel",
          "state": {
            "_view_name": "StyleView",
            "_model_name": "DescriptionStyleModel",
            "description_width": "",
            "_view_module": "@jupyter-widgets/base",
            "_model_module_version": "1.5.0",
            "_view_count": null,
            "_view_module_version": "1.2.0",
            "_model_module": "@jupyter-widgets/controls"
          }
        },
        "1b62f939b373475abace090d600dbe01": {
          "model_module": "@jupyter-widgets/base",
          "model_name": "LayoutModel",
          "state": {
            "_view_name": "LayoutView",
            "grid_template_rows": null,
            "right": null,
            "justify_content": null,
            "_view_module": "@jupyter-widgets/base",
            "overflow": null,
            "_model_module_version": "1.2.0",
            "_view_count": null,
            "flex_flow": null,
            "width": null,
            "min_width": null,
            "border": null,
            "align_items": null,
            "bottom": null,
            "_model_module": "@jupyter-widgets/base",
            "top": null,
            "grid_column": null,
            "overflow_y": null,
            "overflow_x": null,
            "grid_auto_flow": null,
            "grid_area": null,
            "grid_template_columns": null,
            "flex": null,
            "_model_name": "LayoutModel",
            "justify_items": null,
            "grid_row": null,
            "max_height": null,
            "align_content": null,
            "visibility": null,
            "align_self": null,
            "height": null,
            "min_height": null,
            "padding": null,
            "grid_auto_rows": null,
            "grid_gap": null,
            "max_width": null,
            "order": null,
            "_view_module_version": "1.2.0",
            "grid_template_areas": null,
            "object_position": null,
            "object_fit": null,
            "grid_auto_columns": null,
            "margin": null,
            "display": null,
            "left": null
          }
        },
        "62938a41a9a64f508def3bd625872cea": {
          "model_module": "@jupyter-widgets/controls",
          "model_name": "HBoxModel",
          "state": {
            "_view_name": "HBoxView",
            "_dom_classes": [],
            "_model_name": "HBoxModel",
            "_view_module": "@jupyter-widgets/controls",
            "_model_module_version": "1.5.0",
            "_view_count": null,
            "_view_module_version": "1.5.0",
            "box_style": "",
            "layout": "IPY_MODEL_3efe1041105e4528947379ef7d7751fd",
            "_model_module": "@jupyter-widgets/controls",
            "children": [
              "IPY_MODEL_75744c962d734b51baf21800c5c42e60",
              "IPY_MODEL_f029bde90b3847d89d4a94390e1b680c"
            ]
          }
        },
        "3efe1041105e4528947379ef7d7751fd": {
          "model_module": "@jupyter-widgets/base",
          "model_name": "LayoutModel",
          "state": {
            "_view_name": "LayoutView",
            "grid_template_rows": null,
            "right": null,
            "justify_content": null,
            "_view_module": "@jupyter-widgets/base",
            "overflow": null,
            "_model_module_version": "1.2.0",
            "_view_count": null,
            "flex_flow": null,
            "width": null,
            "min_width": null,
            "border": null,
            "align_items": null,
            "bottom": null,
            "_model_module": "@jupyter-widgets/base",
            "top": null,
            "grid_column": null,
            "overflow_y": null,
            "overflow_x": null,
            "grid_auto_flow": null,
            "grid_area": null,
            "grid_template_columns": null,
            "flex": null,
            "_model_name": "LayoutModel",
            "justify_items": null,
            "grid_row": null,
            "max_height": null,
            "align_content": null,
            "visibility": null,
            "align_self": null,
            "height": null,
            "min_height": null,
            "padding": null,
            "grid_auto_rows": null,
            "grid_gap": null,
            "max_width": null,
            "order": null,
            "_view_module_version": "1.2.0",
            "grid_template_areas": null,
            "object_position": null,
            "object_fit": null,
            "grid_auto_columns": null,
            "margin": null,
            "display": null,
            "left": null
          }
        },
        "75744c962d734b51baf21800c5c42e60": {
          "model_module": "@jupyter-widgets/controls",
          "model_name": "FloatProgressModel",
          "state": {
            "_view_name": "ProgressView",
            "style": "IPY_MODEL_7f324d37b77149e8bf76be9a00731da2",
            "_dom_classes": [],
            "description": "100%",
            "_model_name": "FloatProgressModel",
            "bar_style": "success",
            "max": 1,
            "_view_module": "@jupyter-widgets/controls",
            "_model_module_version": "1.5.0",
            "value": 1,
            "_view_count": null,
            "_view_module_version": "1.5.0",
            "orientation": "horizontal",
            "min": 0,
            "description_tooltip": null,
            "_model_module": "@jupyter-widgets/controls",
            "layout": "IPY_MODEL_680d26ce864d4d3ab199a33ba4af24d5"
          }
        },
        "f029bde90b3847d89d4a94390e1b680c": {
          "model_module": "@jupyter-widgets/controls",
          "model_name": "HTMLModel",
          "state": {
            "_view_name": "HTMLView",
            "style": "IPY_MODEL_4d1968de6d344916880eff1c8801454a",
            "_dom_classes": [],
            "description": "",
            "_model_name": "HTMLModel",
            "placeholder": "​",
            "_view_module": "@jupyter-widgets/controls",
            "_model_module_version": "1.5.0",
            "value": " 1/1 [00:00&lt;00:00,  3.45ba/s]",
            "_view_count": null,
            "_view_module_version": "1.5.0",
            "description_tooltip": null,
            "_model_module": "@jupyter-widgets/controls",
            "layout": "IPY_MODEL_a058bc0eed40418497ecf511431b1bb9"
          }
        },
        "7f324d37b77149e8bf76be9a00731da2": {
          "model_module": "@jupyter-widgets/controls",
          "model_name": "ProgressStyleModel",
          "state": {
            "_view_name": "StyleView",
            "_model_name": "ProgressStyleModel",
            "description_width": "initial",
            "_view_module": "@jupyter-widgets/base",
            "_model_module_version": "1.5.0",
            "_view_count": null,
            "_view_module_version": "1.2.0",
            "bar_color": null,
            "_model_module": "@jupyter-widgets/controls"
          }
        },
        "680d26ce864d4d3ab199a33ba4af24d5": {
          "model_module": "@jupyter-widgets/base",
          "model_name": "LayoutModel",
          "state": {
            "_view_name": "LayoutView",
            "grid_template_rows": null,
            "right": null,
            "justify_content": null,
            "_view_module": "@jupyter-widgets/base",
            "overflow": null,
            "_model_module_version": "1.2.0",
            "_view_count": null,
            "flex_flow": null,
            "width": null,
            "min_width": null,
            "border": null,
            "align_items": null,
            "bottom": null,
            "_model_module": "@jupyter-widgets/base",
            "top": null,
            "grid_column": null,
            "overflow_y": null,
            "overflow_x": null,
            "grid_auto_flow": null,
            "grid_area": null,
            "grid_template_columns": null,
            "flex": null,
            "_model_name": "LayoutModel",
            "justify_items": null,
            "grid_row": null,
            "max_height": null,
            "align_content": null,
            "visibility": null,
            "align_self": null,
            "height": null,
            "min_height": null,
            "padding": null,
            "grid_auto_rows": null,
            "grid_gap": null,
            "max_width": null,
            "order": null,
            "_view_module_version": "1.2.0",
            "grid_template_areas": null,
            "object_position": null,
            "object_fit": null,
            "grid_auto_columns": null,
            "margin": null,
            "display": null,
            "left": null
          }
        },
        "4d1968de6d344916880eff1c8801454a": {
          "model_module": "@jupyter-widgets/controls",
          "model_name": "DescriptionStyleModel",
          "state": {
            "_view_name": "StyleView",
            "_model_name": "DescriptionStyleModel",
            "description_width": "",
            "_view_module": "@jupyter-widgets/base",
            "_model_module_version": "1.5.0",
            "_view_count": null,
            "_view_module_version": "1.2.0",
            "_model_module": "@jupyter-widgets/controls"
          }
        },
        "a058bc0eed40418497ecf511431b1bb9": {
          "model_module": "@jupyter-widgets/base",
          "model_name": "LayoutModel",
          "state": {
            "_view_name": "LayoutView",
            "grid_template_rows": null,
            "right": null,
            "justify_content": null,
            "_view_module": "@jupyter-widgets/base",
            "overflow": null,
            "_model_module_version": "1.2.0",
            "_view_count": null,
            "flex_flow": null,
            "width": null,
            "min_width": null,
            "border": null,
            "align_items": null,
            "bottom": null,
            "_model_module": "@jupyter-widgets/base",
            "top": null,
            "grid_column": null,
            "overflow_y": null,
            "overflow_x": null,
            "grid_auto_flow": null,
            "grid_area": null,
            "grid_template_columns": null,
            "flex": null,
            "_model_name": "LayoutModel",
            "justify_items": null,
            "grid_row": null,
            "max_height": null,
            "align_content": null,
            "visibility": null,
            "align_self": null,
            "height": null,
            "min_height": null,
            "padding": null,
            "grid_auto_rows": null,
            "grid_gap": null,
            "max_width": null,
            "order": null,
            "_view_module_version": "1.2.0",
            "grid_template_areas": null,
            "object_position": null,
            "object_fit": null,
            "grid_auto_columns": null,
            "margin": null,
            "display": null,
            "left": null
          }
        }
      }
    }
  },
  "cells": [
    {
      "cell_type": "markdown",
      "metadata": {
        "id": "0YuGRpTmZFEL"
      },
      "source": [
        "## Setup"
      ]
    },
    {
      "cell_type": "code",
      "metadata": {
        "colab": {
          "base_uri": "https://localhost:8080/"
        },
        "id": "H48MlaxuG62a",
        "outputId": "9012e210-9e58-4911-a5f6-b5be18d65844"
      },
      "source": [
        "!pip install datasets transformers -q"
      ],
      "execution_count": 1,
      "outputs": [
        {
          "output_type": "stream",
          "text": [
            "\u001b[K     |████████████████████████████████| 194kB 24.5MB/s \n",
            "\u001b[K     |████████████████████████████████| 2.2MB 41.9MB/s \n",
            "\u001b[K     |████████████████████████████████| 245kB 57.4MB/s \n",
            "\u001b[K     |████████████████████████████████| 112kB 42.4MB/s \n",
            "\u001b[K     |████████████████████████████████| 3.3MB 46.5MB/s \n",
            "\u001b[K     |████████████████████████████████| 870kB 52.0MB/s \n",
            "\u001b[?25h  Building wheel for sacremoses (setup.py) ... \u001b[?25l\u001b[?25hdone\n"
          ],
          "name": "stdout"
        }
      ]
    },
    {
      "cell_type": "code",
      "metadata": {
        "id": "I2EWnlY8dBla"
      },
      "source": [
        "# Used to save the model to drive\n",
        "# from google.colab import drive\n",
        "# drive.mount('/content/drive')"
      ],
      "execution_count": 2,
      "outputs": []
    },
    {
      "cell_type": "markdown",
      "metadata": {
        "id": "mhPq4ZVhZMFh"
      },
      "source": [
        "The 2nd model is a pretrained model which takes a bit of time to train,<br> if If `INFER` is True, It will load the 2nd model from drive.<br>\n",
        "If `TRAIN` is True, It will train the 2nd model here."
      ]
    },
    {
      "cell_type": "code",
      "metadata": {
        "id": "1mK-bDYxPv2i"
      },
      "source": [
        "TRAIN = False\n",
        "INFER = True"
      ],
      "execution_count": 3,
      "outputs": []
    },
    {
      "cell_type": "code",
      "metadata": {
        "id": "Z84xxe3eUVE4",
        "colab": {
          "base_uri": "https://localhost:8080/"
        },
        "outputId": "09539a7c-b853-4e4a-e8e3-ed38e4e06def"
      },
      "source": [
        "import pandas as pd\n",
        "import matplotlib.pyplot as plt\n",
        "import seaborn as sns\n",
        "import numpy as np\n",
        "import json\n",
        "import collections\n",
        "import transformers\n",
        "import datasets\n",
        "import torch\n",
        "import nltk\n",
        "import re\n",
        "\n",
        "from sklearn.preprocessing import FunctionTransformer, LabelEncoder\n",
        "from sklearn.model_selection import train_test_split\n",
        "from sklearn.feature_extraction.text import TfidfVectorizer\n",
        "from sklearn.pipeline import FeatureUnion, Pipeline\n",
        "from sklearn.ensemble import RandomForestClassifier\n",
        "from sklearn.metrics import f1_score\n",
        "from collections import defaultdict\n",
        "from IPython.display import HTML\n",
        "\n",
        "\n",
        "nltk.download('stopwords')"
      ],
      "execution_count": 4,
      "outputs": [
        {
          "output_type": "stream",
          "text": [
            "[nltk_data] Downloading package stopwords to /root/nltk_data...\n",
            "[nltk_data]   Unzipping corpora/stopwords.zip.\n"
          ],
          "name": "stdout"
        },
        {
          "output_type": "execute_result",
          "data": {
            "text/plain": [
              "True"
            ]
          },
          "metadata": {
            "tags": []
          },
          "execution_count": 4
        }
      ]
    },
    {
      "cell_type": "code",
      "metadata": {
        "colab": {
          "base_uri": "https://localhost:8080/"
        },
        "id": "akrvar7l2PKh",
        "outputId": "ee00d73a-b995-4a8c-f219-bd6a1259efd5"
      },
      "source": [
        "# Download dataset\n",
        "!gdown https://drive.google.com/uc?id=1YdCJU5ZxjAmNY3mbMTGf4-qo_I8evd5h\n",
        "!gdown https://drive.google.com/uc?id=1Kat_WLKADObIUX4OMGoOelJsTYkL4Fx_\n",
        "!gdown https://drive.google.com/uc?id=1eee8YItHSUoy6alZxp92ywlLZy-d2k8k"
      ],
      "execution_count": 5,
      "outputs": [
        {
          "output_type": "stream",
          "text": [
            "Downloading...\n",
            "From: https://drive.google.com/uc?id=1YdCJU5ZxjAmNY3mbMTGf4-qo_I8evd5h\n",
            "To: /content/processed_data.csv\n",
            "11.3MB [00:00, 24.4MB/s]\n",
            "Downloading...\n",
            "From: https://drive.google.com/uc?id=1Kat_WLKADObIUX4OMGoOelJsTYkL4Fx_\n",
            "To: /content/data.csv\n",
            "38.1MB [00:00, 53.3MB/s]\n",
            "Downloading...\n",
            "From: https://drive.google.com/uc?id=1eee8YItHSUoy6alZxp92ywlLZy-d2k8k\n",
            "To: /content/below_thresh_index.txt\n",
            "100% 2.00k/2.00k [00:00<00:00, 3.04MB/s]\n"
          ],
          "name": "stdout"
        }
      ]
    },
    {
      "cell_type": "code",
      "metadata": {
        "colab": {
          "base_uri": "https://localhost:8080/",
          "height": 202
        },
        "id": "RNxs8JLCUlZn",
        "outputId": "bb584192-3d43-47ce-ba6c-4c8cd7d157d2"
      },
      "source": [
        "df = pd.read_csv('processed_data.csv', index_col = 0)\n",
        "df.head()"
      ],
      "execution_count": 6,
      "outputs": [
        {
          "output_type": "execute_result",
          "data": {
            "text/html": [
              "<div>\n",
              "<style scoped>\n",
              "    .dataframe tbody tr th:only-of-type {\n",
              "        vertical-align: middle;\n",
              "    }\n",
              "\n",
              "    .dataframe tbody tr th {\n",
              "        vertical-align: top;\n",
              "    }\n",
              "\n",
              "    .dataframe thead th {\n",
              "        text-align: right;\n",
              "    }\n",
              "</style>\n",
              "<table border=\"1\" class=\"dataframe\">\n",
              "  <thead>\n",
              "    <tr style=\"text-align: right;\">\n",
              "      <th></th>\n",
              "      <th>description</th>\n",
              "      <th>category_1</th>\n",
              "      <th>name</th>\n",
              "      <th>product_spec</th>\n",
              "    </tr>\n",
              "  </thead>\n",
              "  <tbody>\n",
              "    <tr>\n",
              "      <th>0</th>\n",
              "      <td>Wash Water Style Alisha Bleach Lycra Solid Luk...</td>\n",
              "      <td>Clothing</td>\n",
              "      <td>Alisha Solid Women Cycling Shorts</td>\n",
              "      <td>Number of Contents in Sales Package is Pack of...</td>\n",
              "    </tr>\n",
              "    <tr>\n",
              "      <th>1</th>\n",
              "      <td>Covered Price effective Leatherette Seater bed...</td>\n",
              "      <td>Furniture</td>\n",
              "      <td>FabHomeDecor Fabric Double Sofa Bed</td>\n",
              "      <td>Installation &amp; Demo Details is Installation an...</td>\n",
              "    </tr>\n",
              "    <tr>\n",
              "      <th>2</th>\n",
              "      <td>stains Price bags One de Lifestyle Bellies dir...</td>\n",
              "      <td>Footwear</td>\n",
              "      <td>AW Bellies</td>\n",
              "      <td>Ideal For is Women, Occasion is Casual, Color ...</td>\n",
              "    </tr>\n",
              "    <tr>\n",
              "      <th>3</th>\n",
              "      <td>Wash Water Style Alisha Bleach Lycra Solid Luk...</td>\n",
              "      <td>Clothing</td>\n",
              "      <td>Alisha Solid Women Cycling Shorts</td>\n",
              "      <td>Number of Contents in Sales Package is Pack of...</td>\n",
              "    </tr>\n",
              "    <tr>\n",
              "      <th>4</th>\n",
              "      <td>Fashion All Liquid Pet Type Factor Arnica Box ...</td>\n",
              "      <td>Pet Supplies</td>\n",
              "      <td>Sicons All Purpose Arnica Dog Shampoo</td>\n",
              "      <td>Pet Type is Dog, Brand is Sicons, Quantity is ...</td>\n",
              "    </tr>\n",
              "  </tbody>\n",
              "</table>\n",
              "</div>"
            ],
            "text/plain": [
              "                                         description  ...                                       product_spec\n",
              "0  Wash Water Style Alisha Bleach Lycra Solid Luk...  ...  Number of Contents in Sales Package is Pack of...\n",
              "1  Covered Price effective Leatherette Seater bed...  ...  Installation & Demo Details is Installation an...\n",
              "2  stains Price bags One de Lifestyle Bellies dir...  ...  Ideal For is Women, Occasion is Casual, Color ...\n",
              "3  Wash Water Style Alisha Bleach Lycra Solid Luk...  ...  Number of Contents in Sales Package is Pack of...\n",
              "4  Fashion All Liquid Pet Type Factor Arnica Box ...  ...  Pet Type is Dog, Brand is Sicons, Quantity is ...\n",
              "\n",
              "[5 rows x 4 columns]"
            ]
          },
          "metadata": {
            "tags": []
          },
          "execution_count": 6
        }
      ]
    },
    {
      "cell_type": "code",
      "metadata": {
        "id": "YyVVPE5oovhX",
        "colab": {
          "base_uri": "https://localhost:8080/"
        },
        "outputId": "d0c6236b-51e9-41a8-b738-72881013a607"
      },
      "source": [
        "df.info()"
      ],
      "execution_count": 7,
      "outputs": [
        {
          "output_type": "stream",
          "text": [
            "<class 'pandas.core.frame.DataFrame'>\n",
            "Int64Index: 19055 entries, 0 to 19054\n",
            "Data columns (total 4 columns):\n",
            " #   Column        Non-Null Count  Dtype \n",
            "---  ------        --------------  ----- \n",
            " 0   description   19055 non-null  object\n",
            " 1   category_1    19055 non-null  object\n",
            " 2   name          19055 non-null  object\n",
            " 3   product_spec  19055 non-null  object\n",
            "dtypes: object(4)\n",
            "memory usage: 744.3+ KB\n"
          ],
          "name": "stdout"
        }
      ]
    },
    {
      "cell_type": "code",
      "metadata": {
        "id": "7vnXtdcwiWEu"
      },
      "source": [
        "SEED = 42"
      ],
      "execution_count": 8,
      "outputs": []
    },
    {
      "cell_type": "code",
      "metadata": {
        "id": "7AKvPyGEiUhu"
      },
      "source": [
        "df = df.sample(frac = 1, random_state = SEED)"
      ],
      "execution_count": 9,
      "outputs": []
    },
    {
      "cell_type": "code",
      "metadata": {
        "colab": {
          "base_uri": "https://localhost:8080/"
        },
        "id": "1Usyi_QpLguJ",
        "outputId": "d0cd6b12-d449-49e9-b144-85cadffb411c"
      },
      "source": [
        "df.category_1.value_counts()"
      ],
      "execution_count": 10,
      "outputs": [
        {
          "output_type": "execute_result",
          "data": {
            "text/plain": [
              "Clothing                           5905\n",
              "Jewellery                          3526\n",
              "Footwear                           1186\n",
              "Mobiles Accessories                1098\n",
              "Automotive                         1012\n",
              "Home Decor Festive Needs            878\n",
              "Beauty And Personal Care            698\n",
              "Home Furnishing                     690\n",
              "Computers                           572\n",
              "Kitchen Dining                      554\n",
              "Watches                             530\n",
              "Baby Care                           393\n",
              "Tools Hardware                      391\n",
              "Toys School Supplies                328\n",
              "Pens Stationery                     313\n",
              "Bags Wallets Belts                  264\n",
              "Furniture                           179\n",
              "Sports Fitness                      164\n",
              "Home Improvement                     81\n",
              "Cameras Accessories                  80\n",
              "Health Personal Care Appliances      43\n",
              "Sunglasses                           40\n",
              "Gaming                               32\n",
              "Pet Supplies                         30\n",
              "Home Kitchen                         24\n",
              "Home Entertainment                   19\n",
              "Ebooks                               15\n",
              "Eyewear                              10\n",
              "Name: category_1, dtype: int64"
            ]
          },
          "metadata": {
            "tags": []
          },
          "execution_count": 10
        }
      ]
    },
    {
      "cell_type": "markdown",
      "metadata": {
        "id": "HRwKINrUZqbQ"
      },
      "source": [
        "# Modelling"
      ]
    },
    {
      "cell_type": "code",
      "metadata": {
        "id": "7kWnuWv1PoPR"
      },
      "source": [
        "le = LabelEncoder()\n",
        "df['category_1'] = le.fit_transform(df['category_1'])"
      ],
      "execution_count": 11,
      "outputs": []
    },
    {
      "cell_type": "markdown",
      "metadata": {
        "id": "du5VccVMrfk7"
      },
      "source": [
        "Since we have an imbalanced dataset, we need to startify and split"
      ]
    },
    {
      "cell_type": "code",
      "metadata": {
        "id": "mWsaW23iKJrR"
      },
      "source": [
        "train, test_and_val = train_test_split(df, test_size = 0.2, random_state = SEED, stratify = df['category_1'])\n",
        "test, val = train_test_split(test_and_val, test_size = 0.5, random_state = SEED, stratify = test_and_val['category_1'])"
      ],
      "execution_count": 12,
      "outputs": []
    },
    {
      "cell_type": "code",
      "metadata": {
        "id": "0ICApzTlUryW"
      },
      "source": [
        "# Separate input & target\n",
        "train_x, train_y = train.drop(columns = ['category_1']), train['category_1']\n",
        "val_x, val_y = val.drop(columns = ['category_1']), val['category_1']\n",
        "test_x, test_y = test.drop(columns = ['category_1']), test['category_1']"
      ],
      "execution_count": 13,
      "outputs": []
    },
    {
      "cell_type": "markdown",
      "metadata": {
        "id": "_fYf_egtLCeY"
      },
      "source": [
        "## TfidfVectorizer\n"
      ]
    },
    {
      "cell_type": "code",
      "metadata": {
        "id": "aWSvP53NKgeG"
      },
      "source": [
        "# Create features using Tfidf\n",
        "transformer = FeatureUnion([\n",
        "                ('description_tfidf', \n",
        "                  Pipeline([('extract_field',\n",
        "                              FunctionTransformer(lambda x: x['description'], \n",
        "                                                  validate=False)),\n",
        "                            ('tfidf', \n",
        "                              TfidfVectorizer())])),\n",
        "                ('name_tfidf', \n",
        "                  Pipeline([('extract_field', \n",
        "                              FunctionTransformer(lambda x: x['name'], \n",
        "                                                  validate=False)),\n",
        "                            ('tfidf', \n",
        "                              TfidfVectorizer())])),\n",
        "                ('product_spec_tfidf', \n",
        "                  Pipeline([('extract_field', \n",
        "                              FunctionTransformer(lambda x: x['product_spec'], \n",
        "                                                  validate=False)),\n",
        "                            ('tfidf', \n",
        "                              TfidfVectorizer())]))]) "
      ],
      "execution_count": 14,
      "outputs": []
    },
    {
      "cell_type": "code",
      "metadata": {
        "id": "U4aFedJ7N292"
      },
      "source": [
        "train_vectorized_x = transformer.fit_transform(train_x)\n",
        "val_vectorized_x = transformer.transform(val_x)\n",
        "test_vectorized_x = transformer.transform(test_x)"
      ],
      "execution_count": 15,
      "outputs": []
    },
    {
      "cell_type": "code",
      "metadata": {
        "colab": {
          "base_uri": "https://localhost:8080/"
        },
        "id": "ACsA-hIRdwx9",
        "outputId": "32bf9394-768b-4648-d60a-c071724e2d09"
      },
      "source": [
        "train_vectorized_x.shape"
      ],
      "execution_count": 16,
      "outputs": [
        {
          "output_type": "execute_result",
          "data": {
            "text/plain": [
              "(15244, 47109)"
            ]
          },
          "metadata": {
            "tags": []
          },
          "execution_count": 16
        }
      ]
    },
    {
      "cell_type": "code",
      "metadata": {
        "colab": {
          "base_uri": "https://localhost:8080/"
        },
        "id": "ThTa0lDEQ2tl",
        "outputId": "079bf007-bd61-4fe3-81d6-4dd3da770eea"
      },
      "source": [
        "clf = RandomForestClassifier(random_state=SEED, class_weight = 'balanced')\n",
        "clf.fit(train_vectorized_x, train_y)"
      ],
      "execution_count": 17,
      "outputs": [
        {
          "output_type": "execute_result",
          "data": {
            "text/plain": [
              "RandomForestClassifier(bootstrap=True, ccp_alpha=0.0, class_weight='balanced',\n",
              "                       criterion='gini', max_depth=None, max_features='auto',\n",
              "                       max_leaf_nodes=None, max_samples=None,\n",
              "                       min_impurity_decrease=0.0, min_impurity_split=None,\n",
              "                       min_samples_leaf=1, min_samples_split=2,\n",
              "                       min_weight_fraction_leaf=0.0, n_estimators=100,\n",
              "                       n_jobs=None, oob_score=False, random_state=42, verbose=0,\n",
              "                       warm_start=False)"
            ]
          },
          "metadata": {
            "tags": []
          },
          "execution_count": 17
        }
      ]
    },
    {
      "cell_type": "code",
      "metadata": {
        "colab": {
          "base_uri": "https://localhost:8080/"
        },
        "id": "ysUcBh5dRRfd",
        "outputId": "179d1a2c-63cb-4ec1-b4d4-71bb4dbce3a0"
      },
      "source": [
        "y_pred = clf.predict(val_vectorized_x)\n",
        "y_true = val_y\n",
        "# weighted due to imbalance\n",
        "print(f1_score(y_true, y_pred, average = 'weighted'))"
      ],
      "execution_count": 18,
      "outputs": [
        {
          "output_type": "stream",
          "text": [
            "0.9764039919995291\n"
          ],
          "name": "stdout"
        }
      ]
    },
    {
      "cell_type": "markdown",
      "metadata": {
        "id": "hmjT4vWYa2JL"
      },
      "source": [
        "Seems like a good score, let's predict on a category in the test set having less sample and see how it performs."
      ]
    },
    {
      "cell_type": "code",
      "metadata": {
        "colab": {
          "base_uri": "https://localhost:8080/"
        },
        "id": "UK9LsJpxbCm9",
        "outputId": "472df445-187a-49a5-95c2-a1f74a4132ef"
      },
      "source": [
        "for i, class_ in enumerate(le.classes_):\n",
        "    print(f'{i} - {class_}')"
      ],
      "execution_count": 19,
      "outputs": [
        {
          "output_type": "stream",
          "text": [
            "0 - Automotive\n",
            "1 - Baby Care\n",
            "2 - Bags Wallets Belts\n",
            "3 - Beauty And Personal Care\n",
            "4 - Cameras Accessories\n",
            "5 - Clothing\n",
            "6 - Computers\n",
            "7 - Ebooks\n",
            "8 - Eyewear\n",
            "9 - Footwear\n",
            "10 - Furniture\n",
            "11 - Gaming\n",
            "12 - Health Personal Care Appliances\n",
            "13 - Home Decor Festive Needs\n",
            "14 - Home Entertainment\n",
            "15 - Home Furnishing\n",
            "16 - Home Improvement\n",
            "17 - Home Kitchen\n",
            "18 - Jewellery\n",
            "19 - Kitchen Dining\n",
            "20 - Mobiles Accessories\n",
            "21 - Pens Stationery\n",
            "22 - Pet Supplies\n",
            "23 - Sports Fitness\n",
            "24 - Sunglasses\n",
            "25 - Tools Hardware\n",
            "26 - Toys School Supplies\n",
            "27 - Watches\n"
          ],
          "name": "stdout"
        }
      ]
    },
    {
      "cell_type": "code",
      "metadata": {
        "colab": {
          "base_uri": "https://localhost:8080/"
        },
        "id": "n6bPLze771fw",
        "outputId": "1d639459-715b-4481-bedf-07500ad759a6"
      },
      "source": [
        "train.category_1.value_counts()"
      ],
      "execution_count": 20,
      "outputs": [
        {
          "output_type": "execute_result",
          "data": {
            "text/plain": [
              "5     4724\n",
              "18    2821\n",
              "9      949\n",
              "20     878\n",
              "0      810\n",
              "13     702\n",
              "3      558\n",
              "15     552\n",
              "6      458\n",
              "19     443\n",
              "27     424\n",
              "1      314\n",
              "25     313\n",
              "26     262\n",
              "21     251\n",
              "2      211\n",
              "10     143\n",
              "23     131\n",
              "16      65\n",
              "4       64\n",
              "12      35\n",
              "24      32\n",
              "11      26\n",
              "22      24\n",
              "17      19\n",
              "14      15\n",
              "7       12\n",
              "8        8\n",
              "Name: category_1, dtype: int64"
            ]
          },
          "metadata": {
            "tags": []
          },
          "execution_count": 20
        }
      ]
    },
    {
      "cell_type": "code",
      "metadata": {
        "colab": {
          "base_uri": "https://localhost:8080/",
          "height": 80
        },
        "id": "WoHDhrePbo3S",
        "outputId": "43d6857d-8f60-4561-d5b7-233fb25cd0c2"
      },
      "source": [
        "# Ebooks\n",
        "EXAMPLE_CATEGORY = 7\n",
        "test[test['category_1'] == EXAMPLE_CATEGORY].head(1)"
      ],
      "execution_count": 21,
      "outputs": [
        {
          "output_type": "execute_result",
          "data": {
            "text/html": [
              "<div>\n",
              "<style scoped>\n",
              "    .dataframe tbody tr th:only-of-type {\n",
              "        vertical-align: middle;\n",
              "    }\n",
              "\n",
              "    .dataframe tbody tr th {\n",
              "        vertical-align: top;\n",
              "    }\n",
              "\n",
              "    .dataframe thead th {\n",
              "        text-align: right;\n",
              "    }\n",
              "</style>\n",
              "<table border=\"1\" class=\"dataframe\">\n",
              "  <thead>\n",
              "    <tr style=\"text-align: right;\">\n",
              "      <th></th>\n",
              "      <th>description</th>\n",
              "      <th>category_1</th>\n",
              "      <th>name</th>\n",
              "      <th>product_spec</th>\n",
              "    </tr>\n",
              "  </thead>\n",
              "  <tbody>\n",
              "    <tr>\n",
              "      <th>17453</th>\n",
              "      <td>cash Replacement Guarantee Only Coursebook Buy...</td>\n",
              "      <td>7</td>\n",
              "      <td>Fast Italian Elisabeth Smith Coursebook</td>\n",
              "      <td>Publisher is Hodder and Stoughton, Publication...</td>\n",
              "    </tr>\n",
              "  </tbody>\n",
              "</table>\n",
              "</div>"
            ],
            "text/plain": [
              "                                             description  ...                                       product_spec\n",
              "17453  cash Replacement Guarantee Only Coursebook Buy...  ...  Publisher is Hodder and Stoughton, Publication...\n",
              "\n",
              "[1 rows x 4 columns]"
            ]
          },
          "metadata": {
            "tags": []
          },
          "execution_count": 21
        }
      ]
    },
    {
      "cell_type": "code",
      "metadata": {
        "colab": {
          "base_uri": "https://localhost:8080/"
        },
        "id": "Y_vT8oWXaeAT",
        "outputId": "17a82e06-eebc-471d-80c7-ba80839c4997"
      },
      "source": [
        "ebook_sample = val[val['category_1'] == EXAMPLE_CATEGORY].head(1).drop(columns = 'category_1')\n",
        "clf.predict(transformer.transform(ebook_sample))"
      ],
      "execution_count": 22,
      "outputs": [
        {
          "output_type": "execute_result",
          "data": {
            "text/plain": [
              "array([7])"
            ]
          },
          "metadata": {
            "tags": []
          },
          "execution_count": 22
        }
      ]
    },
    {
      "cell_type": "markdown",
      "metadata": {
        "id": "la5Cnpe58W__"
      },
      "source": [
        "It predicted the correct category.<br> It did pretty well considering it had only 12 examples to train with for that particular category."
      ]
    },
    {
      "cell_type": "markdown",
      "metadata": {
        "id": "ByfO3_30jRpK"
      },
      "source": [
        "## PreTrained Model<br>\n",
        "We will only use the `product_spec` feature since all other features don't have a semantic order to perform a sequence classification."
      ]
    },
    {
      "cell_type": "markdown",
      "metadata": {
        "id": "i2wnbBw089S6"
      },
      "source": [
        "For training we have a lot of examples 15k, it will take very long to train. To cap the dataset, we will sample across the target variable using the `cap` parameter to determine how many samples will each target variable have."
      ]
    },
    {
      "cell_type": "code",
      "metadata": {
        "id": "hOCsxp3n9SZ1"
      },
      "source": [
        "def to_cat(df, cap = 10, return_cls_weights = False):\n",
        "    \"\"\"\n",
        "    Function which caps the dataset according to the `cap` parameter.\n",
        "\n",
        "    Parameters\n",
        "    ----------\n",
        "    df : pandas.core.frame.DataFrame\n",
        "        Dataframe to be capped\n",
        "    cap : int\n",
        "        Number of samples to sample for each category.\n",
        "        min(available_samples, cap) is sampled for each category.\n",
        "    return_cls_weights : boolean\n",
        "        Class weights according to distribution to update weights(default - `False`)\n",
        "\n",
        "    Returns\n",
        "    -------\n",
        "    if `return_cls_weights == False`:\n",
        "        capped_df : pandas.core.frame.DataFrame\n",
        "            Capped dataframe\n",
        "    else:\n",
        "        capped_df : pandas.core.frame.DataFrame\n",
        "             Capped dataframe\n",
        "        class_weights : collections.OrderedDict\n",
        "            weight of class i\n",
        "\n",
        "    \"\"\"\n",
        "    all_categories = df.category_1.unique()\n",
        "    capped_df = pd.DataFrame(columns = df.columns)\n",
        "    \n",
        "    class_weights = dict()\n",
        "    total_samples = len(df)\n",
        "    total_classes = len(all_categories)\n",
        "\n",
        "    for cat in all_categories:\n",
        "        all_cat_samples = df[df.category_1 == cat]\n",
        "        total_cat_samples = len(all_cat_samples)\n",
        "        capped_cat = all_cat_samples.sample(min(total_cat_samples, cap),  random_state = SEED)\n",
        "        # total samples of that category in the new data\n",
        "        sample_len = len(capped_cat)\n",
        "        capped_df = capped_df.append(capped_cat, ignore_index = True)\n",
        "        class_weights[cat] = total_samples/(total_classes*sample_len)\n",
        "\n",
        "    class_weights = collections.OrderedDict(sorted(class_weights.items()))\n",
        "    if return_cls_weights:\n",
        "        return capped_df, class_weights\n",
        "    return capped_df\n",
        "\n",
        "# Max 20 samples per category\n",
        "CAP = 20\n",
        "capped_train, class_weights = to_cat(train, cap = CAP, return_cls_weights = True)\n",
        "capped_val = to_cat(val, cap = CAP)"
      ],
      "execution_count": 23,
      "outputs": []
    },
    {
      "cell_type": "markdown",
      "metadata": {
        "id": "KTU7RSSVIgBR"
      },
      "source": [
        "Intialize some variables."
      ]
    },
    {
      "cell_type": "code",
      "metadata": {
        "id": "8BckCQm0kzcN",
        "colab": {
          "base_uri": "https://localhost:8080/",
          "height": 264,
          "referenced_widgets": [
            "7b0e351312f64b7cb50d955cb34cd74b",
            "f1d328fcc93a401ba2031a51f98026e4",
            "8b5a38eaad7f435cb8c7d9c7de6f7d1b",
            "db616963be36428491df9f40250c0fe4",
            "af046a7ed8c44010830792740da8d90b",
            "ac7a7787a750467d83c2e9a80d22667d",
            "80587a40ff894a16bdedaa958bb86449",
            "cd63cc5eb09140b19947a9aea23f7f0a",
            "a1e10827385544d6a4539fa9a34d3fc1",
            "d7fc818b86d24336a6d1e4967955be4e",
            "d3446b845ac44b4a85ae0191b19c34ea",
            "dc67edd4da2247e598e2b0acf7ca5fab",
            "318fad8975694607b4629c6c6e8f0822",
            "3537c275e35942e39dfa95d5fe488eb6",
            "c80d82fcfb604c869b2ed38bff81ff55",
            "7e902960a0014b5d8c394200e0859216",
            "cff14a96ea5c4fab91d8117422134f84",
            "0e6fe3ac70c84121a6395d7ceb4299fb",
            "2b4bbb5f21f04ceea1fae572bf911e49",
            "85acec46d18747aa9849754dae8cc59f",
            "247795a4ee1e4d3ab41660a4c9a9721b",
            "86ba5eaca48342de8cdc1d1ca76015ad",
            "6b2ee4dc5e2d4225b3b3659af1f75fe3",
            "e1dcbea6f85149449ab1ef6b9174d545",
            "a00756a44ef143c2a6fe9c810dfadaeb",
            "7909a1c07c86427ba9d1270a2c09b47a",
            "8bf1542c91aa492d979909106ad572b4",
            "52e944ee041649e3a3ad02b81c65bc9b",
            "01fd4be4db4f442a82ab88923d4a61e2",
            "d35472e3596b4798af791b63796d55a5",
            "24c323780520424a9621f397c95631c0",
            "0c046d57d9c64383bb2a4a85180ad471",
            "f0c7dfe4f6274bddac5eeeccd8ebc04a",
            "ea355c2cdc004e09ad739eafd227d7da",
            "1920e317c5a24ec1849351d9696e15d8",
            "033bc89e49ee47d2a93969ee0507a3ca",
            "34c695ec39f14a8eaa13383c7ff09380",
            "1f1de1fc913f40e0a6cd070478a81010",
            "47bb96fffcd34f42923e6abc51e8aa9d",
            "ec77163d191742dd9ae145dc378c652e"
          ]
        },
        "outputId": "607888f0-12ec-4d0b-dd8a-3c2a810dd69c"
      },
      "source": [
        "MODEL_CHECKPOINT = \"distilbert-base-uncased\"\n",
        "TRAIN_BATCH_SIZE = 16\n",
        "VALID_BATCH_SIZE = 8\n",
        "EPOCHS = 30\n",
        "TOKENIZER = transformers.AutoTokenizer.from_pretrained(MODEL_CHECKPOINT)\n",
        "MAX_LEN = 512\n",
        "CHECKPOINT_DIR = 'pretrained-model/'\n",
        "LEARNING_RATE = 2e-5\n",
        "LOGGING_STEPS = 10\n",
        "SAVE_TOTAL_LIMIT = 3\n",
        "NUM_LABELS = len(le.classes_)\n",
        "METRIC = 'f1'\n",
        "PATIENCE = 2\n",
        "metric = datasets.load_metric('f1')\n",
        "# Save & Load path\n",
        "MODEL2_PATH = '/content/drive/MyDrive/MIDAS/Models/Pretrained-bert/'"
      ],
      "execution_count": 24,
      "outputs": [
        {
          "output_type": "display_data",
          "data": {
            "application/vnd.jupyter.widget-view+json": {
              "model_id": "7b0e351312f64b7cb50d955cb34cd74b",
              "version_minor": 0,
              "version_major": 2
            },
            "text/plain": [
              "HBox(children=(FloatProgress(value=0.0, description='Downloading', max=442.0, style=ProgressStyle(description_…"
            ]
          },
          "metadata": {
            "tags": []
          }
        },
        {
          "output_type": "stream",
          "text": [
            "\n"
          ],
          "name": "stdout"
        },
        {
          "output_type": "display_data",
          "data": {
            "application/vnd.jupyter.widget-view+json": {
              "model_id": "a1e10827385544d6a4539fa9a34d3fc1",
              "version_minor": 0,
              "version_major": 2
            },
            "text/plain": [
              "HBox(children=(FloatProgress(value=0.0, description='Downloading', max=231508.0, style=ProgressStyle(descripti…"
            ]
          },
          "metadata": {
            "tags": []
          }
        },
        {
          "output_type": "stream",
          "text": [
            "\n"
          ],
          "name": "stdout"
        },
        {
          "output_type": "display_data",
          "data": {
            "application/vnd.jupyter.widget-view+json": {
              "model_id": "cff14a96ea5c4fab91d8117422134f84",
              "version_minor": 0,
              "version_major": 2
            },
            "text/plain": [
              "HBox(children=(FloatProgress(value=0.0, description='Downloading', max=466062.0, style=ProgressStyle(descripti…"
            ]
          },
          "metadata": {
            "tags": []
          }
        },
        {
          "output_type": "stream",
          "text": [
            "\n"
          ],
          "name": "stdout"
        },
        {
          "output_type": "display_data",
          "data": {
            "application/vnd.jupyter.widget-view+json": {
              "model_id": "a00756a44ef143c2a6fe9c810dfadaeb",
              "version_minor": 0,
              "version_major": 2
            },
            "text/plain": [
              "HBox(children=(FloatProgress(value=0.0, description='Downloading', max=28.0, style=ProgressStyle(description_w…"
            ]
          },
          "metadata": {
            "tags": []
          }
        },
        {
          "output_type": "stream",
          "text": [
            "\n"
          ],
          "name": "stdout"
        },
        {
          "output_type": "display_data",
          "data": {
            "application/vnd.jupyter.widget-view+json": {
              "model_id": "f0c7dfe4f6274bddac5eeeccd8ebc04a",
              "version_minor": 0,
              "version_major": 2
            },
            "text/plain": [
              "HBox(children=(FloatProgress(value=0.0, description='Downloading', max=1905.0, style=ProgressStyle(description…"
            ]
          },
          "metadata": {
            "tags": []
          }
        },
        {
          "output_type": "stream",
          "text": [
            "\n"
          ],
          "name": "stdout"
        }
      ]
    },
    {
      "cell_type": "markdown",
      "metadata": {
        "id": "Ui45SYWEIiAo"
      },
      "source": [
        "## Dataset Tokenization"
      ]
    },
    {
      "cell_type": "code",
      "metadata": {
        "colab": {
          "base_uri": "https://localhost:8080/",
          "height": 116,
          "referenced_widgets": [
            "0635a4a07d0c4fb29f0e2c600dba0583",
            "5236849975644dabba84470185cba8c3",
            "38ddb0752a46417eb23d989efcd2fa21",
            "76dbd39678dd4405b8e99e930668810e",
            "c3e4a4c87f894a9aa1275f21d242bcaf",
            "5f19e7f09d73429a9447296ac8a08256",
            "96f7f8f1bca74bc99e3c5325c98aef0b",
            "7a82d542af18441ca7f92fa96fb98570",
            "f34453cbceb3444faefd0d0c04313bce",
            "b7fea89590dd470d8ac2dbaf9433bf15",
            "8ae7677f021241be97a3117e85dc3dfd",
            "750f087735e646dd988db6fb64b36694",
            "4579507859be4a8d9be8202af0b6d1e8",
            "ee2eb0b72c4a41bc94598999f4dcaf5f",
            "6d30ba57852e41129275ecd560070dee",
            "0a5a41209bb342da906587c07b1fab35"
          ]
        },
        "id": "tWrz7ki5q4pp",
        "outputId": "6fe6df65-6d2d-4466-821e-2a34ef518d8b"
      },
      "source": [
        "def make_dataset(df, val = False):\n",
        "    \"\"\"\n",
        "    Converts a dataset to input taken by 🤗 Transformers\n",
        "\n",
        "    Parameters\n",
        "    ----------\n",
        "    df : pandas.core.frame.DataFrame\n",
        "        Dataframe to be capped\n",
        "    val : boolean\n",
        "        Dataset for evaluation/training (default False)\n",
        "    Returns\n",
        "    -------\n",
        "    dataset : 🤗 Dataset\n",
        "        Tokenized 🤗 Dataset\n",
        "\n",
        "    \"\"\"\n",
        "    def tokenize(examples):\n",
        "        \"\"\"Tokenized a Dataset\"\"\"\n",
        "        return TOKENIZER(examples['sentence'], truncation=True)\n",
        "\n",
        "    sentences = df.product_spec\n",
        "    if not val:\n",
        "        labels = df.category_1\n",
        "        data_dict = {\n",
        "            'id' : list(range(len(df))),\n",
        "            'sentence' : sentences,\n",
        "            'label' : labels\n",
        "        }\n",
        "    else:\n",
        "        data_dict = {\n",
        "            'id' : list(range(len(df))),\n",
        "            'sentence' : sentences,\n",
        "        }\n",
        "    dataset = datasets.Dataset.from_dict(data_dict)\n",
        "    return dataset.map(tokenize, batched = True)\n",
        "\n",
        "encoded_train = make_dataset(capped_train)\n",
        "encoded_val = make_dataset(capped_val)"
      ],
      "execution_count": 26,
      "outputs": [
        {
          "output_type": "display_data",
          "data": {
            "application/vnd.jupyter.widget-view+json": {
              "model_id": "0635a4a07d0c4fb29f0e2c600dba0583",
              "version_minor": 0,
              "version_major": 2
            },
            "text/plain": [
              "HBox(children=(FloatProgress(value=0.0, max=1.0), HTML(value='')))"
            ]
          },
          "metadata": {
            "tags": []
          }
        },
        {
          "output_type": "stream",
          "text": [
            "\n"
          ],
          "name": "stdout"
        },
        {
          "output_type": "display_data",
          "data": {
            "application/vnd.jupyter.widget-view+json": {
              "model_id": "f34453cbceb3444faefd0d0c04313bce",
              "version_minor": 0,
              "version_major": 2
            },
            "text/plain": [
              "HBox(children=(FloatProgress(value=0.0, max=1.0), HTML(value='')))"
            ]
          },
          "metadata": {
            "tags": []
          }
        },
        {
          "output_type": "stream",
          "text": [
            "\n"
          ],
          "name": "stdout"
        }
      ]
    },
    {
      "cell_type": "markdown",
      "metadata": {
        "id": "Qp0K0qWgIkBL"
      },
      "source": [
        "We need to code up a `CustomTrainer` to take class distribution into account.<br>\n",
        "For the metric we need to use weighted F1 score, to account for imbalance."
      ]
    },
    {
      "cell_type": "code",
      "metadata": {
        "colab": {
          "base_uri": "https://localhost:8080/"
        },
        "id": "YP7CrBvONe9z",
        "outputId": "9ce42440-b9ec-4d0b-b268-78a75e4b7cb3"
      },
      "source": [
        "print(f'Total samples used for training - {len(encoded_train)} with a cap of {CAP}.')"
      ],
      "execution_count": 27,
      "outputs": [
        {
          "output_type": "stream",
          "text": [
            "Total samples used for training - 534 with a cap of 20.\n"
          ],
          "name": "stdout"
        }
      ]
    },
    {
      "cell_type": "code",
      "metadata": {
        "colab": {
          "base_uri": "https://localhost:8080/",
          "height": 173,
          "referenced_widgets": [
            "304579311b8f4954a2c399d56a26c504",
            "aea78923d9764917a76161a66fafaa10",
            "a0862bf4ab224440a713a20f24425926",
            "38ec042476b249839d76ad0da3fb8d1c",
            "f52bc48090cb4781a451fac57bb493ac",
            "ef98e40411cf4064b6fcef83c1801b9e",
            "1ae1e15a6e4940aab3b6517ed8eed290",
            "0b5c274183644fbf8533573cc56f0bec"
          ]
        },
        "id": "_XdLErqLq8Ym",
        "outputId": "96c3c540-fc3f-4b4c-ccdc-53cd782fe5c0"
      },
      "source": [
        "model = transformers.AutoModelForSequenceClassification.from_pretrained(MODEL_CHECKPOINT, num_labels=NUM_LABELS)\n",
        "\n",
        "class CustomTrainer(transformers.Trainer):\n",
        "    def compute_loss(self, model, inputs, return_outputs = False):\n",
        "        \"\"\"Overide with custom weighted loss\"\"\"\n",
        "        labels = inputs.pop(\"labels\")\n",
        "        weights = torch.tensor(list(class_weights.values())).cuda()\n",
        "\n",
        "        outputs = model(**inputs)\n",
        "        logits = outputs.logits\n",
        "\n",
        "        loss_func = torch.nn.CrossEntropyLoss(weight=weights)\n",
        "        loss = loss_func(logits, labels)\n",
        "        \n",
        "        return (loss, outputs) if return_outputs else loss\n",
        "\n",
        "def compute_metrics(eval_pred):\n",
        "    \"\"\"Helper metrics function\"\"\"\n",
        "    predictions, labels = eval_pred\n",
        "    predictions = np.argmax(predictions, axis=1)\n",
        "    return metric.compute(predictions=predictions, references=labels, average = 'weighted')\n",
        "\n",
        "args = transformers.TrainingArguments(\n",
        "        CHECKPOINT_DIR,\n",
        "        overwrite_output_dir = True,\n",
        "        evaluation_strategy = \"epoch\",\n",
        "        learning_rate= LEARNING_RATE,\n",
        "        per_device_train_batch_size = TRAIN_BATCH_SIZE,\n",
        "        per_device_eval_batch_size = VALID_BATCH_SIZE,\n",
        "        num_train_epochs= EPOCHS,\n",
        "        seed = SEED,\n",
        "        load_best_model_at_end = True,\n",
        "        logging_steps = LOGGING_STEPS, \n",
        "        save_total_limit = SAVE_TOTAL_LIMIT,\n",
        "        metric_for_best_model = METRIC\n",
        "    )\n",
        "trainer = CustomTrainer(\n",
        "        model,\n",
        "        args,\n",
        "        train_dataset= encoded_train,\n",
        "        eval_dataset= encoded_val,\n",
        "        tokenizer= TOKENIZER,\n",
        "        compute_metrics= compute_metrics,\n",
        "        callbacks = [transformers.EarlyStoppingCallback(PATIENCE)]\n",
        "    )\n",
        "\n",
        "if TRAIN:\n",
        "    trainer.train()"
      ],
      "execution_count": 32,
      "outputs": [
        {
          "output_type": "display_data",
          "data": {
            "application/vnd.jupyter.widget-view+json": {
              "model_id": "304579311b8f4954a2c399d56a26c504",
              "version_minor": 0,
              "version_major": 2
            },
            "text/plain": [
              "HBox(children=(FloatProgress(value=0.0, description='Downloading', max=267967963.0, style=ProgressStyle(descri…"
            ]
          },
          "metadata": {
            "tags": []
          }
        },
        {
          "output_type": "stream",
          "text": [
            "\n"
          ],
          "name": "stdout"
        },
        {
          "output_type": "stream",
          "text": [
            "Some weights of the model checkpoint at distilbert-base-uncased were not used when initializing DistilBertForSequenceClassification: ['vocab_transform.weight', 'vocab_transform.bias', 'vocab_layer_norm.weight', 'vocab_layer_norm.bias', 'vocab_projector.weight', 'vocab_projector.bias']\n",
            "- This IS expected if you are initializing DistilBertForSequenceClassification from the checkpoint of a model trained on another task or with another architecture (e.g. initializing a BertForSequenceClassification model from a BertForPreTraining model).\n",
            "- This IS NOT expected if you are initializing DistilBertForSequenceClassification from the checkpoint of a model that you expect to be exactly identical (initializing a BertForSequenceClassification model from a BertForSequenceClassification model).\n",
            "Some weights of DistilBertForSequenceClassification were not initialized from the model checkpoint at distilbert-base-uncased and are newly initialized: ['pre_classifier.weight', 'pre_classifier.bias', 'classifier.weight', 'classifier.bias']\n",
            "You should probably TRAIN this model on a down-stream task to be able to use it for predictions and inference.\n"
          ],
          "name": "stderr"
        }
      ]
    },
    {
      "cell_type": "code",
      "metadata": {
        "id": "_xCLvbTIUgEi"
      },
      "source": [
        "# To save the model\n",
        "# model.save_pretrained(MODEL_PATH_2)"
      ],
      "execution_count": 33,
      "outputs": []
    },
    {
      "cell_type": "code",
      "metadata": {
        "colab": {
          "base_uri": "https://localhost:8080/",
          "height": 80
        },
        "id": "j9ht24kEhlvl",
        "outputId": "04f8590c-d8e9-4971-da25-bf9d6161a889"
      },
      "source": [
        "ebook_sample"
      ],
      "execution_count": 34,
      "outputs": [
        {
          "output_type": "execute_result",
          "data": {
            "text/html": [
              "<div>\n",
              "<style scoped>\n",
              "    .dataframe tbody tr th:only-of-type {\n",
              "        vertical-align: middle;\n",
              "    }\n",
              "\n",
              "    .dataframe tbody tr th {\n",
              "        vertical-align: top;\n",
              "    }\n",
              "\n",
              "    .dataframe thead th {\n",
              "        text-align: right;\n",
              "    }\n",
              "</style>\n",
              "<table border=\"1\" class=\"dataframe\">\n",
              "  <thead>\n",
              "    <tr style=\"text-align: right;\">\n",
              "      <th></th>\n",
              "      <th>description</th>\n",
              "      <th>name</th>\n",
              "      <th>product_spec</th>\n",
              "    </tr>\n",
              "  </thead>\n",
              "  <tbody>\n",
              "    <tr>\n",
              "      <th>17462</th>\n",
              "      <td>cash Replacement Kernphysik Guarantee die hrun...</td>\n",
              "      <td>Einf hrung die Kernphysik</td>\n",
              "      <td>Publisher is Wiley, Publication Date is 2015-0...</td>\n",
              "    </tr>\n",
              "  </tbody>\n",
              "</table>\n",
              "</div>"
            ],
            "text/plain": [
              "                                             description  ...                                       product_spec\n",
              "17462  cash Replacement Kernphysik Guarantee die hrun...  ...  Publisher is Wiley, Publication Date is 2015-0...\n",
              "\n",
              "[1 rows x 3 columns]"
            ]
          },
          "metadata": {
            "tags": []
          },
          "execution_count": 34
        }
      ]
    },
    {
      "cell_type": "code",
      "metadata": {
        "id": "75JZnXFvh1hC"
      },
      "source": [
        "if TRAIN:\n",
        "    out = trainer.predict(sample)\n",
        "    print(le.inverse_transform(np.argmax(out.predictions, axis = 1)))"
      ],
      "execution_count": 35,
      "outputs": []
    },
    {
      "cell_type": "code",
      "metadata": {
        "colab": {
          "base_uri": "https://localhost:8080/",
          "height": 104,
          "referenced_widgets": [
            "f3057963dde3489c97b79c23c148d031",
            "6b20687185104bcea5e6bb4383a19f09",
            "9b29acbfca874382a2b33646e84aa58b",
            "d1957382ce834fe0825def2abefc1afa",
            "efefe2827be34102a1a8f0ac6015c7ae",
            "e8bb47d7193d4557a35106a4cd8e5e67",
            "d04a12087eeb4871820b62ac18e324e3",
            "1b62f939b373475abace090d600dbe01"
          ]
        },
        "id": "32oZn0YDb9Et",
        "outputId": "cdb46b9d-fa61-40d7-d392-65022dd30233"
      },
      "source": [
        "# Tokenize the ebook sample\n",
        "sample = make_dataset(ebook_sample, val = True)\n",
        "\n",
        "if INFER:\n",
        "    # Download model from drive\n",
        "    import gdown\n",
        "    import os\n",
        "    url = 'https://drive.google.com/uc?id=1-3BVfpYTmMNq4PWIf0-RoqFEa7N0CO5-'\n",
        "    path = '/content/model/pretrained-model/'\n",
        "    if not os.path.exists(path):\n",
        "        os.makedirs(path)\n",
        "    gdown.download(url, path + 'pytorch_model.bin', quiet=True)\n",
        "    gdown.download('https://drive.google.com/uc?id=1-HeZWu_-fsGD4Di6gXrr6NygJCmlqlqi', path + 'config.json', quiet=True)\n",
        "\n",
        "    model2 = transformers.DistilBertForSequenceClassification.from_pretrained(path, local_files_only=True)\n",
        "    collator = transformers.DataCollatorWithPadding(TOKENIZER)\n",
        "    trainer2 = transformers.Trainer(model2, data_collator  = collator, compute_metrics= compute_metrics)\n",
        "    # predict on the ebook sample\n",
        "    out = trainer2.predict(sample)\n",
        "    print(le.inverse_transform(np.argmax(out.predictions, axis = 1)))"
      ],
      "execution_count": 39,
      "outputs": [
        {
          "output_type": "display_data",
          "data": {
            "application/vnd.jupyter.widget-view+json": {
              "model_id": "f3057963dde3489c97b79c23c148d031",
              "version_minor": 0,
              "version_major": 2
            },
            "text/plain": [
              "HBox(children=(FloatProgress(value=0.0, max=1.0), HTML(value='')))"
            ]
          },
          "metadata": {
            "tags": []
          }
        },
        {
          "output_type": "stream",
          "text": [
            "\n"
          ],
          "name": "stdout"
        },
        {
          "output_type": "display_data",
          "data": {
            "text/html": [
              "\n",
              "    <div>\n",
              "        <style>\n",
              "            /* Turns off some styling */\n",
              "            progress {\n",
              "                /* gets rid of default border in Firefox and Opera. */\n",
              "                border: none;\n",
              "                /* Needs to be in here for Safari polyfill so background images work as expected. */\n",
              "                background-size: auto;\n",
              "            }\n",
              "        </style>\n",
              "      \n",
              "      <progress value='1' max='1' style='width:300px; height:20px; vertical-align: middle;'></progress>\n",
              "      [1/1 : < :]\n",
              "    </div>\n",
              "    "
            ],
            "text/plain": [
              "<IPython.core.display.HTML object>"
            ]
          },
          "metadata": {
            "tags": []
          }
        },
        {
          "output_type": "stream",
          "text": [
            "['Ebooks']\n"
          ],
          "name": "stdout"
        }
      ]
    },
    {
      "cell_type": "code",
      "metadata": {
        "colab": {
          "base_uri": "https://localhost:8080/",
          "height": 176
        },
        "id": "Flrn9spAze0i",
        "outputId": "792c296e-af93-4465-f39d-8467ce99d50c"
      },
      "source": [
        "trainer2.evaluate(encoded_val)"
      ],
      "execution_count": 41,
      "outputs": [
        {
          "output_type": "display_data",
          "data": {
            "text/html": [
              "\n",
              "    <div>\n",
              "        <style>\n",
              "            /* Turns off some styling */\n",
              "            progress {\n",
              "                /* gets rid of default border in Firefox and Opera. */\n",
              "                border: none;\n",
              "                /* Needs to be in here for Safari polyfill so background images work as expected. */\n",
              "                background-size: auto;\n",
              "            }\n",
              "        </style>\n",
              "      \n",
              "      <progress value='50' max='1' style='width:300px; height:20px; vertical-align: middle;'></progress>\n",
              "      [1/1 00:21]\n",
              "    </div>\n",
              "    "
            ],
            "text/plain": [
              "<IPython.core.display.HTML object>"
            ]
          },
          "metadata": {
            "tags": []
          }
        },
        {
          "output_type": "execute_result",
          "data": {
            "text/plain": [
              "{'eval_f1': 0.8970872704281935,\n",
              " 'eval_loss': 0.493320494890213,\n",
              " 'eval_mem_cpu_alloc_delta': 380928,\n",
              " 'eval_mem_cpu_peaked_delta': 0,\n",
              " 'eval_mem_gpu_alloc_delta': 0,\n",
              " 'eval_mem_gpu_peaked_delta': 289526784,\n",
              " 'eval_runtime': 2.3227,\n",
              " 'eval_samples_per_second': 167.905}"
            ]
          },
          "metadata": {
            "tags": []
          },
          "execution_count": 41
        }
      ]
    },
    {
      "cell_type": "markdown",
      "metadata": {
        "id": "5b7zyaXFZZea"
      },
      "source": [
        "## Inference on Data without targets"
      ]
    },
    {
      "cell_type": "markdown",
      "metadata": {
        "id": "XQJ14v_ZvASy"
      },
      "source": [
        "Let's use both of our models to predict on the samples which we removed in the preproc notebook which didn't have a feasible target variable and see what the model outputs."
      ]
    },
    {
      "cell_type": "code",
      "metadata": {
        "colab": {
          "base_uri": "https://localhost:8080/",
          "height": 202
        },
        "id": "aQ8I4IZ0qA_y",
        "outputId": "f9aeb706-6df9-4ca8-f73e-477773ebc5b5"
      },
      "source": [
        "raw_data = pd.read_csv('data.csv')\n",
        "with open(\"below_thresh_index.txt\", \"r\") as fp:\n",
        "        below_thresh_index = json.load(fp)\n",
        "REQ_COLS = ['description', 'product_name', 'product_specifications']\n",
        "below_thresh = raw_data.iloc[below_thresh_index][REQ_COLS]\n",
        "below_thresh.head()"
      ],
      "execution_count": 42,
      "outputs": [
        {
          "output_type": "execute_result",
          "data": {
            "text/html": [
              "<div>\n",
              "<style scoped>\n",
              "    .dataframe tbody tr th:only-of-type {\n",
              "        vertical-align: middle;\n",
              "    }\n",
              "\n",
              "    .dataframe tbody tr th {\n",
              "        vertical-align: top;\n",
              "    }\n",
              "\n",
              "    .dataframe thead th {\n",
              "        text-align: right;\n",
              "    }\n",
              "</style>\n",
              "<table border=\"1\" class=\"dataframe\">\n",
              "  <thead>\n",
              "    <tr style=\"text-align: right;\">\n",
              "      <th></th>\n",
              "      <th>description</th>\n",
              "      <th>product_name</th>\n",
              "      <th>product_specifications</th>\n",
              "    </tr>\n",
              "  </thead>\n",
              "  <tbody>\n",
              "    <tr>\n",
              "      <th>5</th>\n",
              "      <td>Key Features of Eternal Gandhi Super Series Cr...</td>\n",
              "      <td>Eternal Gandhi Super Series Crystal Paper Weig...</td>\n",
              "      <td>{\"product_specification\"=&gt;[{\"key\"=&gt;\"Model Name...</td>\n",
              "    </tr>\n",
              "    <tr>\n",
              "      <th>30</th>\n",
              "      <td>Key Features of Bengal Blooms Rose Artificial ...</td>\n",
              "      <td>Bengal Blooms Rose Artificial Plant  with Pot</td>\n",
              "      <td>{\"product_specification\"=&gt;[{\"key\"=&gt;\"Brand\", \"v...</td>\n",
              "    </tr>\n",
              "    <tr>\n",
              "      <th>44</th>\n",
              "      <td>Specifications of Vishudh Printed Women's Stra...</td>\n",
              "      <td>Vishudh Printed Women's Straight Kurta</td>\n",
              "      <td>{\"product_specification\"=&gt;[{\"key\"=&gt;\"Sleeve\", \"...</td>\n",
              "    </tr>\n",
              "    <tr>\n",
              "      <th>45</th>\n",
              "      <td>Specifications of Vishudh Printed Women's Stra...</td>\n",
              "      <td>Vishudh Printed Women's Straight Kurta</td>\n",
              "      <td>{\"product_specification\"=&gt;[{\"key\"=&gt;\"Sleeve\", \"...</td>\n",
              "    </tr>\n",
              "    <tr>\n",
              "      <th>46</th>\n",
              "      <td>Specifications of Vishudh Printed Women's Anar...</td>\n",
              "      <td>Vishudh Printed Women's Anarkali Kurta</td>\n",
              "      <td>{\"product_specification\"=&gt;[{\"key\"=&gt;\"Sleeve\", \"...</td>\n",
              "    </tr>\n",
              "  </tbody>\n",
              "</table>\n",
              "</div>"
            ],
            "text/plain": [
              "                                          description  ...                             product_specifications\n",
              "5   Key Features of Eternal Gandhi Super Series Cr...  ...  {\"product_specification\"=>[{\"key\"=>\"Model Name...\n",
              "30  Key Features of Bengal Blooms Rose Artificial ...  ...  {\"product_specification\"=>[{\"key\"=>\"Brand\", \"v...\n",
              "44  Specifications of Vishudh Printed Women's Stra...  ...  {\"product_specification\"=>[{\"key\"=>\"Sleeve\", \"...\n",
              "45  Specifications of Vishudh Printed Women's Stra...  ...  {\"product_specification\"=>[{\"key\"=>\"Sleeve\", \"...\n",
              "46  Specifications of Vishudh Printed Women's Anar...  ...  {\"product_specification\"=>[{\"key\"=>\"Sleeve\", \"...\n",
              "\n",
              "[5 rows x 3 columns]"
            ]
          },
          "metadata": {
            "tags": []
          },
          "execution_count": 42
        }
      ]
    },
    {
      "cell_type": "markdown",
      "metadata": {
        "id": "9O07HWunvZET"
      },
      "source": [
        "Apply the same steps from the previous notebook to all these feature variables."
      ]
    },
    {
      "cell_type": "code",
      "metadata": {
        "colab": {
          "base_uri": "https://localhost:8080/",
          "height": 202
        },
        "id": "P3qfQNs6vPoD",
        "outputId": "00956376-6373-4f3c-e84b-1c3984655d7a"
      },
      "source": [
        "all_words = defaultdict(lambda:1)\n",
        "stopwords =  set(nltk.corpus.stopwords.words('english'))\n",
        "for word in stopwords:\n",
        "    all_words[word] = 0\n",
        "\n",
        "def clean_desc(s):\n",
        "    \"\"\"\n",
        "    Cleans the description\n",
        "    & removes the stopwords\n",
        "\n",
        "    Parameters\n",
        "    ----------\n",
        "    s : string\n",
        "        A single string\n",
        "    \n",
        "    Returns\n",
        "    -------\n",
        "    s : string\n",
        "        Joined tokens \n",
        "    \"\"\"\n",
        "    s = re.sub(r'[^a-zA-Z\\s]+',' ', s)\n",
        "    # remove one letter words\n",
        "    s = re.sub(r'\\b\\w\\b',' ', s)\n",
        "    # clean\n",
        "    s = re.sub(r'\\s+',' ', s).strip()\n",
        "    word_tokens = {token for token in s.split(' ') if all_words[token]}\n",
        "    if not word_tokens:\n",
        "        return s\n",
        "    return ' '.join(word_tokens)\n",
        "\n",
        "tokens = []\n",
        "for s in below_thresh['product_name'].values:\n",
        "    # keep only letters & spaces\n",
        "    s = re.sub(r'[^a-zA-Z\\s]+',' ', s)\n",
        "    # remove one letter words\n",
        "    s = re.sub(r'\\b\\w\\b',' ', s)\n",
        "    # clean\n",
        "    s = re.sub(r'\\s+',' ', s).strip()\n",
        "    word_tokens = [token for token in s.split(' ') if all_words[token]]\n",
        "    if not word_tokens:\n",
        "        tokens.append(s)\n",
        "    else:\n",
        "        tokens.append(' '.join(word_tokens))\n",
        "\n",
        "below_thresh.loc[:, ['name']] = tokens\n",
        "below_thresh.drop(columns = ['product_name'], inplace = True)\n",
        "\n",
        "def clean_product_spec(s):\n",
        "    \"\"\"Cleans the variable \n",
        "    & joins to have a semantic meaning\n",
        "\n",
        "    Parameters\n",
        "    ----------\n",
        "    s : string\n",
        "        A single product spec\n",
        "    \n",
        "    Returns\n",
        "    -------\n",
        "    parsed : string\n",
        "        parsed string\n",
        "    \"\"\"\n",
        "    if pd.isna(s):\n",
        "        return np.nan\n",
        "    pattern = re.compile(r'\"key\"=>\"(.*?)\".*?\"value\"=>\"(.*?)\"')\n",
        "    matches = pattern.finditer(s)\n",
        "    parsed = \"\"\n",
        "    for match in matches:\n",
        "        key = match.group(1)\n",
        "        value = match.group(2)\n",
        "        parsed += f\"{key} is {value}, \"\n",
        "    parsed = parsed.strip()[:-1]\n",
        "    if parsed:\n",
        "        return parsed\n",
        "    return np.nan\n",
        "\n",
        "below_thresh['product_spec'] = below_thresh['product_specifications'].apply(clean_product_spec)\n",
        "below_thresh.drop(columns = ['product_specifications'], inplace = True)\n",
        "below_thresh = below_thresh[below_thresh['product_spec'].notna()].copy(deep = True)\n",
        "below_thresh.reset_index(inplace = True, drop = True)\n",
        "\n",
        "below_thresh.head()"
      ],
      "execution_count": 43,
      "outputs": [
        {
          "output_type": "execute_result",
          "data": {
            "text/html": [
              "<div>\n",
              "<style scoped>\n",
              "    .dataframe tbody tr th:only-of-type {\n",
              "        vertical-align: middle;\n",
              "    }\n",
              "\n",
              "    .dataframe tbody tr th {\n",
              "        vertical-align: top;\n",
              "    }\n",
              "\n",
              "    .dataframe thead th {\n",
              "        text-align: right;\n",
              "    }\n",
              "</style>\n",
              "<table border=\"1\" class=\"dataframe\">\n",
              "  <thead>\n",
              "    <tr style=\"text-align: right;\">\n",
              "      <th></th>\n",
              "      <th>description</th>\n",
              "      <th>name</th>\n",
              "      <th>product_spec</th>\n",
              "    </tr>\n",
              "  </thead>\n",
              "  <tbody>\n",
              "    <tr>\n",
              "      <th>0</th>\n",
              "      <td>Key Features of Eternal Gandhi Super Series Cr...</td>\n",
              "      <td>Eternal Gandhi Super Series Crystal Paper Weig...</td>\n",
              "      <td>Model Name is Gandhi Paper Weight Mark V, Weig...</td>\n",
              "    </tr>\n",
              "    <tr>\n",
              "      <th>1</th>\n",
              "      <td>Key Features of Bengal Blooms Rose Artificial ...</td>\n",
              "      <td>Bengal Blooms Rose Artificial Plant Pot</td>\n",
              "      <td>Brand is Bengal Blooms, Model Number is BBAJC2...</td>\n",
              "    </tr>\n",
              "    <tr>\n",
              "      <th>2</th>\n",
              "      <td>Specifications of Vishudh Printed Women's Stra...</td>\n",
              "      <td>Vishudh Printed Women Straight Kurta</td>\n",
              "      <td>Sleeve is Sleeveless, Number of Contents in Sa...</td>\n",
              "    </tr>\n",
              "    <tr>\n",
              "      <th>3</th>\n",
              "      <td>Specifications of Vishudh Printed Women's Stra...</td>\n",
              "      <td>Vishudh Printed Women Straight Kurta</td>\n",
              "      <td>Sleeve is Sleeveless, Number of Contents in Sa...</td>\n",
              "    </tr>\n",
              "    <tr>\n",
              "      <th>4</th>\n",
              "      <td>Specifications of Vishudh Printed Women's Anar...</td>\n",
              "      <td>Vishudh Printed Women Anarkali Kurta</td>\n",
              "      <td>Sleeve is Half Sleeve, Number of Contents in S...</td>\n",
              "    </tr>\n",
              "  </tbody>\n",
              "</table>\n",
              "</div>"
            ],
            "text/plain": [
              "                                         description  ...                                       product_spec\n",
              "0  Key Features of Eternal Gandhi Super Series Cr...  ...  Model Name is Gandhi Paper Weight Mark V, Weig...\n",
              "1  Key Features of Bengal Blooms Rose Artificial ...  ...  Brand is Bengal Blooms, Model Number is BBAJC2...\n",
              "2  Specifications of Vishudh Printed Women's Stra...  ...  Sleeve is Sleeveless, Number of Contents in Sa...\n",
              "3  Specifications of Vishudh Printed Women's Stra...  ...  Sleeve is Sleeveless, Number of Contents in Sa...\n",
              "4  Specifications of Vishudh Printed Women's Anar...  ...  Sleeve is Half Sleeve, Number of Contents in S...\n",
              "\n",
              "[5 rows x 3 columns]"
            ]
          },
          "metadata": {
            "tags": []
          },
          "execution_count": 43
        }
      ]
    },
    {
      "cell_type": "code",
      "metadata": {
        "colab": {
          "base_uri": "https://localhost:8080/",
          "height": 86,
          "referenced_widgets": [
            "62938a41a9a64f508def3bd625872cea",
            "3efe1041105e4528947379ef7d7751fd",
            "75744c962d734b51baf21800c5c42e60",
            "f029bde90b3847d89d4a94390e1b680c",
            "7f324d37b77149e8bf76be9a00731da2",
            "680d26ce864d4d3ab199a33ba4af24d5",
            "4d1968de6d344916880eff1c8801454a",
            "a058bc0eed40418497ecf511431b1bb9"
          ]
        },
        "id": "4UnsUq2twwTy",
        "outputId": "16bb476f-23a9-49b7-dc51-d5962af238ee"
      },
      "source": [
        "rf_clf_predictions = clf.predict(transformer.transform(below_thresh))\n",
        "bert_pred = np.argmax(trainer2.predict(make_dataset(below_thresh.reset_index(drop = True), val = True)).predictions, axis = 1)\n",
        "\n",
        "rf_bert_df = pd.DataFrame(columns = ['product_name', 'predicted_category_rf_clf', 'predicted_category_bert'])\n",
        "for idx in below_thresh.index:\n",
        "    rf_bert_df = rf_bert_df.append({'product_name' : below_thresh.iloc[idx]['name'],\n",
        "                                'predicted_category_rf_clf' : le.inverse_transform([rf_clf_predictions[idx]])[0],\n",
        "                                'predicted_category_bert' : le.inverse_transform([bert_pred[idx]])[0]}, ignore_index = True)"
      ],
      "execution_count": 44,
      "outputs": [
        {
          "output_type": "display_data",
          "data": {
            "application/vnd.jupyter.widget-view+json": {
              "model_id": "62938a41a9a64f508def3bd625872cea",
              "version_minor": 0,
              "version_major": 2
            },
            "text/plain": [
              "HBox(children=(FloatProgress(value=0.0, max=1.0), HTML(value='')))"
            ]
          },
          "metadata": {
            "tags": []
          }
        },
        {
          "output_type": "stream",
          "text": [
            "\n"
          ],
          "name": "stdout"
        },
        {
          "output_type": "display_data",
          "data": {
            "text/html": [
              "\n",
              "    <div>\n",
              "        <style>\n",
              "            /* Turns off some styling */\n",
              "            progress {\n",
              "                /* gets rid of default border in Firefox and Opera. */\n",
              "                border: none;\n",
              "                /* Needs to be in here for Safari polyfill so background images work as expected. */\n",
              "                background-size: auto;\n",
              "            }\n",
              "        </style>\n",
              "      \n",
              "      <progress value='92' max='1' style='width:300px; height:20px; vertical-align: middle;'></progress>\n",
              "      [1/1 01:02]\n",
              "    </div>\n",
              "    "
            ],
            "text/plain": [
              "<IPython.core.display.HTML object>"
            ]
          },
          "metadata": {
            "tags": []
          }
        }
      ]
    },
    {
      "cell_type": "markdown",
      "metadata": {
        "id": "ssgI45qYIsw2"
      },
      "source": [
        "It would be interesting to compare the predictions of Random Forest and the Bert Model."
      ]
    },
    {
      "cell_type": "code",
      "metadata": {
        "colab": {
          "base_uri": "https://localhost:8080/",
          "height": 356
        },
        "id": "oNlu-snM40WE",
        "outputId": "2034976f-4e02-4107-c1e7-e376d6ba3bea"
      },
      "source": [
        "# Result is not truncated so we can compare\n",
        "# Check out the first 10 predictions\n",
        "HTML(rf_bert_df.head(10).to_html())"
      ],
      "execution_count": 45,
      "outputs": [
        {
          "output_type": "execute_result",
          "data": {
            "text/html": [
              "<table border=\"1\" class=\"dataframe\">\n",
              "  <thead>\n",
              "    <tr style=\"text-align: right;\">\n",
              "      <th></th>\n",
              "      <th>product_name</th>\n",
              "      <th>predicted_category_rf_clf</th>\n",
              "      <th>predicted_category_bert</th>\n",
              "    </tr>\n",
              "  </thead>\n",
              "  <tbody>\n",
              "    <tr>\n",
              "      <th>0</th>\n",
              "      <td>Eternal Gandhi Super Series Crystal Paper Weights Silver Finish</td>\n",
              "      <td>Pens Stationery</td>\n",
              "      <td>Pens Stationery</td>\n",
              "    </tr>\n",
              "    <tr>\n",
              "      <th>1</th>\n",
              "      <td>Bengal Blooms Rose Artificial Plant Pot</td>\n",
              "      <td>Home Decor Festive Needs</td>\n",
              "      <td>Home Decor Festive Needs</td>\n",
              "    </tr>\n",
              "    <tr>\n",
              "      <th>2</th>\n",
              "      <td>Vishudh Printed Women Straight Kurta</td>\n",
              "      <td>Clothing</td>\n",
              "      <td>Clothing</td>\n",
              "    </tr>\n",
              "    <tr>\n",
              "      <th>3</th>\n",
              "      <td>Vishudh Printed Women Straight Kurta</td>\n",
              "      <td>Clothing</td>\n",
              "      <td>Clothing</td>\n",
              "    </tr>\n",
              "    <tr>\n",
              "      <th>4</th>\n",
              "      <td>Vishudh Printed Women Anarkali Kurta</td>\n",
              "      <td>Clothing</td>\n",
              "      <td>Clothing</td>\n",
              "    </tr>\n",
              "    <tr>\n",
              "      <th>5</th>\n",
              "      <td>BuildTrack PIR Wireless Motion Sensor One Switch Control Wireless Sensor Security System</td>\n",
              "      <td>Automotive</td>\n",
              "      <td>Home Improvement</td>\n",
              "    </tr>\n",
              "    <tr>\n",
              "      <th>6</th>\n",
              "      <td>Skayvon SUMMERSIBLE SINGLE PHASE PUMP CONTROLLER Wired Sensor Security System</td>\n",
              "      <td>Automotive</td>\n",
              "      <td>Home Improvement</td>\n",
              "    </tr>\n",
              "    <tr>\n",
              "      <th>7</th>\n",
              "      <td>MASARA Solid Women Straight Kurta</td>\n",
              "      <td>Clothing</td>\n",
              "      <td>Clothing</td>\n",
              "    </tr>\n",
              "    <tr>\n",
              "      <th>8</th>\n",
              "      <td>Vishudh Printed Women Straight Kurta</td>\n",
              "      <td>Clothing</td>\n",
              "      <td>Clothing</td>\n",
              "    </tr>\n",
              "    <tr>\n",
              "      <th>9</th>\n",
              "      <td>Skayvon SUBMERSIBBLE THREE PHASE PUMP CONTROLLER Wired Sensor Security System</td>\n",
              "      <td>Automotive</td>\n",
              "      <td>Home Improvement</td>\n",
              "    </tr>\n",
              "  </tbody>\n",
              "</table>"
            ],
            "text/plain": [
              "<IPython.core.display.HTML object>"
            ]
          },
          "metadata": {
            "tags": []
          },
          "execution_count": 45
        }
      ]
    },
    {
      "cell_type": "markdown",
      "metadata": {
        "id": "F6mf-HdRJg6p"
      },
      "source": [
        "It is worth noting that the Random Forest was trained on ~15k examples and Bert model just on 20% of that."
      ]
    },
    {
      "cell_type": "code",
      "metadata": {
        "colab": {
          "base_uri": "https://localhost:8080/"
        },
        "id": "p-WSnpOy50O4",
        "outputId": "3c9e8f25-1093-452c-91f4-598cd70b959e"
      },
      "source": [
        "print(f'The two models don\"t agree on {int((sum(rf_bert_df.predicted_category_rf_clf != rf_bert_df.predicted_category_bert)/len(rf_bert_df)) * 100)}% samples')"
      ],
      "execution_count": 46,
      "outputs": [
        {
          "output_type": "stream",
          "text": [
            "The two models don\"t agree on 24% samples\n"
          ],
          "name": "stdout"
        }
      ]
    },
    {
      "cell_type": "code",
      "metadata": {
        "id": "7sGvGmXC0iF6"
      },
      "source": [
        ""
      ],
      "execution_count": null,
      "outputs": []
    }
  ]
}