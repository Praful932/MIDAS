{
  "nbformat": 4,
  "nbformat_minor": 0,
  "metadata": {
    "colab": {
      "name": "MIDAS - Preprocessing.ipynb",
      "provenance": [],
      "collapsed_sections": []
    },
    "kernelspec": {
      "name": "python3",
      "display_name": "Python 3"
    },
    "language_info": {
      "name": "python"
    }
  },
  "cells": [
    {
      "cell_type": "markdown",
      "metadata": {
        "id": "_LIJ27GyxYEB"
      },
      "source": [
        "# Setup"
      ]
    },
    {
      "cell_type": "code",
      "metadata": {
        "id": "MTuxWBOY4u6u",
        "colab": {
          "base_uri": "https://localhost:8080/"
        },
        "outputId": "d9200a28-8dc2-4543-bbb9-3dd1c8404fc4"
      },
      "source": [
        "!gdown https://drive.google.com/uc?id=1Kat_WLKADObIUX4OMGoOelJsTYkL4Fx_"
      ],
      "execution_count": 1,
      "outputs": [
        {
          "output_type": "stream",
          "text": [
            "Downloading...\n",
            "From: https://drive.google.com/uc?id=1Kat_WLKADObIUX4OMGoOelJsTYkL4Fx_\n",
            "To: /content/data.csv\n",
            "38.1MB [00:00, 49.8MB/s]\n"
          ],
          "name": "stdout"
        }
      ]
    },
    {
      "cell_type": "code",
      "metadata": {
        "colab": {
          "base_uri": "https://localhost:8080/"
        },
        "id": "_yrCFae9GVxn",
        "outputId": "eff78bd4-04f4-4252-f142-aed4817766ae"
      },
      "source": [
        "import numpy as np\n",
        "import pandas as pd\n",
        "import re\n",
        "import string\n",
        "import matplotlib.pyplot as plt\n",
        "import seaborn as sns\n",
        "import nltk\n",
        "import string\n",
        "import json\n",
        "from collections import defaultdict\n",
        "from collections import Counter\n",
        "\n",
        "nltk.download('stopwords')"
      ],
      "execution_count": 2,
      "outputs": [
        {
          "output_type": "stream",
          "text": [
            "[nltk_data] Downloading package stopwords to /root/nltk_data...\n",
            "[nltk_data]   Unzipping corpora/stopwords.zip.\n"
          ],
          "name": "stdout"
        },
        {
          "output_type": "execute_result",
          "data": {
            "text/plain": [
              "True"
            ]
          },
          "metadata": {
            "tags": []
          },
          "execution_count": 2
        }
      ]
    },
    {
      "cell_type": "code",
      "metadata": {
        "colab": {
          "base_uri": "https://localhost:8080/",
          "height": 482
        },
        "id": "Zn9uUGuIPzdi",
        "outputId": "851f03c2-4ae6-4a14-aab6-5403157cfe7c"
      },
      "source": [
        "df = pd.read_csv('data.csv')\n",
        "df.head()"
      ],
      "execution_count": 3,
      "outputs": [
        {
          "output_type": "execute_result",
          "data": {
            "text/html": [
              "<div>\n",
              "<style scoped>\n",
              "    .dataframe tbody tr th:only-of-type {\n",
              "        vertical-align: middle;\n",
              "    }\n",
              "\n",
              "    .dataframe tbody tr th {\n",
              "        vertical-align: top;\n",
              "    }\n",
              "\n",
              "    .dataframe thead th {\n",
              "        text-align: right;\n",
              "    }\n",
              "</style>\n",
              "<table border=\"1\" class=\"dataframe\">\n",
              "  <thead>\n",
              "    <tr style=\"text-align: right;\">\n",
              "      <th></th>\n",
              "      <th>uniq_id</th>\n",
              "      <th>crawl_timestamp</th>\n",
              "      <th>product_url</th>\n",
              "      <th>product_name</th>\n",
              "      <th>product_category_tree</th>\n",
              "      <th>pid</th>\n",
              "      <th>retail_price</th>\n",
              "      <th>discounted_price</th>\n",
              "      <th>image</th>\n",
              "      <th>is_FK_Advantage_product</th>\n",
              "      <th>description</th>\n",
              "      <th>product_rating</th>\n",
              "      <th>overall_rating</th>\n",
              "      <th>brand</th>\n",
              "      <th>product_specifications</th>\n",
              "    </tr>\n",
              "  </thead>\n",
              "  <tbody>\n",
              "    <tr>\n",
              "      <th>0</th>\n",
              "      <td>c2d766ca982eca8304150849735ffef9</td>\n",
              "      <td>2016-03-25 22:59:23 +0000</td>\n",
              "      <td>http://www.flipkart.com/alisha-solid-women-s-c...</td>\n",
              "      <td>Alisha Solid Women's Cycling Shorts</td>\n",
              "      <td>[\"Clothing &gt;&gt; Women's Clothing &gt;&gt; Lingerie, Sl...</td>\n",
              "      <td>SRTEH2FF9KEDEFGF</td>\n",
              "      <td>999.0</td>\n",
              "      <td>379.0</td>\n",
              "      <td>[\"http://img5a.flixcart.com/image/short/u/4/a/...</td>\n",
              "      <td>False</td>\n",
              "      <td>Key Features of Alisha Solid Women's Cycling S...</td>\n",
              "      <td>No rating available</td>\n",
              "      <td>No rating available</td>\n",
              "      <td>Alisha</td>\n",
              "      <td>{\"product_specification\"=&gt;[{\"key\"=&gt;\"Number of ...</td>\n",
              "    </tr>\n",
              "    <tr>\n",
              "      <th>1</th>\n",
              "      <td>7f7036a6d550aaa89d34c77bd39a5e48</td>\n",
              "      <td>2016-03-25 22:59:23 +0000</td>\n",
              "      <td>http://www.flipkart.com/fabhomedecor-fabric-do...</td>\n",
              "      <td>FabHomeDecor Fabric Double Sofa Bed</td>\n",
              "      <td>[\"Furniture &gt;&gt; Living Room Furniture &gt;&gt; Sofa B...</td>\n",
              "      <td>SBEEH3QGU7MFYJFY</td>\n",
              "      <td>32157.0</td>\n",
              "      <td>22646.0</td>\n",
              "      <td>[\"http://img6a.flixcart.com/image/sofa-bed/j/f...</td>\n",
              "      <td>False</td>\n",
              "      <td>FabHomeDecor Fabric Double Sofa Bed (Finish Co...</td>\n",
              "      <td>No rating available</td>\n",
              "      <td>No rating available</td>\n",
              "      <td>FabHomeDecor</td>\n",
              "      <td>{\"product_specification\"=&gt;[{\"key\"=&gt;\"Installati...</td>\n",
              "    </tr>\n",
              "    <tr>\n",
              "      <th>2</th>\n",
              "      <td>f449ec65dcbc041b6ae5e6a32717d01b</td>\n",
              "      <td>2016-03-25 22:59:23 +0000</td>\n",
              "      <td>http://www.flipkart.com/aw-bellies/p/itmeh4grg...</td>\n",
              "      <td>AW Bellies</td>\n",
              "      <td>[\"Footwear &gt;&gt; Women's Footwear &gt;&gt; Ballerinas &gt;...</td>\n",
              "      <td>SHOEH4GRSUBJGZXE</td>\n",
              "      <td>999.0</td>\n",
              "      <td>499.0</td>\n",
              "      <td>[\"http://img5a.flixcart.com/image/shoe/7/z/z/r...</td>\n",
              "      <td>False</td>\n",
              "      <td>Key Features of AW Bellies Sandals Wedges Heel...</td>\n",
              "      <td>No rating available</td>\n",
              "      <td>No rating available</td>\n",
              "      <td>AW</td>\n",
              "      <td>{\"product_specification\"=&gt;[{\"key\"=&gt;\"Ideal For\"...</td>\n",
              "    </tr>\n",
              "    <tr>\n",
              "      <th>3</th>\n",
              "      <td>0973b37acd0c664e3de26e97e5571454</td>\n",
              "      <td>2016-03-25 22:59:23 +0000</td>\n",
              "      <td>http://www.flipkart.com/alisha-solid-women-s-c...</td>\n",
              "      <td>Alisha Solid Women's Cycling Shorts</td>\n",
              "      <td>[\"Clothing &gt;&gt; Women's Clothing &gt;&gt; Lingerie, Sl...</td>\n",
              "      <td>SRTEH2F6HUZMQ6SJ</td>\n",
              "      <td>699.0</td>\n",
              "      <td>267.0</td>\n",
              "      <td>[\"http://img5a.flixcart.com/image/short/6/2/h/...</td>\n",
              "      <td>False</td>\n",
              "      <td>Key Features of Alisha Solid Women's Cycling S...</td>\n",
              "      <td>No rating available</td>\n",
              "      <td>No rating available</td>\n",
              "      <td>Alisha</td>\n",
              "      <td>{\"product_specification\"=&gt;[{\"key\"=&gt;\"Number of ...</td>\n",
              "    </tr>\n",
              "    <tr>\n",
              "      <th>4</th>\n",
              "      <td>bc940ea42ee6bef5ac7cea3fb5cfbee7</td>\n",
              "      <td>2016-03-25 22:59:23 +0000</td>\n",
              "      <td>http://www.flipkart.com/sicons-all-purpose-arn...</td>\n",
              "      <td>Sicons All Purpose Arnica Dog Shampoo</td>\n",
              "      <td>[\"Pet Supplies &gt;&gt; Grooming &gt;&gt; Skin &amp; Coat Care...</td>\n",
              "      <td>PSOEH3ZYDMSYARJ5</td>\n",
              "      <td>220.0</td>\n",
              "      <td>210.0</td>\n",
              "      <td>[\"http://img5a.flixcart.com/image/pet-shampoo/...</td>\n",
              "      <td>False</td>\n",
              "      <td>Specifications of Sicons All Purpose Arnica Do...</td>\n",
              "      <td>No rating available</td>\n",
              "      <td>No rating available</td>\n",
              "      <td>Sicons</td>\n",
              "      <td>{\"product_specification\"=&gt;[{\"key\"=&gt;\"Pet Type\",...</td>\n",
              "    </tr>\n",
              "  </tbody>\n",
              "</table>\n",
              "</div>"
            ],
            "text/plain": [
              "                            uniq_id  ...                             product_specifications\n",
              "0  c2d766ca982eca8304150849735ffef9  ...  {\"product_specification\"=>[{\"key\"=>\"Number of ...\n",
              "1  7f7036a6d550aaa89d34c77bd39a5e48  ...  {\"product_specification\"=>[{\"key\"=>\"Installati...\n",
              "2  f449ec65dcbc041b6ae5e6a32717d01b  ...  {\"product_specification\"=>[{\"key\"=>\"Ideal For\"...\n",
              "3  0973b37acd0c664e3de26e97e5571454  ...  {\"product_specification\"=>[{\"key\"=>\"Number of ...\n",
              "4  bc940ea42ee6bef5ac7cea3fb5cfbee7  ...  {\"product_specification\"=>[{\"key\"=>\"Pet Type\",...\n",
              "\n",
              "[5 rows x 15 columns]"
            ]
          },
          "metadata": {
            "tags": []
          },
          "execution_count": 3
        }
      ]
    },
    {
      "cell_type": "code",
      "metadata": {
        "colab": {
          "base_uri": "https://localhost:8080/"
        },
        "id": "w_LQpNiPPzyo",
        "outputId": "a7c70472-c0e7-45c4-a607-c61087f0e3ab"
      },
      "source": [
        "df.info()"
      ],
      "execution_count": 4,
      "outputs": [
        {
          "output_type": "stream",
          "text": [
            "<class 'pandas.core.frame.DataFrame'>\n",
            "RangeIndex: 20000 entries, 0 to 19999\n",
            "Data columns (total 15 columns):\n",
            " #   Column                   Non-Null Count  Dtype  \n",
            "---  ------                   --------------  -----  \n",
            " 0   uniq_id                  20000 non-null  object \n",
            " 1   crawl_timestamp          20000 non-null  object \n",
            " 2   product_url              20000 non-null  object \n",
            " 3   product_name             20000 non-null  object \n",
            " 4   product_category_tree    20000 non-null  object \n",
            " 5   pid                      20000 non-null  object \n",
            " 6   retail_price             19922 non-null  float64\n",
            " 7   discounted_price         19922 non-null  float64\n",
            " 8   image                    19997 non-null  object \n",
            " 9   is_FK_Advantage_product  20000 non-null  bool   \n",
            " 10  description              19998 non-null  object \n",
            " 11  product_rating           20000 non-null  object \n",
            " 12  overall_rating           20000 non-null  object \n",
            " 13  brand                    14136 non-null  object \n",
            " 14  product_specifications   19986 non-null  object \n",
            "dtypes: bool(1), float64(2), object(12)\n",
            "memory usage: 2.2+ MB\n"
          ],
          "name": "stdout"
        }
      ]
    },
    {
      "cell_type": "markdown",
      "metadata": {
        "id": "gNL5Lylcxobc"
      },
      "source": [
        "There are several variables, some of them have `NULL` values.<br>\n",
        "With an overlook, we'll remove variables which are either the attributes captured while gathering the data or those which don't interact with the target variable."
      ]
    },
    {
      "cell_type": "code",
      "metadata": {
        "colab": {
          "base_uri": "https://localhost:8080/",
          "height": 289
        },
        "id": "XpB-xGJ3Z1_L",
        "outputId": "55536ca8-2f7e-483b-9908-0519b253dd3b"
      },
      "source": [
        "df.drop(columns = ['uniq_id', 'crawl_timestamp', 'product_rating', 'overall_rating', 'product_url', 'image', 'is_FK_Advantage_product'], inplace = True)\n",
        "df.head()"
      ],
      "execution_count": 5,
      "outputs": [
        {
          "output_type": "execute_result",
          "data": {
            "text/html": [
              "<div>\n",
              "<style scoped>\n",
              "    .dataframe tbody tr th:only-of-type {\n",
              "        vertical-align: middle;\n",
              "    }\n",
              "\n",
              "    .dataframe tbody tr th {\n",
              "        vertical-align: top;\n",
              "    }\n",
              "\n",
              "    .dataframe thead th {\n",
              "        text-align: right;\n",
              "    }\n",
              "</style>\n",
              "<table border=\"1\" class=\"dataframe\">\n",
              "  <thead>\n",
              "    <tr style=\"text-align: right;\">\n",
              "      <th></th>\n",
              "      <th>product_name</th>\n",
              "      <th>product_category_tree</th>\n",
              "      <th>pid</th>\n",
              "      <th>retail_price</th>\n",
              "      <th>discounted_price</th>\n",
              "      <th>description</th>\n",
              "      <th>brand</th>\n",
              "      <th>product_specifications</th>\n",
              "    </tr>\n",
              "  </thead>\n",
              "  <tbody>\n",
              "    <tr>\n",
              "      <th>0</th>\n",
              "      <td>Alisha Solid Women's Cycling Shorts</td>\n",
              "      <td>[\"Clothing &gt;&gt; Women's Clothing &gt;&gt; Lingerie, Sl...</td>\n",
              "      <td>SRTEH2FF9KEDEFGF</td>\n",
              "      <td>999.0</td>\n",
              "      <td>379.0</td>\n",
              "      <td>Key Features of Alisha Solid Women's Cycling S...</td>\n",
              "      <td>Alisha</td>\n",
              "      <td>{\"product_specification\"=&gt;[{\"key\"=&gt;\"Number of ...</td>\n",
              "    </tr>\n",
              "    <tr>\n",
              "      <th>1</th>\n",
              "      <td>FabHomeDecor Fabric Double Sofa Bed</td>\n",
              "      <td>[\"Furniture &gt;&gt; Living Room Furniture &gt;&gt; Sofa B...</td>\n",
              "      <td>SBEEH3QGU7MFYJFY</td>\n",
              "      <td>32157.0</td>\n",
              "      <td>22646.0</td>\n",
              "      <td>FabHomeDecor Fabric Double Sofa Bed (Finish Co...</td>\n",
              "      <td>FabHomeDecor</td>\n",
              "      <td>{\"product_specification\"=&gt;[{\"key\"=&gt;\"Installati...</td>\n",
              "    </tr>\n",
              "    <tr>\n",
              "      <th>2</th>\n",
              "      <td>AW Bellies</td>\n",
              "      <td>[\"Footwear &gt;&gt; Women's Footwear &gt;&gt; Ballerinas &gt;...</td>\n",
              "      <td>SHOEH4GRSUBJGZXE</td>\n",
              "      <td>999.0</td>\n",
              "      <td>499.0</td>\n",
              "      <td>Key Features of AW Bellies Sandals Wedges Heel...</td>\n",
              "      <td>AW</td>\n",
              "      <td>{\"product_specification\"=&gt;[{\"key\"=&gt;\"Ideal For\"...</td>\n",
              "    </tr>\n",
              "    <tr>\n",
              "      <th>3</th>\n",
              "      <td>Alisha Solid Women's Cycling Shorts</td>\n",
              "      <td>[\"Clothing &gt;&gt; Women's Clothing &gt;&gt; Lingerie, Sl...</td>\n",
              "      <td>SRTEH2F6HUZMQ6SJ</td>\n",
              "      <td>699.0</td>\n",
              "      <td>267.0</td>\n",
              "      <td>Key Features of Alisha Solid Women's Cycling S...</td>\n",
              "      <td>Alisha</td>\n",
              "      <td>{\"product_specification\"=&gt;[{\"key\"=&gt;\"Number of ...</td>\n",
              "    </tr>\n",
              "    <tr>\n",
              "      <th>4</th>\n",
              "      <td>Sicons All Purpose Arnica Dog Shampoo</td>\n",
              "      <td>[\"Pet Supplies &gt;&gt; Grooming &gt;&gt; Skin &amp; Coat Care...</td>\n",
              "      <td>PSOEH3ZYDMSYARJ5</td>\n",
              "      <td>220.0</td>\n",
              "      <td>210.0</td>\n",
              "      <td>Specifications of Sicons All Purpose Arnica Do...</td>\n",
              "      <td>Sicons</td>\n",
              "      <td>{\"product_specification\"=&gt;[{\"key\"=&gt;\"Pet Type\",...</td>\n",
              "    </tr>\n",
              "  </tbody>\n",
              "</table>\n",
              "</div>"
            ],
            "text/plain": [
              "                            product_name  ...                             product_specifications\n",
              "0    Alisha Solid Women's Cycling Shorts  ...  {\"product_specification\"=>[{\"key\"=>\"Number of ...\n",
              "1    FabHomeDecor Fabric Double Sofa Bed  ...  {\"product_specification\"=>[{\"key\"=>\"Installati...\n",
              "2                             AW Bellies  ...  {\"product_specification\"=>[{\"key\"=>\"Ideal For\"...\n",
              "3    Alisha Solid Women's Cycling Shorts  ...  {\"product_specification\"=>[{\"key\"=>\"Number of ...\n",
              "4  Sicons All Purpose Arnica Dog Shampoo  ...  {\"product_specification\"=>[{\"key\"=>\"Pet Type\",...\n",
              "\n",
              "[5 rows x 8 columns]"
            ]
          },
          "metadata": {
            "tags": []
          },
          "execution_count": 5
        }
      ]
    },
    {
      "cell_type": "markdown",
      "metadata": {
        "id": "wFToZCJPynDH"
      },
      "source": [
        "We'll set the **SEED** for reproducibility."
      ]
    },
    {
      "cell_type": "code",
      "metadata": {
        "id": "xzXbs6-sbAxo"
      },
      "source": [
        "SEED = 42"
      ],
      "execution_count": 6,
      "outputs": []
    },
    {
      "cell_type": "markdown",
      "metadata": {
        "id": "Ck3ovg70abxH"
      },
      "source": [
        "# Investigating each column"
      ]
    },
    {
      "cell_type": "markdown",
      "metadata": {
        "id": "sEvtvjZdC-Tj"
      },
      "source": [
        "## Product_category_tree"
      ]
    },
    {
      "cell_type": "markdown",
      "metadata": {
        "id": "IFI1KENKdW0o"
      },
      "source": [
        "It would be useful to look at what we want to predict first."
      ]
    },
    {
      "cell_type": "code",
      "metadata": {
        "colab": {
          "base_uri": "https://localhost:8080/"
        },
        "id": "tDs3H5oRdPIJ",
        "outputId": "207feaaa-4cd1-4abc-c6b4-ecd4e4c0b27d"
      },
      "source": [
        "df['product_category_tree'].sample(10, random_state = SEED).values"
      ],
      "execution_count": 7,
      "outputs": [
        {
          "output_type": "execute_result",
          "data": {
            "text/plain": [
              "array(['[\"Jewellery >> Accessories >> Brooches >> Avaron Projekt Moustache Brooch (Green)\"]',\n",
              "       '[\"Clothing >> Women\\'s Clothing >> Lingerie, Sleep & Swimwear >> Bras >> Grafion Bras\"]',\n",
              "       '[\"Tools & Hardware >> Tools >> Gardening Tools >> Plant Containers & Sets >> Plant Container Sets\"]',\n",
              "       '[\"Computers >> Laptop Accessories >> USB Gadgets >> JRB USB Gadgets >> JRB 1042 Smallest Mobile Powered By OTG Enabled ...\"]',\n",
              "       '[\"Clothing >> Men\\'s Clothing >> T-Shirts >> Northern Lights T-Shirts\"]',\n",
              "       '[\"Jewellery >> Bangles, Bracelets & Armlets >> Bangles\"]',\n",
              "       '[\"Cameras & Accessories >> Camera Accessories >> Battery chargers >> Pearstone Battery chargers\"]',\n",
              "       '[\"Bags, Wallets & Belts >> Bags >> Hand Bags >> JDK NOVELTY Hand Bags >> JDK NOVELTY Hand-held Bag (Beige)\"]',\n",
              "       '[\"Clothing >> Women\\'s Clothing >> Western Wear >> Dresses & Skirts >> Dresses >> Jiiah Dresses\"]',\n",
              "       '[\"Beauty and Personal Care >> Bath and Spa >> Body and Essential Oils >> Himalayan Sutra Body and Essential Oils >> Himalayan Sutra Orange Essential Oil - Therapeut...\"]'],\n",
              "      dtype=object)"
            ]
          },
          "metadata": {
            "tags": []
          },
          "execution_count": 7
        }
      ]
    },
    {
      "cell_type": "markdown",
      "metadata": {
        "id": "q2j2kbIqfVmA"
      },
      "source": [
        "There are a lot of categories and sub-categories, It would be useful to take a look at how the count varies based on what the level of category is.<br>\n",
        "Let's create some helper functions to achieve that."
      ]
    },
    {
      "cell_type": "code",
      "metadata": {
        "id": "bW3oe4zO-0-7"
      },
      "source": [
        "\n",
        "def to_cat(df, level, return_new_df = False, COUNT_THRESH = 10):\n",
        "    \"\"\"\n",
        "    Function which cleans & transforms a product's category to a single one.\n",
        "\n",
        "    Parameters\n",
        "    ----------\n",
        "    df : pandas.core.frame.DataFrame\n",
        "        Dataframe to be cleaned\n",
        "    level : int\n",
        "        Integer which decides which category will be picked\n",
        "    return_new_df : boolean\n",
        "        Return new transformed df or not (default is `False`)\n",
        "    COUNT_THRESH : int\n",
        "        Threshold to drop categories having `COUNT_THRESH` samples, only applicable  \n",
        "        when `return_new_df` is True\n",
        "\n",
        "    Returns\n",
        "    -------\n",
        "    if `return_new_df == False`:\n",
        "        new_category : list\n",
        "            New category of samples according to `level`\n",
        "        level_missing_ids : list\n",
        "            ids of samples for which level was not found\n",
        "    else:\n",
        "        df : list\n",
        "            Transformed dataframe with new `category_{LEVEL}` column\n",
        "        level_missing_ids : list\n",
        "            ids of samples for which level was not found\n",
        "        below_thresh_index : list\n",
        "            ids of samples which were dropped due to `COUNT_THRESH`\n",
        "\n",
        "    \"\"\"\n",
        "    def clean_cat(s):\n",
        "        \"\"\"Cleans the category & keeps only text\n",
        "\n",
        "        Parameters\n",
        "        ----------\n",
        "        s : string\n",
        "            A single category extracted from the sample\n",
        "        \n",
        "        Returns\n",
        "        -------\n",
        "        category : string\n",
        "            Cleaned text\n",
        "        \"\"\"\n",
        "        pattern = re.compile(r'([a-zA-Z]+)')\n",
        "        matches = pattern.findall(s)\n",
        "        category = ''\n",
        "        for match in matches:\n",
        "            if len(match) > 1:\n",
        "                category += f' {match}'\n",
        "        category = string.capwords(category)\n",
        "        if not category:\n",
        "            raise Exception(f'Empty category -> {s}')\n",
        "        return category\n",
        "\n",
        "    def cat_to_level(row, level):\n",
        "        \"\"\"Returns the correct category at `level`\n",
        "\n",
        "        Parameters\n",
        "        ----------\n",
        "        row : list\n",
        "            A list containing raw categories of a single sample\n",
        "        level : int\n",
        "            Level of category, starts from `1`\n",
        "        \n",
        "        Returns\n",
        "        -------\n",
        "        category : string\n",
        "            Correct cleaned category at Level `level` \n",
        "        \"\"\"\n",
        "        try:\n",
        "            cat_levelled = row[level - 1]\n",
        "        except IndexError:\n",
        "            return False\n",
        "        return clean_cat(cat_levelled)\n",
        "    \n",
        "    level_missing_ids = []\n",
        "    new_category = []\n",
        "    rows_cat = df.product_category_tree.apply(lambda x: x.split('>>')).to_list()\n",
        "\n",
        "    for idx, row in enumerate(rows_cat):\n",
        "        # Get correct category at a particular level\n",
        "        cat_levelled = cat_to_level(row, level)\n",
        "        if cat_levelled:\n",
        "            new_category.append(cat_levelled)\n",
        "        else:\n",
        "            level_missing_ids.append(idx)\n",
        "\n",
        "    print(f'Total Examples missing Category for Level_{level} -> {len(level_missing_ids)}')\n",
        "\n",
        "    if return_new_df:\n",
        "        # drop if missing category for level\n",
        "        df.drop(labels = level_missing_ids, axis = 0, inplace = True)\n",
        "        # Attach new column for category at a certain level\n",
        "        df[f'category_{level}'] = new_category\n",
        "        # Filter out categories having less samples according to threshold\n",
        "        below_thresh_index = df.groupby(f'category_{LEVEL}').filter(lambda x: len(x) < COUNT_THRESH).index.to_list()\n",
        "        df = df[~df.index.isin(below_thresh_index)]\n",
        "        df.reset_index(drop = True, inplace = True)\n",
        "        return df, level_missing_ids, below_thresh_index\n",
        "\n",
        "    return new_category, level_missing_ids\n",
        "\n",
        "def visualize_categories(cat_freq, level, top_freq = 5):\n",
        "    \"\"\"Plots a bar plot visualizing the top `top_freq` categories\n",
        "\n",
        "    Parameters\n",
        "    ----------\n",
        "    cat_freq : list\n",
        "        A sorted counter of the `category` \n",
        "    level : int\n",
        "        Level of the category\n",
        "    top_freq : int\n",
        "        Top categories to display(default 5)\n",
        "    \"\"\"\n",
        "    data = {\n",
        "        'category' : [t[0] for t in cat_freq[:top_freq]],\n",
        "        'freq' : [t[1] for t in cat_freq[:top_freq]]\n",
        "    }\n",
        "    data = pd.DataFrame.from_dict(data)\n",
        "    plt.figure(figsize = (12, 6))\n",
        "    plt.title(f'Level - {level}')\n",
        "    sns.barplot(x = 'category',y = 'freq', data = data);"
      ],
      "execution_count": 8,
      "outputs": []
    },
    {
      "cell_type": "code",
      "metadata": {
        "id": "8jL-DERZci0D"
      },
      "source": [
        "new_df = df.copy(deep = True)"
      ],
      "execution_count": 9,
      "outputs": []
    },
    {
      "cell_type": "code",
      "metadata": {
        "id": "4w73qP8o-R8a",
        "colab": {
          "base_uri": "https://localhost:8080/"
        },
        "outputId": "6d0d8df3-5dba-46ed-b53f-417e37d53296"
      },
      "source": [
        "# Let's see how many categories are there for each level\n",
        "LEVEL = 1\n",
        "cat, missing = to_cat(new_df, LEVEL)\n",
        "cat_freq = Counter(cat).most_common()\n",
        "print(f'\\nTotal Categories for Level_{LEVEL} : {len(cat_freq)}\\n')\n",
        "print('Samples for each category')\n",
        "cat_freq[:40]"
      ],
      "execution_count": 10,
      "outputs": [
        {
          "output_type": "stream",
          "text": [
            "Total Examples missing Category for Level_1 -> 0\n",
            "\n",
            "Total Categories for Level_1 : 256\n",
            "\n",
            "Samples for each category\n"
          ],
          "name": "stdout"
        },
        {
          "output_type": "execute_result",
          "data": {
            "text/plain": [
              "[('Clothing', 6198),\n",
              " ('Jewellery', 3531),\n",
              " ('Footwear', 1227),\n",
              " ('Mobiles Accessories', 1099),\n",
              " ('Automotive', 1012),\n",
              " ('Home Decor Festive Needs', 929),\n",
              " ('Beauty And Personal Care', 710),\n",
              " ('Home Furnishing', 700),\n",
              " ('Kitchen Dining', 647),\n",
              " ('Computers', 578),\n",
              " ('Watches', 530),\n",
              " ('Baby Care', 483),\n",
              " ('Tools Hardware', 391),\n",
              " ('Toys School Supplies', 330),\n",
              " ('Pens Stationery', 313),\n",
              " ('Bags Wallets Belts', 265),\n",
              " ('Furniture', 180),\n",
              " ('Sports Fitness', 166),\n",
              " ('Cameras Accessories', 82),\n",
              " ('Home Improvement', 81),\n",
              " ('Health Personal Care Appliances', 43),\n",
              " ('Sunglasses', 40),\n",
              " ('Gaming', 35),\n",
              " ('Pet Supplies', 30),\n",
              " ('Home Kitchen', 24),\n",
              " ('Home Entertainment', 19),\n",
              " ('Ebooks', 15),\n",
              " ('Eyewear', 10),\n",
              " ('Clovia Women Full Coverage Bra', 9),\n",
              " ('Vishudh Printed Women Straight Kurta', 8),\n",
              " ('Lilliput Top Baby Girl Combo', 8),\n",
              " ('Olvin Aviator Sunglasses', 7),\n",
              " ('Clovia Women Shirt Bra', 6),\n",
              " ('Masara Solid Women Straight Kurta', 5),\n",
              " ('Dressberry Gold Synthetic Clutch', 4),\n",
              " ('Pu Good Women Flats', 4),\n",
              " ('Urban Girl Foundation Brush Pack Of', 4),\n",
              " ('Feet Flow Women Flats', 4),\n",
              " ('Olvin Wayfarer Sunglasses', 4),\n",
              " ('Firangi Cotton Polyester Free Floor Mat Firangi', 4)]"
            ]
          },
          "metadata": {
            "tags": []
          },
          "execution_count": 10
        }
      ]
    },
    {
      "cell_type": "markdown",
      "metadata": {
        "id": "hbbdr_3HyyDV"
      },
      "source": [
        "If we look at the categories count, till eyewear the categories make sense, after that the categories become too specific.<br>\n",
        "For **Level1** we can see that there are total **256** categories.<br>\n",
        "Let's visualize the top 5 categories."
      ]
    },
    {
      "cell_type": "code",
      "metadata": {
        "colab": {
          "base_uri": "https://localhost:8080/",
          "height": 404
        },
        "id": "eluSV_Z6yxC8",
        "outputId": "5543817a-1639-4506-e951-815d3bd89f7c"
      },
      "source": [
        "# Top Level 1 categories\n",
        "visualize_categories(cat_freq, level = 1)"
      ],
      "execution_count": 11,
      "outputs": [
        {
          "output_type": "display_data",
          "data": {
            "image/png": "[encoded data removed]",
            "text/plain": [
              "<Figure size 864x432 with 1 Axes>"
            ]
          },
          "metadata": {
            "tags": [],
            "needs_background": "light"
          }
        }
      ]
    },
    {
      "cell_type": "markdown",
      "metadata": {
        "id": "urI_d5W21YON"
      },
      "source": [
        "Seems clothing and jewellery dominates Level1, let's explore more granular categories."
      ]
    },
    {
      "cell_type": "code",
      "metadata": {
        "colab": {
          "base_uri": "https://localhost:8080/",
          "height": 473
        },
        "id": "j9IiMfvt1hst",
        "outputId": "425a7900-ece9-49d1-c255-b1a30ff16a8b"
      },
      "source": [
        "# Top Level 2 categories\n",
        "LEVEL = 2\n",
        "cat, missing = to_cat(new_df, LEVEL)\n",
        "cat_freq = Counter(cat).most_common()\n",
        "print(f'\\nTotal Categories for Level_{LEVEL} : {len(cat_freq)}\\n')\n",
        "visualize_categories(cat_freq, level = 2)"
      ],
      "execution_count": 12,
      "outputs": [
        {
          "output_type": "stream",
          "text": [
            "Total Examples missing Category for Level_2 -> 328\n",
            "\n",
            "Total Categories for Level_2 : 215\n",
            "\n"
          ],
          "name": "stdout"
        },
        {
          "output_type": "display_data",
          "data": {
            "image/png": "[encoded data removed]",
            "text/plain": [
              "<Figure size 864x432 with 1 Axes>"
            ]
          },
          "metadata": {
            "tags": [],
            "needs_background": "light"
          }
        }
      ]
    },
    {
      "cell_type": "code",
      "metadata": {
        "colab": {
          "base_uri": "https://localhost:8080/"
        },
        "id": "T-hmOxmD1qlG",
        "outputId": "69e3614c-1e6a-4a8f-cb1b-269e16a893be"
      },
      "source": [
        "# Top Level 3-6 categories\n",
        "levels = [3, 4, 5, 6]\n",
        "for level in levels:\n",
        "    cat, missing = to_cat(new_df, level)\n",
        "    cat_freq = Counter(cat).most_common()\n",
        "    print(f'Total Categories for Level_{level} -> {len(cat_freq)}\\n')"
      ],
      "execution_count": 13,
      "outputs": [
        {
          "output_type": "stream",
          "text": [
            "Total Examples missing Category for Level_3 -> 1457\n",
            "Total Categories for Level_3 -> 865\n",
            "\n",
            "Total Examples missing Category for Level_4 -> 5876\n",
            "Total Categories for Level_4 -> 2282\n",
            "\n",
            "Total Examples missing Category for Level_5 -> 10642\n",
            "Total Categories for Level_5 -> 2491\n",
            "\n",
            "Total Examples missing Category for Level_6 -> 15552\n",
            "Total Categories for Level_6 -> 2199\n",
            "\n"
          ],
          "name": "stdout"
        }
      ]
    },
    {
      "cell_type": "markdown",
      "metadata": {
        "id": "RZ3ROrfV6lNc"
      },
      "source": [
        "As it's visible as we go down after `Level 2`, the examples having missing categories increase and total categories decreases and become more and more specific. Clothes become Kids clothes, men's wear, women's wear. So it would be sensible to consider `Level-1` for category while taking care of dropping the categories after `Eyewear`(count < 10) since they are very specific. Eg. `Vishudh Printed Women Straight Kurta` this category can be instead mapped to clothing."
      ]
    },
    {
      "cell_type": "code",
      "metadata": {
        "colab": {
          "base_uri": "https://localhost:8080/"
        },
        "id": "ZD6adBei8j8F",
        "outputId": "27774182-e8d9-49b7-e452-93fac8b037d4"
      },
      "source": [
        "LEVEL = 1\n",
        "# We can use the examples which didn't make the cut later to predict a correct category on them(eg. Clothing)\n",
        "# Instead of something like Vishudh Printed Women Straight Kurta\n",
        "\n",
        "# both indexes should be mapped to original_df - `cat_missing_ids`, `below_thresh_index`\n",
        "\n",
        "new_df, cat_missing_ids, below_thresh_index = to_cat(new_df, LEVEL, return_new_df = True, COUNT_THRESH = 10)\n",
        "new_df.drop(columns = ['product_category_tree'], inplace = True)\n",
        "new_df.info()        "
      ],
      "execution_count": 14,
      "outputs": [
        {
          "output_type": "stream",
          "text": [
            "Total Examples missing Category for Level_1 -> 0\n",
            "<class 'pandas.core.frame.DataFrame'>\n",
            "RangeIndex: 19668 entries, 0 to 19667\n",
            "Data columns (total 8 columns):\n",
            " #   Column                  Non-Null Count  Dtype  \n",
            "---  ------                  --------------  -----  \n",
            " 0   product_name            19668 non-null  object \n",
            " 1   pid                     19668 non-null  object \n",
            " 2   retail_price            19593 non-null  float64\n",
            " 3   discounted_price        19593 non-null  float64\n",
            " 4   description             19666 non-null  object \n",
            " 5   brand                   13804 non-null  object \n",
            " 6   product_specifications  19654 non-null  object \n",
            " 7   category_1              19668 non-null  object \n",
            "dtypes: float64(2), object(6)\n",
            "memory usage: 1.2+ MB\n"
          ],
          "name": "stdout"
        }
      ]
    },
    {
      "cell_type": "code",
      "metadata": {
        "colab": {
          "base_uri": "https://localhost:8080/",
          "height": 202
        },
        "id": "JQ-yKyMRCPq1",
        "outputId": "40fbbd4b-d265-4320-9700-88c2daeaf5ba"
      },
      "source": [
        "new_df.head()"
      ],
      "execution_count": 15,
      "outputs": [
        {
          "output_type": "execute_result",
          "data": {
            "text/html": [
              "<div>\n",
              "<style scoped>\n",
              "    .dataframe tbody tr th:only-of-type {\n",
              "        vertical-align: middle;\n",
              "    }\n",
              "\n",
              "    .dataframe tbody tr th {\n",
              "        vertical-align: top;\n",
              "    }\n",
              "\n",
              "    .dataframe thead th {\n",
              "        text-align: right;\n",
              "    }\n",
              "</style>\n",
              "<table border=\"1\" class=\"dataframe\">\n",
              "  <thead>\n",
              "    <tr style=\"text-align: right;\">\n",
              "      <th></th>\n",
              "      <th>product_name</th>\n",
              "      <th>pid</th>\n",
              "      <th>retail_price</th>\n",
              "      <th>discounted_price</th>\n",
              "      <th>description</th>\n",
              "      <th>brand</th>\n",
              "      <th>product_specifications</th>\n",
              "      <th>category_1</th>\n",
              "    </tr>\n",
              "  </thead>\n",
              "  <tbody>\n",
              "    <tr>\n",
              "      <th>0</th>\n",
              "      <td>Alisha Solid Women's Cycling Shorts</td>\n",
              "      <td>SRTEH2FF9KEDEFGF</td>\n",
              "      <td>999.0</td>\n",
              "      <td>379.0</td>\n",
              "      <td>Key Features of Alisha Solid Women's Cycling S...</td>\n",
              "      <td>Alisha</td>\n",
              "      <td>{\"product_specification\"=&gt;[{\"key\"=&gt;\"Number of ...</td>\n",
              "      <td>Clothing</td>\n",
              "    </tr>\n",
              "    <tr>\n",
              "      <th>1</th>\n",
              "      <td>FabHomeDecor Fabric Double Sofa Bed</td>\n",
              "      <td>SBEEH3QGU7MFYJFY</td>\n",
              "      <td>32157.0</td>\n",
              "      <td>22646.0</td>\n",
              "      <td>FabHomeDecor Fabric Double Sofa Bed (Finish Co...</td>\n",
              "      <td>FabHomeDecor</td>\n",
              "      <td>{\"product_specification\"=&gt;[{\"key\"=&gt;\"Installati...</td>\n",
              "      <td>Furniture</td>\n",
              "    </tr>\n",
              "    <tr>\n",
              "      <th>2</th>\n",
              "      <td>AW Bellies</td>\n",
              "      <td>SHOEH4GRSUBJGZXE</td>\n",
              "      <td>999.0</td>\n",
              "      <td>499.0</td>\n",
              "      <td>Key Features of AW Bellies Sandals Wedges Heel...</td>\n",
              "      <td>AW</td>\n",
              "      <td>{\"product_specification\"=&gt;[{\"key\"=&gt;\"Ideal For\"...</td>\n",
              "      <td>Footwear</td>\n",
              "    </tr>\n",
              "    <tr>\n",
              "      <th>3</th>\n",
              "      <td>Alisha Solid Women's Cycling Shorts</td>\n",
              "      <td>SRTEH2F6HUZMQ6SJ</td>\n",
              "      <td>699.0</td>\n",
              "      <td>267.0</td>\n",
              "      <td>Key Features of Alisha Solid Women's Cycling S...</td>\n",
              "      <td>Alisha</td>\n",
              "      <td>{\"product_specification\"=&gt;[{\"key\"=&gt;\"Number of ...</td>\n",
              "      <td>Clothing</td>\n",
              "    </tr>\n",
              "    <tr>\n",
              "      <th>4</th>\n",
              "      <td>Sicons All Purpose Arnica Dog Shampoo</td>\n",
              "      <td>PSOEH3ZYDMSYARJ5</td>\n",
              "      <td>220.0</td>\n",
              "      <td>210.0</td>\n",
              "      <td>Specifications of Sicons All Purpose Arnica Do...</td>\n",
              "      <td>Sicons</td>\n",
              "      <td>{\"product_specification\"=&gt;[{\"key\"=&gt;\"Pet Type\",...</td>\n",
              "      <td>Pet Supplies</td>\n",
              "    </tr>\n",
              "  </tbody>\n",
              "</table>\n",
              "</div>"
            ],
            "text/plain": [
              "                            product_name  ...    category_1\n",
              "0    Alisha Solid Women's Cycling Shorts  ...      Clothing\n",
              "1    FabHomeDecor Fabric Double Sofa Bed  ...     Furniture\n",
              "2                             AW Bellies  ...      Footwear\n",
              "3    Alisha Solid Women's Cycling Shorts  ...      Clothing\n",
              "4  Sicons All Purpose Arnica Dog Shampoo  ...  Pet Supplies\n",
              "\n",
              "[5 rows x 8 columns]"
            ]
          },
          "metadata": {
            "tags": []
          },
          "execution_count": 15
        }
      ]
    },
    {
      "cell_type": "code",
      "metadata": {
        "colab": {
          "base_uri": "https://localhost:8080/"
        },
        "id": "ChpPLU6xL2v3",
        "outputId": "de972fd0-f91a-473b-e102-055885ed9d2b"
      },
      "source": [
        "# Final categories\n",
        "new_df.category_1.unique()"
      ],
      "execution_count": 16,
      "outputs": [
        {
          "output_type": "execute_result",
          "data": {
            "text/plain": [
              "array(['Clothing', 'Furniture', 'Footwear', 'Pet Supplies',\n",
              "       'Pens Stationery', 'Sports Fitness', 'Beauty And Personal Care',\n",
              "       'Bags Wallets Belts', 'Home Decor Festive Needs', 'Automotive',\n",
              "       'Tools Hardware', 'Home Furnishing', 'Baby Care',\n",
              "       'Mobiles Accessories', 'Watches', 'Toys School Supplies',\n",
              "       'Jewellery', 'Sunglasses', 'Kitchen Dining', 'Home Kitchen',\n",
              "       'Computers', 'Cameras Accessories',\n",
              "       'Health Personal Care Appliances', 'Gaming', 'Home Improvement',\n",
              "       'Home Entertainment', 'Eyewear', 'Ebooks'], dtype=object)"
            ]
          },
          "metadata": {
            "tags": []
          },
          "execution_count": 16
        }
      ]
    },
    {
      "cell_type": "markdown",
      "metadata": {
        "id": "RTXrA5t5b4iA"
      },
      "source": [
        "## Product_name\n",
        "The `product_name` column contains the full name of the product which includes brand name, sometimes specs(20 W Charger..)"
      ]
    },
    {
      "cell_type": "code",
      "metadata": {
        "colab": {
          "base_uri": "https://localhost:8080/"
        },
        "id": "8QLLapmSagEw",
        "outputId": "e573f88b-306c-4948-c2a7-6331ca7090e5"
      },
      "source": [
        "new_df['product_name'].sample(20, random_state = SEED).values   "
      ],
      "execution_count": 17,
      "outputs": [
        {
          "output_type": "execute_result",
          "data": {
            "text/plain": [
              "array(['Petshop7 PS7DB0029 M Pet Bed', \"Texco Girl's Vest\",\n",
              "       'Peach 3mm Premium Green Pan Kadhai 2.5 L',\n",
              "       '925 Silver Silver Bracelet',\n",
              "       \"Varanga Casual Short Sleeve Printed Women's Top\",\n",
              "       \"Ishin Designer Studio Women's Solid Casual Shirt\",\n",
              "       'Enthopia Back Cover for iPad Mini, iPad Mini 2, iPad Mini Retina',\n",
              "       'United United Magic Silver 5 Ltr 5 L Pressure Cooker',\n",
              "       \"Alpha Lady Women's Printed Casual, Formal Shirt\",\n",
              "       'Smartpro 19.5v,3.9a Replacement Charger for Vaio Series VGN-CR420E/L 75 Adapter',\n",
              "       \"Bombay High Women's Checkered Casual Shirt\",\n",
              "       'Fabulloso Metal Dangle Earring',\n",
              "       \"Yepme Graphic Print Women's V-neck Purple T-Shirt\",\n",
              "       'PurpleYou Lace Embellished Blouse Material',\n",
              "       'Voylla Yellow Gold Plated Alloy Necklace',\n",
              "       \"Bombay High Women's Striped Formal Shirt\",\n",
              "       'Nutcase Multicolor Column Floor Lamp',\n",
              "       'BlueStone The Supra White Gold Diamond 18 K Ring',\n",
              "       'Voylla Crystal Yellow Gold Plated Alloy Necklace',\n",
              "       'Huawei WS331c -300 Mbps Wireless Range Extender'], dtype=object)"
            ]
          },
          "metadata": {
            "tags": []
          },
          "execution_count": 17
        }
      ]
    },
    {
      "cell_type": "markdown",
      "metadata": {
        "id": "29WhqjbqMyil"
      },
      "source": [
        "Can it be useful for predicting category?\n",
        "- Brand Names are a prefix sometimes which can help predict category, won't be always useful, since a brand can contain product across categories.\n",
        "- Since the product name often contains information about what the product is, for instance if it is `clothing`, it may contain `Shirt`,`Top` etc. Let's clean ,standardize this feature."
      ]
    },
    {
      "cell_type": "code",
      "metadata": {
        "colab": {
          "base_uri": "https://localhost:8080/"
        },
        "id": "kcfHVuKRvsnP",
        "outputId": "362ad542-f5dc-4f67-c2b5-b6283e4849b2"
      },
      "source": [
        "%%time\n",
        "# Keep track of stop words\n",
        "all_words = defaultdict(lambda:1)\n",
        "stopwords =  set(nltk.corpus.stopwords.words('english'))\n",
        "for word in stopwords:\n",
        "    all_words[word] = 0\n",
        "\n",
        "tokens = []\n",
        "# Lemmatization was tried using spacy\n",
        "# Removed because there were not much words that needed to be lemmatized \n",
        "# and the pipeline took a lot of time ~30 mins for 20k\n",
        "for s in new_df['product_name'].values:\n",
        "    # keep only letters & spaces\n",
        "    s = re.sub(r'[^a-zA-Z\\s]+',' ', s)\n",
        "    # remove one letter words\n",
        "    s = re.sub(r'\\b\\w\\b',' ', s)\n",
        "    # clean\n",
        "    s = re.sub(r'\\s+',' ', s).strip()\n",
        "    word_tokens = [token for token in s.split(' ') if all_words[token]]\n",
        "    if not word_tokens:\n",
        "        tokens.append(s)\n",
        "    else:\n",
        "        tokens.append(' '.join(word_tokens))\n",
        "\n",
        "new_df.loc[:, ['name']] = tokens\n",
        "new_df.drop(columns = ['product_name'], inplace = True)"
      ],
      "execution_count": 18,
      "outputs": [
        {
          "output_type": "stream",
          "text": [
            "CPU times: user 243 ms, sys: 3.6 ms, total: 247 ms\n",
            "Wall time: 251 ms\n"
          ],
          "name": "stdout"
        }
      ]
    },
    {
      "cell_type": "code",
      "metadata": {
        "colab": {
          "base_uri": "https://localhost:8080/",
          "height": 202
        },
        "id": "G4PyO9bivkOw",
        "outputId": "a4940f36-a475-4abd-8c86-ddf6e35de10a"
      },
      "source": [
        "new_df.head()"
      ],
      "execution_count": 19,
      "outputs": [
        {
          "output_type": "execute_result",
          "data": {
            "text/html": [
              "<div>\n",
              "<style scoped>\n",
              "    .dataframe tbody tr th:only-of-type {\n",
              "        vertical-align: middle;\n",
              "    }\n",
              "\n",
              "    .dataframe tbody tr th {\n",
              "        vertical-align: top;\n",
              "    }\n",
              "\n",
              "    .dataframe thead th {\n",
              "        text-align: right;\n",
              "    }\n",
              "</style>\n",
              "<table border=\"1\" class=\"dataframe\">\n",
              "  <thead>\n",
              "    <tr style=\"text-align: right;\">\n",
              "      <th></th>\n",
              "      <th>pid</th>\n",
              "      <th>retail_price</th>\n",
              "      <th>discounted_price</th>\n",
              "      <th>description</th>\n",
              "      <th>brand</th>\n",
              "      <th>product_specifications</th>\n",
              "      <th>category_1</th>\n",
              "      <th>name</th>\n",
              "    </tr>\n",
              "  </thead>\n",
              "  <tbody>\n",
              "    <tr>\n",
              "      <th>0</th>\n",
              "      <td>SRTEH2FF9KEDEFGF</td>\n",
              "      <td>999.0</td>\n",
              "      <td>379.0</td>\n",
              "      <td>Key Features of Alisha Solid Women's Cycling S...</td>\n",
              "      <td>Alisha</td>\n",
              "      <td>{\"product_specification\"=&gt;[{\"key\"=&gt;\"Number of ...</td>\n",
              "      <td>Clothing</td>\n",
              "      <td>Alisha Solid Women Cycling Shorts</td>\n",
              "    </tr>\n",
              "    <tr>\n",
              "      <th>1</th>\n",
              "      <td>SBEEH3QGU7MFYJFY</td>\n",
              "      <td>32157.0</td>\n",
              "      <td>22646.0</td>\n",
              "      <td>FabHomeDecor Fabric Double Sofa Bed (Finish Co...</td>\n",
              "      <td>FabHomeDecor</td>\n",
              "      <td>{\"product_specification\"=&gt;[{\"key\"=&gt;\"Installati...</td>\n",
              "      <td>Furniture</td>\n",
              "      <td>FabHomeDecor Fabric Double Sofa Bed</td>\n",
              "    </tr>\n",
              "    <tr>\n",
              "      <th>2</th>\n",
              "      <td>SHOEH4GRSUBJGZXE</td>\n",
              "      <td>999.0</td>\n",
              "      <td>499.0</td>\n",
              "      <td>Key Features of AW Bellies Sandals Wedges Heel...</td>\n",
              "      <td>AW</td>\n",
              "      <td>{\"product_specification\"=&gt;[{\"key\"=&gt;\"Ideal For\"...</td>\n",
              "      <td>Footwear</td>\n",
              "      <td>AW Bellies</td>\n",
              "    </tr>\n",
              "    <tr>\n",
              "      <th>3</th>\n",
              "      <td>SRTEH2F6HUZMQ6SJ</td>\n",
              "      <td>699.0</td>\n",
              "      <td>267.0</td>\n",
              "      <td>Key Features of Alisha Solid Women's Cycling S...</td>\n",
              "      <td>Alisha</td>\n",
              "      <td>{\"product_specification\"=&gt;[{\"key\"=&gt;\"Number of ...</td>\n",
              "      <td>Clothing</td>\n",
              "      <td>Alisha Solid Women Cycling Shorts</td>\n",
              "    </tr>\n",
              "    <tr>\n",
              "      <th>4</th>\n",
              "      <td>PSOEH3ZYDMSYARJ5</td>\n",
              "      <td>220.0</td>\n",
              "      <td>210.0</td>\n",
              "      <td>Specifications of Sicons All Purpose Arnica Do...</td>\n",
              "      <td>Sicons</td>\n",
              "      <td>{\"product_specification\"=&gt;[{\"key\"=&gt;\"Pet Type\",...</td>\n",
              "      <td>Pet Supplies</td>\n",
              "      <td>Sicons All Purpose Arnica Dog Shampoo</td>\n",
              "    </tr>\n",
              "  </tbody>\n",
              "</table>\n",
              "</div>"
            ],
            "text/plain": [
              "                pid  ...                                   name\n",
              "0  SRTEH2FF9KEDEFGF  ...      Alisha Solid Women Cycling Shorts\n",
              "1  SBEEH3QGU7MFYJFY  ...    FabHomeDecor Fabric Double Sofa Bed\n",
              "2  SHOEH4GRSUBJGZXE  ...                             AW Bellies\n",
              "3  SRTEH2F6HUZMQ6SJ  ...      Alisha Solid Women Cycling Shorts\n",
              "4  PSOEH3ZYDMSYARJ5  ...  Sicons All Purpose Arnica Dog Shampoo\n",
              "\n",
              "[5 rows x 8 columns]"
            ]
          },
          "metadata": {
            "tags": []
          },
          "execution_count": 19
        }
      ]
    },
    {
      "cell_type": "markdown",
      "metadata": {
        "id": "ECwoosrefCOi"
      },
      "source": [
        "## Pid\n",
        "Does `pid` have any coorelation with the items?"
      ]
    },
    {
      "cell_type": "code",
      "metadata": {
        "colab": {
          "base_uri": "https://localhost:8080/",
          "height": 356
        },
        "id": "TXm4I4Q7iuda",
        "outputId": "fbbfecfd-caaa-4e90-8935-63906cad3794"
      },
      "source": [
        "g_pid = new_df.groupby('category_1')\n",
        "# Check out a random group\n",
        "g_pid.get_group('Clothing').head(10)"
      ],
      "execution_count": 20,
      "outputs": [
        {
          "output_type": "execute_result",
          "data": {
            "text/html": [
              "<div>\n",
              "<style scoped>\n",
              "    .dataframe tbody tr th:only-of-type {\n",
              "        vertical-align: middle;\n",
              "    }\n",
              "\n",
              "    .dataframe tbody tr th {\n",
              "        vertical-align: top;\n",
              "    }\n",
              "\n",
              "    .dataframe thead th {\n",
              "        text-align: right;\n",
              "    }\n",
              "</style>\n",
              "<table border=\"1\" class=\"dataframe\">\n",
              "  <thead>\n",
              "    <tr style=\"text-align: right;\">\n",
              "      <th></th>\n",
              "      <th>pid</th>\n",
              "      <th>retail_price</th>\n",
              "      <th>discounted_price</th>\n",
              "      <th>description</th>\n",
              "      <th>brand</th>\n",
              "      <th>product_specifications</th>\n",
              "      <th>category_1</th>\n",
              "      <th>name</th>\n",
              "    </tr>\n",
              "  </thead>\n",
              "  <tbody>\n",
              "    <tr>\n",
              "      <th>0</th>\n",
              "      <td>SRTEH2FF9KEDEFGF</td>\n",
              "      <td>999.0</td>\n",
              "      <td>379.0</td>\n",
              "      <td>Key Features of Alisha Solid Women's Cycling S...</td>\n",
              "      <td>Alisha</td>\n",
              "      <td>{\"product_specification\"=&gt;[{\"key\"=&gt;\"Number of ...</td>\n",
              "      <td>Clothing</td>\n",
              "      <td>Alisha Solid Women Cycling Shorts</td>\n",
              "    </tr>\n",
              "    <tr>\n",
              "      <th>3</th>\n",
              "      <td>SRTEH2F6HUZMQ6SJ</td>\n",
              "      <td>699.0</td>\n",
              "      <td>267.0</td>\n",
              "      <td>Key Features of Alisha Solid Women's Cycling S...</td>\n",
              "      <td>Alisha</td>\n",
              "      <td>{\"product_specification\"=&gt;[{\"key\"=&gt;\"Number of ...</td>\n",
              "      <td>Clothing</td>\n",
              "      <td>Alisha Solid Women Cycling Shorts</td>\n",
              "    </tr>\n",
              "    <tr>\n",
              "      <th>5</th>\n",
              "      <td>SRTEH2FVVKRBAXHB</td>\n",
              "      <td>1199.0</td>\n",
              "      <td>479.0</td>\n",
              "      <td>Key Features of Alisha Solid Women's Cycling S...</td>\n",
              "      <td>Alisha</td>\n",
              "      <td>{\"product_specification\"=&gt;[{\"key\"=&gt;\"Number of ...</td>\n",
              "      <td>Clothing</td>\n",
              "      <td>Alisha Solid Women Cycling Shorts</td>\n",
              "    </tr>\n",
              "    <tr>\n",
              "      <th>8</th>\n",
              "      <td>SRTEH2FVUHAAVH9X</td>\n",
              "      <td>1199.0</td>\n",
              "      <td>479.0</td>\n",
              "      <td>Key Features of Alisha Solid Women's Cycling S...</td>\n",
              "      <td>Alisha</td>\n",
              "      <td>{\"product_specification\"=&gt;[{\"key\"=&gt;\"Number of ...</td>\n",
              "      <td>Clothing</td>\n",
              "      <td>Alisha Solid Women Cycling Shorts</td>\n",
              "    </tr>\n",
              "    <tr>\n",
              "      <th>10</th>\n",
              "      <td>SWIEHF3EF5PZAZUY</td>\n",
              "      <td>2299.0</td>\n",
              "      <td>910.0</td>\n",
              "      <td>Key Features of Carrel Printed Women's Fabric:...</td>\n",
              "      <td>Carrel</td>\n",
              "      <td>{\"product_specification\"=&gt;[{\"key\"=&gt;\"Neck\", \"va...</td>\n",
              "      <td>Clothing</td>\n",
              "      <td>Carrel Printed Women</td>\n",
              "    </tr>\n",
              "    <tr>\n",
              "      <th>12</th>\n",
              "      <td>SRTEH2FGBDJGX8FW</td>\n",
              "      <td>999.0</td>\n",
              "      <td>379.0</td>\n",
              "      <td>Key Features of Alisha Solid Women's Cycling S...</td>\n",
              "      <td>Alisha</td>\n",
              "      <td>{\"product_specification\"=&gt;[{\"key\"=&gt;\"Number of ...</td>\n",
              "      <td>Clothing</td>\n",
              "      <td>Alisha Solid Women Cycling Shorts</td>\n",
              "    </tr>\n",
              "    <tr>\n",
              "      <th>14</th>\n",
              "      <td>SRTEH2FECMGNZJXJ</td>\n",
              "      <td>999.0</td>\n",
              "      <td>379.0</td>\n",
              "      <td>Key Features of Alisha Solid Women's Cycling S...</td>\n",
              "      <td>Alisha</td>\n",
              "      <td>{\"product_specification\"=&gt;[{\"key\"=&gt;\"Number of ...</td>\n",
              "      <td>Clothing</td>\n",
              "      <td>Alisha Solid Women Cycling Shorts</td>\n",
              "    </tr>\n",
              "    <tr>\n",
              "      <th>17</th>\n",
              "      <td>SWIEHF3H7WG6VGMR</td>\n",
              "      <td>2499.0</td>\n",
              "      <td>999.0</td>\n",
              "      <td>Key Features of Carrel Printed Women's Fabric:...</td>\n",
              "      <td>Carrel</td>\n",
              "      <td>{\"product_specification\"=&gt;[{\"key\"=&gt;\"Neck\", \"va...</td>\n",
              "      <td>Clothing</td>\n",
              "      <td>Carrel Printed Women</td>\n",
              "    </tr>\n",
              "    <tr>\n",
              "      <th>20</th>\n",
              "      <td>SRTEH2FD3ANFFMHP</td>\n",
              "      <td>NaN</td>\n",
              "      <td>NaN</td>\n",
              "      <td>Alisha Solid Women's Cycling Shorts - Buy Blac...</td>\n",
              "      <td>Alisha</td>\n",
              "      <td>NaN</td>\n",
              "      <td>Clothing</td>\n",
              "      <td>Alisha Solid Women Cycling Shorts</td>\n",
              "    </tr>\n",
              "    <tr>\n",
              "      <th>21</th>\n",
              "      <td>TSHEHBHSKBJWHFNF</td>\n",
              "      <td>2400.0</td>\n",
              "      <td>1039.0</td>\n",
              "      <td>Specifications of dongli Printed Boy's Round N...</td>\n",
              "      <td>dongli</td>\n",
              "      <td>{\"product_specification\"=&gt;[{\"key\"=&gt;\"Sleeve\", \"...</td>\n",
              "      <td>Clothing</td>\n",
              "      <td>dongli Printed Boy Round Neck Shirt</td>\n",
              "    </tr>\n",
              "  </tbody>\n",
              "</table>\n",
              "</div>"
            ],
            "text/plain": [
              "                 pid  ...                                 name\n",
              "0   SRTEH2FF9KEDEFGF  ...    Alisha Solid Women Cycling Shorts\n",
              "3   SRTEH2F6HUZMQ6SJ  ...    Alisha Solid Women Cycling Shorts\n",
              "5   SRTEH2FVVKRBAXHB  ...    Alisha Solid Women Cycling Shorts\n",
              "8   SRTEH2FVUHAAVH9X  ...    Alisha Solid Women Cycling Shorts\n",
              "10  SWIEHF3EF5PZAZUY  ...                 Carrel Printed Women\n",
              "12  SRTEH2FGBDJGX8FW  ...    Alisha Solid Women Cycling Shorts\n",
              "14  SRTEH2FECMGNZJXJ  ...    Alisha Solid Women Cycling Shorts\n",
              "17  SWIEHF3H7WG6VGMR  ...                 Carrel Printed Women\n",
              "20  SRTEH2FD3ANFFMHP  ...    Alisha Solid Women Cycling Shorts\n",
              "21  TSHEHBHSKBJWHFNF  ...  dongli Printed Boy Round Neck Shirt\n",
              "\n",
              "[10 rows x 8 columns]"
            ]
          },
          "metadata": {
            "tags": []
          },
          "execution_count": 20
        }
      ]
    },
    {
      "cell_type": "markdown",
      "metadata": {
        "id": "w75qt2nflYqG"
      },
      "source": [
        "We cannot engineer this feature with `category` as that would be data leakage since we are grouping by the target variable itself. 😅<br>\n",
        "Another dumb classifer that we could try is take the first letter of `pid` and encode it, will try at the end if possible. <br>"
      ]
    },
    {
      "cell_type": "code",
      "metadata": {
        "colab": {
          "base_uri": "https://localhost:8080/",
          "height": 172
        },
        "id": "0mz_joiwnEM6",
        "outputId": "f4f2e9df-e250-4fb3-b926-8d0a8df70dcc"
      },
      "source": [
        "new_df[new_df.duplicated(subset = ['pid'], keep = False)]"
      ],
      "execution_count": 21,
      "outputs": [
        {
          "output_type": "execute_result",
          "data": {
            "text/html": [
              "<div>\n",
              "<style scoped>\n",
              "    .dataframe tbody tr th:only-of-type {\n",
              "        vertical-align: middle;\n",
              "    }\n",
              "\n",
              "    .dataframe tbody tr th {\n",
              "        vertical-align: top;\n",
              "    }\n",
              "\n",
              "    .dataframe thead th {\n",
              "        text-align: right;\n",
              "    }\n",
              "</style>\n",
              "<table border=\"1\" class=\"dataframe\">\n",
              "  <thead>\n",
              "    <tr style=\"text-align: right;\">\n",
              "      <th></th>\n",
              "      <th>pid</th>\n",
              "      <th>retail_price</th>\n",
              "      <th>discounted_price</th>\n",
              "      <th>description</th>\n",
              "      <th>brand</th>\n",
              "      <th>product_specifications</th>\n",
              "      <th>category_1</th>\n",
              "      <th>name</th>\n",
              "    </tr>\n",
              "  </thead>\n",
              "  <tbody>\n",
              "    <tr>\n",
              "      <th>3119</th>\n",
              "      <td>JEAEGE8Q8GXYFTGU</td>\n",
              "      <td>1499.0</td>\n",
              "      <td>1099.0</td>\n",
              "      <td>Key Features of TIMBERLAKE Slim Fit Fit Women'...</td>\n",
              "      <td>TIMBERLAKE</td>\n",
              "      <td>{\"product_specification\"=&gt;[{\"key\"=&gt;\"Brand Colo...</td>\n",
              "      <td>Clothing</td>\n",
              "      <td>TIMBERLAKE Slim Fit Fit Women Blue Jeans</td>\n",
              "    </tr>\n",
              "    <tr>\n",
              "      <th>7618</th>\n",
              "      <td>ACCEJ6TESY7AFT5W</td>\n",
              "      <td>2399.0</td>\n",
              "      <td>1799.0</td>\n",
              "      <td>Key Features of Hako 60W Magsafe Laptop Charge...</td>\n",
              "      <td>Hako</td>\n",
              "      <td>{\"product_specification\"=&gt;[{\"key\"=&gt;\"Brand\", \"v...</td>\n",
              "      <td>Computers</td>\n",
              "      <td>Hako Magsafe Laptop Charger For APPLE MacBook ...</td>\n",
              "    </tr>\n",
              "    <tr>\n",
              "      <th>7665</th>\n",
              "      <td>ACCEJ6TESY7AFT5W</td>\n",
              "      <td>2399.0</td>\n",
              "      <td>1799.0</td>\n",
              "      <td>Key Features of Hako 60W Magsafe1 Laptop Charg...</td>\n",
              "      <td>Hako</td>\n",
              "      <td>{\"product_specification\"=&gt;[{\"key\"=&gt;\"Brand\", \"v...</td>\n",
              "      <td>Computers</td>\n",
              "      <td>Hako Magsafe Laptop Charger For APPLE MacBook ...</td>\n",
              "    </tr>\n",
              "    <tr>\n",
              "      <th>9178</th>\n",
              "      <td>JEAEGE8Q8GXYFTGU</td>\n",
              "      <td>1499.0</td>\n",
              "      <td>1099.0</td>\n",
              "      <td>Key Features of TIMBERLAKE Slim Fit Fit Women'...</td>\n",
              "      <td>TIMBERLAKE</td>\n",
              "      <td>{\"product_specification\"=&gt;[{\"key\"=&gt;\"Brand Colo...</td>\n",
              "      <td>Clothing</td>\n",
              "      <td>TIMBERLAKE Slim Fit Fit Women Blue Jeans</td>\n",
              "    </tr>\n",
              "  </tbody>\n",
              "</table>\n",
              "</div>"
            ],
            "text/plain": [
              "                   pid  ...                                               name\n",
              "3119  JEAEGE8Q8GXYFTGU  ...           TIMBERLAKE Slim Fit Fit Women Blue Jeans\n",
              "7618  ACCEJ6TESY7AFT5W  ...  Hako Magsafe Laptop Charger For APPLE MacBook ...\n",
              "7665  ACCEJ6TESY7AFT5W  ...  Hako Magsafe Laptop Charger For APPLE MacBook ...\n",
              "9178  JEAEGE8Q8GXYFTGU  ...           TIMBERLAKE Slim Fit Fit Women Blue Jeans\n",
              "\n",
              "[4 rows x 8 columns]"
            ]
          },
          "metadata": {
            "tags": []
          },
          "execution_count": 21
        }
      ]
    },
    {
      "cell_type": "code",
      "metadata": {
        "id": "8xBV1LItrrXj"
      },
      "source": [
        "# Fix duplicates\n",
        "new_df.drop_duplicates(subset = ['pid'], inplace = True, ignore_index = True, keep = 'first')\n",
        "new_df.drop(columns = ['pid'], inplace = True)"
      ],
      "execution_count": 22,
      "outputs": []
    },
    {
      "cell_type": "markdown",
      "metadata": {
        "id": "ED04B2DttLVy"
      },
      "source": [
        "## Retail_price & Discounted_price"
      ]
    },
    {
      "cell_type": "code",
      "metadata": {
        "colab": {
          "base_uri": "https://localhost:8080/",
          "height": 294
        },
        "id": "SdNnPM6txgi7",
        "outputId": "3da188b7-0987-4752-fb33-a5a7c03a8c8c"
      },
      "source": [
        "new_df.describe()"
      ],
      "execution_count": 23,
      "outputs": [
        {
          "output_type": "execute_result",
          "data": {
            "text/html": [
              "<div>\n",
              "<style scoped>\n",
              "    .dataframe tbody tr th:only-of-type {\n",
              "        vertical-align: middle;\n",
              "    }\n",
              "\n",
              "    .dataframe tbody tr th {\n",
              "        vertical-align: top;\n",
              "    }\n",
              "\n",
              "    .dataframe thead th {\n",
              "        text-align: right;\n",
              "    }\n",
              "</style>\n",
              "<table border=\"1\" class=\"dataframe\">\n",
              "  <thead>\n",
              "    <tr style=\"text-align: right;\">\n",
              "      <th></th>\n",
              "      <th>retail_price</th>\n",
              "      <th>discounted_price</th>\n",
              "    </tr>\n",
              "  </thead>\n",
              "  <tbody>\n",
              "    <tr>\n",
              "      <th>count</th>\n",
              "      <td>19591.000000</td>\n",
              "      <td>19591.000000</td>\n",
              "    </tr>\n",
              "    <tr>\n",
              "      <th>mean</th>\n",
              "      <td>3000.109744</td>\n",
              "      <td>1987.901792</td>\n",
              "    </tr>\n",
              "    <tr>\n",
              "      <th>std</th>\n",
              "      <td>9079.195665</td>\n",
              "      <td>7390.900068</td>\n",
              "    </tr>\n",
              "    <tr>\n",
              "      <th>min</th>\n",
              "      <td>35.000000</td>\n",
              "      <td>35.000000</td>\n",
              "    </tr>\n",
              "    <tr>\n",
              "      <th>25%</th>\n",
              "      <td>666.000000</td>\n",
              "      <td>350.000000</td>\n",
              "    </tr>\n",
              "    <tr>\n",
              "      <th>50%</th>\n",
              "      <td>1040.000000</td>\n",
              "      <td>550.000000</td>\n",
              "    </tr>\n",
              "    <tr>\n",
              "      <th>75%</th>\n",
              "      <td>1999.000000</td>\n",
              "      <td>999.000000</td>\n",
              "    </tr>\n",
              "    <tr>\n",
              "      <th>max</th>\n",
              "      <td>571230.000000</td>\n",
              "      <td>571230.000000</td>\n",
              "    </tr>\n",
              "  </tbody>\n",
              "</table>\n",
              "</div>"
            ],
            "text/plain": [
              "        retail_price  discounted_price\n",
              "count   19591.000000      19591.000000\n",
              "mean     3000.109744       1987.901792\n",
              "std      9079.195665       7390.900068\n",
              "min        35.000000         35.000000\n",
              "25%       666.000000        350.000000\n",
              "50%      1040.000000        550.000000\n",
              "75%      1999.000000        999.000000\n",
              "max    571230.000000     571230.000000"
            ]
          },
          "metadata": {
            "tags": []
          },
          "execution_count": 23
        }
      ]
    },
    {
      "cell_type": "code",
      "metadata": {
        "colab": {
          "base_uri": "https://localhost:8080/",
          "height": 280
        },
        "id": "2l6luTpQszaY",
        "outputId": "746454c5-bea4-459f-9bb5-9d46b3ea25c6"
      },
      "source": [
        "sns.kdeplot(new_df['retail_price']);"
      ],
      "execution_count": 24,
      "outputs": [
        {
          "output_type": "display_data",
          "data": {
            "image/png": "[encoded data removed]",
            "text/plain": [
              "<Figure size 432x288 with 1 Axes>"
            ]
          },
          "metadata": {
            "tags": [],
            "needs_background": "light"
          }
        }
      ]
    },
    {
      "cell_type": "code",
      "metadata": {
        "colab": {
          "base_uri": "https://localhost:8080/"
        },
        "id": "O4lplFYRxF8r",
        "outputId": "d540e90c-59bd-4ac1-c38f-bdd63ab20dbe"
      },
      "source": [
        "g_pid = new_df.groupby('category_1')\n",
        "# Check out Mean & Std\n",
        "print(g_pid.get_group('Clothing')['retail_price'].mean(), g_pid.get_group('Clothing')['retail_price'].std())\n",
        "print(g_pid.get_group('Clothing')['discounted_price'].mean(), g_pid.get_group('Clothing')['discounted_price'].std())"
      ],
      "execution_count": 25,
      "outputs": [
        {
          "output_type": "stream",
          "text": [
            "1369.1974068071313 1638.6094732809597\n",
            "714.2998379254457 977.0555353179425\n"
          ],
          "name": "stdout"
        }
      ]
    },
    {
      "cell_type": "markdown",
      "metadata": {
        "id": "ce5G3CEG2ElU"
      },
      "source": [
        "The cost variables vary too much from the graph as well as looking at the SD of one category. We will not use it for now."
      ]
    },
    {
      "cell_type": "code",
      "metadata": {
        "id": "uUGRpmbayzNu"
      },
      "source": [
        "new_df.drop(columns = ['retail_price', 'discounted_price'], axis = 1, inplace = True)"
      ],
      "execution_count": 26,
      "outputs": []
    },
    {
      "cell_type": "markdown",
      "metadata": {
        "id": "8Eo9a37E71JW"
      },
      "source": [
        "## Description"
      ]
    },
    {
      "cell_type": "code",
      "metadata": {
        "colab": {
          "base_uri": "https://localhost:8080/"
        },
        "id": "041YO6a_-5Rd",
        "outputId": "d612765c-de58-43fe-99f7-3deb1ea965f8"
      },
      "source": [
        "new_df.info()"
      ],
      "execution_count": 27,
      "outputs": [
        {
          "output_type": "stream",
          "text": [
            "<class 'pandas.core.frame.DataFrame'>\n",
            "RangeIndex: 19666 entries, 0 to 19665\n",
            "Data columns (total 5 columns):\n",
            " #   Column                  Non-Null Count  Dtype \n",
            "---  ------                  --------------  ----- \n",
            " 0   description             19664 non-null  object\n",
            " 1   brand                   13802 non-null  object\n",
            " 2   product_specifications  19652 non-null  object\n",
            " 3   category_1              19666 non-null  object\n",
            " 4   name                    19666 non-null  object\n",
            "dtypes: object(5)\n",
            "memory usage: 768.3+ KB\n"
          ],
          "name": "stdout"
        }
      ]
    },
    {
      "cell_type": "code",
      "metadata": {
        "id": "ekMs9g14-7CF"
      },
      "source": [
        "new_df = new_df.loc[new_df['description'].notna()].copy(deep = True)\n",
        "new_df.reset_index(inplace = True, drop = True)"
      ],
      "execution_count": 28,
      "outputs": []
    },
    {
      "cell_type": "code",
      "metadata": {
        "colab": {
          "base_uri": "https://localhost:8080/"
        },
        "id": "5tBLRsMc7plb",
        "outputId": "aed1090d-69cf-4810-ad13-a106a4ebf796"
      },
      "source": [
        "new_df['description'].sample(10, random_state = SEED).values"
      ],
      "execution_count": 29,
      "outputs": [
        {
          "output_type": "execute_result",
          "data": {
            "text/plain": [
              "array(['Key Features of AdroitZ Premium Phone Socket Holder For Nokia N9 Type: Anti-slip Orientation: Portrait Mount Type Dashboard: Yes,AdroitZ Premium Phone Socket Holder For Nokia N9 (Red, Black) Price: Rs. 206 Description:- 1. The clips is adjustable: The max opening is 86mm, perfect fits for 5.7 inches mobile phones. 2. Elastic fixation design: With elastic fixation rubber band, the size of steer wheel won’t effect the installation. 3. Easy installation: No need extra tools, just a few seconds to finish it. 4. Safety: The device is highly compact with the steer wheel, can be moved freely, no security risk. 5. Protection: The device is embedded with soft silicone pad, which protect your phone from scratching or gash, etc.,Specifications of AdroitZ Premium Phone Socket Holder For Nokia N9 (Red, Black) General Mount Type Dashboard General Specifications In The Box Car Cradle Brand AdroitZ Model Premium Phone Socket Holder For Nokia N9 Color Red, Black',\n",
              "       'Key Features of Anuradha Art Silver Polished Brooch brooches,Anuradha Art Silver Polished Brooch (Silver) Price: Rs. 175 Anuradha Art Jewellery offers this silver\\xa0colored heart shaped brooch. It is encrusted with sparkling stones ,pearls& made from Korean metal. This brooch is high in quality & has good quality grip.,Specifications of Anuradha Art Silver Polished Brooch (Silver) In the Box Sales Package 1 Brooch Number of Contents in Sales Package Pack of 1 General Precious/Artificial Jewellery Fashion Jewellery Ideal For Women Girls Dimensions Width 40 mm Height 45 mm Warranty The Product Is Covered Under 30 Days Replacement Guarantee.',\n",
              "       \"Lee Cooper Women's Checkered Casual Shirt - Buy PINK Lee Cooper Women's Checkered Casual Shirt For Only Rs. 899 Online in India. Shop Online For Apparels. Huge Collection of Branded Clothes Only at Flipkart.com\",\n",
              "       'Cotonex Multicolor Cotton Kitchen Linen Set (Pack of 2) Price: Rs. 225 Reviews of Cottonex 100% Pure Cotton Potholder,Specifications of Cotonex Multicolor Cotton Kitchen Linen Set (Pack of 2) General Brand Cotonex Design Code KLS201 Material Cotton Style Code 56213KLS201 Pattern Striped Design Abstract Color Multicolor Dimensions Weight 100 g Additional Features Fabric Care Machine washable, do not dry clean, do not bleach In the Box Number of Contents in Sales Package Pack of 2 Sales Package 2 Potholder',\n",
              "       \"Specifications of Beebay Baby Boy's Solid Casual Shirt General Details Pattern Solid Ideal For Baby Boy's Occasion Casual Shirt Details Sleeve Full Sleeve Number of Contents in Sales Package Pack of 1 Fabric 100% Cotton Collar Button Down Collar Fit Regular Fabric Care Don'T Wash With Other Garments, Hand Wash With Mild Detergent, Dont Tumble Dry, Dry In Shade, Soft Ironing In the Box Shirt Additional Details Style Code 142137\",\n",
              "       \"Ffashionstylus Party Short Sleeve Printed Women's Top - Buy Pink-Red Ffashionstylus Party Short Sleeve Printed Women's Top For Only Rs. 1496 Online in India. Shop Online For Apparels. Huge Collection of Branded Clothes Only at Flipkart.com\",\n",
              "       'Sri Bansilal Pearls Alloy Jewel Set - Buy Sri Bansilal Pearls Alloy Jewel Set only for Rs. 999 from Flipkart.com. Only Genuine Products. 30 Day Replacement Guarantee. Free Shipping. Cash On Delivery!',\n",
              "       'Vinnis Metal, Alloy, Fabric Necklace - Buy Vinnis Metal, Alloy, Fabric Necklace only for Rs. 399 from Flipkart.com. Only Genuine Products. 30 Day Replacement Guarantee. Free Shipping. Cash On Delivery!',\n",
              "       'Fullcutdiamond FCDR7203R Yellow Gold Diamond 18K Yellow Gold 18 K Ring - Buy Fullcutdiamond FCDR7203R Yellow Gold Diamond 18K Yellow Gold 18 K Ring only for Rs. 32137 from Flipkart.com. Only Genuine Products. 30 Day Replacement Guarantee. Free Shipping. Cash On Delivery!',\n",
              "       'Jadoo Collections Alloy Necklace - Buy Jadoo Collections Alloy Necklace only for Rs. 399 from Flipkart.com. Only Genuine Products. 30 Day Replacement Guarantee. Free Shipping. Cash On Delivery!'],\n",
              "      dtype=object)"
            ]
          },
          "metadata": {
            "tags": []
          },
          "execution_count": 29
        }
      ]
    },
    {
      "cell_type": "markdown",
      "metadata": {
        "id": "_hJJ98fn6azU"
      },
      "source": [
        "There are a lot of garbage characters inside, we will clean it keeping only proper words and remove numbers."
      ]
    },
    {
      "cell_type": "code",
      "metadata": {
        "colab": {
          "base_uri": "https://localhost:8080/"
        },
        "id": "zWcfw66C6jm8",
        "outputId": "11dc82fe-bb06-433d-cfd7-8fb36abe7978"
      },
      "source": [
        "def clean_desc(s):\n",
        "    \"\"\"\n",
        "    Cleans the description\n",
        "    & removes the stopwords\n",
        "\n",
        "    Parameters\n",
        "    ----------\n",
        "    s : string\n",
        "        A single string\n",
        "    \n",
        "    Returns\n",
        "    -------\n",
        "    s : string\n",
        "        Joined tokens \n",
        "    \"\"\"\n",
        "    s = re.sub(r'[^a-zA-Z\\s]+',' ', s)\n",
        "    # remove one letter words\n",
        "    s = re.sub(r'\\b\\w\\b',' ', s)\n",
        "    # clean\n",
        "    s = re.sub(r'\\s+',' ', s).strip()\n",
        "    word_tokens = {token for token in s.split(' ') if all_words[token]}\n",
        "    if not word_tokens:\n",
        "        return s\n",
        "    return ' '.join(word_tokens)\n",
        "\n",
        "new_df['description'] = new_df['description'].apply(clean_desc)\n",
        "new_df['description'].sample(10, random_state = SEED).values"
      ],
      "execution_count": 30,
      "outputs": [
        {
          "output_type": "execute_result",
          "data": {
            "text/plain": [
              "array(['Box adjustable With soft tools extra Nokia Model Dashboard slip Cradle Protection perfect Yes Portrait Easy moved clips rubber steer gash mm Black fixation Color General AdroitZ fits max Red seconds protect phone band compact embedded pad Features Mount highly Premium Rs device phones Holder Safety scratching Phone For Type Brand opening etc The Elastic Key silicone No freely installation Anti size Specifications wheel Orientation security elastic risk finish inches mobile effect Price design In Car need Socket Description',\n",
              "       'quality Box Fashion Artificial Replacement Dimensions Product brooch heart Silver Height offers Number For Features grip Ideal Women encrusted Days pearls Is Rs Art Brooch brooches The Contents colored Key sparkling made Precious Package Pack high Polished silver Warranty shaped metal Korean Covered Anuradha Under This Price Sales stones Jewellery mm In It Girls Width General Guarantee good Specifications',\n",
              "       'Branded com Flipkart Only Online For Collection Clothes Women Checkered Lee Rs Cooper India Buy Casual PINK Apparels Shirt Shop Huge',\n",
              "       'Box Reviews Style Dimensions Linen bleach Striped Fabric dry Additional Cottonex Number Material Features Brand KLS Kitchen Rs Contents clean Pack Care Package Abstract Cotton Pure Design Multicolor Set Weight Pattern Price Potholder washable Sales Cotonex In Color General Code Machine Specifications',\n",
              "       'Other Box Style With Tumble Boy Details Don Baby Fabric Dont Shade Regular Additional Number For Button Ideal Down Hand Collar Fit Sleeve Mild Contents Solid Package Pack Care Wash Beebay Cotton Soft Casual Dry Garments Pattern Sales Detergent Occasion Shirt Full In General Code Specifications Ironing',\n",
              "       'Red Branded com Flipkart Party Only Online For Short Collection Clothes Women Ffashionstylus Rs Sleeve India Buy Apparels Top Pink Printed Shop Huge',\n",
              "       'Replacement Free com Flipkart Only Delivery On Products Day Rs Cash Jewel Alloy Pearls Buy Shipping Bansilal Set Sri Genuine Guarantee',\n",
              "       'Vinnis Replacement Free com Flipkart Fabric Only Delivery On Metal Products Day Rs Cash Buy Alloy Shipping Necklace Genuine Guarantee',\n",
              "       'Replacement Free FCDR com Flipkart Gold Only Delivery Yellow On Products Day Rs Ring Cash Buy Diamond Shipping Fullcutdiamond Genuine Guarantee',\n",
              "       'Replacement Free com Flipkart Only Delivery On Products Day Rs Cash Buy Alloy Shipping Necklace Collections Genuine Guarantee Jadoo'],\n",
              "      dtype=object)"
            ]
          },
          "metadata": {
            "tags": []
          },
          "execution_count": 30
        }
      ]
    },
    {
      "cell_type": "code",
      "metadata": {
        "colab": {
          "base_uri": "https://localhost:8080/"
        },
        "id": "Wig8s_347exE",
        "outputId": "b75c2c4a-7776-4294-a967-9342ee553c34"
      },
      "source": [
        "# Check out range of the description\n",
        "new_df['description'].str.len().min(), new_df['description'].str.len().max()"
      ],
      "execution_count": 31,
      "outputs": [
        {
          "output_type": "execute_result",
          "data": {
            "text/plain": [
              "(29, 2070)"
            ]
          },
          "metadata": {
            "tags": []
          },
          "execution_count": 31
        }
      ]
    },
    {
      "cell_type": "markdown",
      "metadata": {
        "id": "eHgyhgzIAk2m"
      },
      "source": [
        "## Brand"
      ]
    },
    {
      "cell_type": "code",
      "metadata": {
        "colab": {
          "base_uri": "https://localhost:8080/"
        },
        "id": "Jn_ecPLV_8sE",
        "outputId": "a3c2ff78-628b-4424-ea20-a418bf56d020"
      },
      "source": [
        "new_df['brand'].sample(10, random_state = SEED).values"
      ],
      "execution_count": 32,
      "outputs": [
        {
          "output_type": "execute_result",
          "data": {
            "text/plain": [
              "array(['AdroitZ', 'Anuradha Art', 'Slim Fit', 'Cotonex', 'Beebay', nan,\n",
              "       'Sri Bansilal Pearls', 'Vinnis', 'Fullcutdiamond',\n",
              "       'Jadoo Collections'], dtype=object)"
            ]
          },
          "metadata": {
            "tags": []
          },
          "execution_count": 32
        }
      ]
    },
    {
      "cell_type": "code",
      "metadata": {
        "colab": {
          "base_uri": "https://localhost:8080/"
        },
        "id": "DzVXmaENAtkb",
        "outputId": "fe106630-a63a-4a5a-c6f9-fd488329b01e"
      },
      "source": [
        "new_df['brand'].value_counts()"
      ],
      "execution_count": 33,
      "outputs": [
        {
          "output_type": "execute_result",
          "data": {
            "text/plain": [
              "Allure Auto           469\n",
              "Regular               313\n",
              "Voylla                299\n",
              "Slim                  288\n",
              "TheLostPuppy          229\n",
              "                     ... \n",
              "Bracketron              1\n",
              "Golden Collections      1\n",
              "Next Player             1\n",
              "Shilpi                  1\n",
              "Green-Black             1\n",
              "Name: brand, Length: 3401, dtype: int64"
            ]
          },
          "metadata": {
            "tags": []
          },
          "execution_count": 33
        }
      ]
    },
    {
      "cell_type": "code",
      "metadata": {
        "colab": {
          "base_uri": "https://localhost:8080/"
        },
        "id": "h27wWvlrBOh8",
        "outputId": "102a1f14-2e6e-466e-e576-948aa9849c13"
      },
      "source": [
        "# Brands of clothing\n",
        "g_pid.get_group('Clothing')['brand'][:30]"
      ],
      "execution_count": 34,
      "outputs": [
        {
          "output_type": "execute_result",
          "data": {
            "text/plain": [
              "0           Alisha\n",
              "3           Alisha\n",
              "5           Alisha\n",
              "8           Alisha\n",
              "10          Carrel\n",
              "12          Alisha\n",
              "14          Alisha\n",
              "17          Carrel\n",
              "20          Alisha\n",
              "21          dongli\n",
              "24             NaN\n",
              "27             NaN\n",
              "28             NaN\n",
              "29        Indcrown\n",
              "33           KAJCI\n",
              "35     Pick Pocket\n",
              "37             Oye\n",
              "43        Roadster\n",
              "56     Mario Gotze\n",
              "62            Slim\n",
              "63            Slim\n",
              "71            Slim\n",
              "87        Skanders\n",
              "106        Regular\n",
              "129        Regular\n",
              "144            NaN\n",
              "161     Skinny Fit\n",
              "276     Traditions\n",
              "278     Eccellente\n",
              "280     Traditions\n",
              "Name: brand, dtype: object"
            ]
          },
          "metadata": {
            "tags": []
          },
          "execution_count": 34
        }
      ]
    },
    {
      "cell_type": "code",
      "metadata": {
        "id": "Qh25S7H3Band"
      },
      "source": [
        "new_df.drop(columns = ['brand'], axis = 1, inplace = True)"
      ],
      "execution_count": 35,
      "outputs": []
    },
    {
      "cell_type": "markdown",
      "metadata": {
        "id": "fNO8kA1QA2ZM"
      },
      "source": [
        "We will not use `brand` as there are too many and one brand can have multiple products. And it seems brand variable is noisy as sometimes `size` of the product is also considered as brand."
      ]
    },
    {
      "cell_type": "markdown",
      "metadata": {
        "id": "9aVpSrYFBx_1"
      },
      "source": [
        "## Product_specifications"
      ]
    },
    {
      "cell_type": "code",
      "metadata": {
        "colab": {
          "base_uri": "https://localhost:8080/"
        },
        "id": "893iHpNDBxS2",
        "outputId": "7518df32-1483-4609-8e91-813f65e35dad"
      },
      "source": [
        "new_df['product_specifications'].sample(10, random_state = SEED).values"
      ],
      "execution_count": 36,
      "outputs": [
        {
          "output_type": "execute_result",
          "data": {
            "text/plain": [
              "array(['{\"product_specification\"=>[{\"key\"=>\"Mount Type\", \"value\"=>\"Dashboard\"}, {\"key\"=>\"In The Box\", \"value\"=>\"Car Cradle\"}, {\"key\"=>\"Brand\", \"value\"=>\"AdroitZ\"}, {\"key\"=>\"Model\", \"value\"=>\"Premium Phone Socket Holder For Nokia N9\"}, {\"key\"=>\"Color\", \"value\"=>\"Red, Black\"}]}',\n",
              "       '{\"product_specification\"=>[{\"key\"=>\"Sales Package\", \"value\"=>\"1 Brooch\"}, {\"key\"=>\"Number of Contents in Sales Package\", \"value\"=>\"Pack of 1\"}, {\"key\"=>\"Precious/Artificial Jewellery\", \"value\"=>\"Fashion Jewellery\"}, {\"key\"=>\"Ideal For\", \"value\"=>\"Women Girls\"}, {\"key\"=>\"Width\", \"value\"=>\"40 mm\"}, {\"key\"=>\"Height\", \"value\"=>\"45 mm\"}, {\"value\"=>\"The Product Is Covered Under 30 Days Replacement Guarantee.\"}]}',\n",
              "       '{\"product_specification\"=>[{\"key\"=>\"Pattern\", \"value\"=>\"Checkered\"}, {\"key\"=>\"Occasion\", \"value\"=>\"Casual\"}, {\"key\"=>\"Ideal For\", \"value\"=>\"Women\\'s\"}, {\"key\"=>\"Sleeve\", \"value\"=>\"Half Sleeve\"}, {\"key\"=>\"Brand Fit\", \"value\"=>\"Slim Fit\"}, {\"key\"=>\"Collar\", \"value\"=>\"Spread\"}, {\"key\"=>\"Fabric\", \"value\"=>\"Cotton\"}, {\"key\"=>\"Pockets\", \"value\"=>\"Patch Pocket on Chest\"}, {\"key\"=>\"Placket\", \"value\"=>\"Button Down Placket\"}, {\"key\"=>\"Fit\", \"value\"=>\"Slim\"}, {\"key\"=>\"Model Details\", \"value\"=>\"This model has a Height of 5 feet 10 inches Bust 34 inches and is wearing a Shirt of Size S\"}, {\"key\"=>\"Style Code\", \"value\"=>\"LCWT-4141-A-600-MD-CX-CTPINK\"}, {\"value\"=>\"Wash Dark Colors Separately, Machine Wash at 40°C, Do Not Bleach, Tumble Dry Low, Warm Iron\"}]}',\n",
              "       '{\"product_specification\"=>[{\"key\"=>\"Brand\", \"value\"=>\"Cotonex\"}, {\"key\"=>\"Design Code\", \"value\"=>\"KLS201\"}, {\"key\"=>\"Material\", \"value\"=>\"Cotton\"}, {\"key\"=>\"Style Code\", \"value\"=>\"56213KLS201\"}, {\"key\"=>\"Pattern\", \"value\"=>\"Striped\"}, {\"key\"=>\"Design\", \"value\"=>\"Abstract\"}, {\"key\"=>\"Color\", \"value\"=>\"Multicolor\"}, {\"key\"=>\"Weight\", \"value\"=>\"100 g\"}, {\"key\"=>\"Fabric Care\", \"value\"=>\"Machine washable, do not dry clean, do not bleach\"}, {\"key\"=>\"Number of Contents in Sales Package\", \"value\"=>\"Pack of 2\"}, {\"key\"=>\"Sales Package\", \"value\"=>\"2 Potholder\"}]}',\n",
              "       '{\"product_specification\"=>[{\"key\"=>\"Pattern\", \"value\"=>\"Solid\"}, {\"key\"=>\"Ideal For\", \"value\"=>\"Baby Boy\\'s\"}, {\"key\"=>\"Occasion\", \"value\"=>\"Casual\"}, {\"key\"=>\"Sleeve\", \"value\"=>\"Full Sleeve\"}, {\"key\"=>\"Number of Contents in Sales Package\", \"value\"=>\"Pack of 1\"}, {\"key\"=>\"Fabric\", \"value\"=>\"100% Cotton\"}, {\"key\"=>\"Collar\", \"value\"=>\"Button Down Collar\"}, {\"key\"=>\"Fit\", \"value\"=>\"Regular\"}, {\"value\"=>\"Don\\'T Wash With Other Garments, Hand Wash With Mild Detergent, Dont Tumble Dry, Dry In Shade, Soft Ironing\"}, {\"value\"=>\"Shirt\"}, {\"key\"=>\"Style Code\", \"value\"=>\"142137\"}]}',\n",
              "       '{\"product_specification\"=>[{\"key\"=>\"Sleeve\", \"value\"=>\"Short Sleeve\"}, {\"key\"=>\"Number of Contents in Sales Package\", \"value\"=>\"Pack of 1\"}, {\"key\"=>\"Fabric\", \"value\"=>\"Cotton\"}, {\"key\"=>\"Neck\", \"value\"=>\"Round Neck\"}, {\"key\"=>\"Pattern\", \"value\"=>\"Printed\"}, {\"key\"=>\"Ideal For\", \"value\"=>\"Women\\'s\"}, {\"key\"=>\"Occasion\", \"value\"=>\"Party\"}, {\"value\"=>\"Wash with Similar Colors, Use Detergent for Colors\"}, {\"value\"=>\"Pack of 1 Top\"}]}',\n",
              "       '{\"product_specification\"=>[{\"key\"=>\"Pearl Grade\", \"value\"=>\"AAA Grade\"}, {\"key\"=>\"Pearl Shape\", \"value\"=>\"Round\"}, {\"key\"=>\"Pearl Type\", \"value\"=>\"Freshwater\"}, {\"key\"=>\"Pearl Color\", \"value\"=>\"white\"}, {\"key\"=>\"Base Material\", \"value\"=>\"Alloy\"}, {\"key\"=>\"Brand\", \"value\"=>\"Sri Bansilal Pearls\"}, {\"key\"=>\"Gemstone\", \"value\"=>\"Pearl\"}, {\"key\"=>\"Precious/Artificial Jewellery\", \"value\"=>\"Fashion Jewellery\"}, {\"key\"=>\"Model Number\", \"value\"=>\"SB-132\"}, {\"key\"=>\"Plating\", \"value\"=>\"Rhodium\"}, {\"key\"=>\"Type\", \"value\"=>\"Earring and Necklace Set\"}, {\"key\"=>\"Occasion\", \"value\"=>\"Wedding and Engagement\"}, {\"key\"=>\"Ideal For\", \"value\"=>\"Girls\"}, {\"key\"=>\"Color\", \"value\"=>\"White\"}, {\"key\"=>\"Diamond Weight\", \"value\"=>\"0 carat\"}, {\"key\"=>\"Diamond Shape\", \"value\"=>\"NA\"}, {\"key\"=>\"Diamond Color Grade\", \"value\"=>\"NA\"}, {\"key\"=>\"Diamond Clarity\", \"value\"=>\"NA\"}, {\"key\"=>\"Chain/Necklace Length\", \"value\"=>\"16 inch\"}, {\"key\"=>\"Weight\", \"value\"=>\"45 g\"}, {\"key\"=>\"Certification\", \"value\"=>\"Brand Certification\"}, {\"key\"=>\"Sales Package\", \"value\"=>\"1 necklace ;; 2Earring\"}]}',\n",
              "       '{\"product_specification\"=>[{\"key\"=>\"Collection\", \"value\"=>\"Contemporary\"}, {\"key\"=>\"Brand\", \"value\"=>\"Vinnis\"}, {\"key\"=>\"Precious/Artificial Jewellery\", \"value\"=>\"Fashion Jewellery\"}, {\"key\"=>\"Model Number\", \"value\"=>\"V1039MRN\"}, {\"key\"=>\"Type\", \"value\"=>\"Necklace\"}, {\"key\"=>\"Occasion\", \"value\"=>\"Wedding and Engagement, Love, Wedding and Engagement\"}, {\"key\"=>\"Ideal For\", \"value\"=>\"Women, Girls\"}, {\"key\"=>\"Color\", \"value\"=>\"Multicolor\"}, {\"key\"=>\"Chain/Necklace Length\", \"value\"=>\"10 inch\"}, {\"key\"=>\"Weight\", \"value\"=>\"85 g\"}, {\"key\"=>\"Base Material\", \"value\"=>\"Metal, Alloy, Fabric\"}, {\"key\"=>\"Finish\", \"value\"=>\"Glossy\"}, {\"key\"=>\"Sales Package\", \"value\"=>\"1 Neclace\"}, {\"key\"=>\"Pack of\", \"value\"=>\"1\"}]}',\n",
              "       '{\"product_specification\"=>[{\"key\"=>\"Collection\", \"value\"=>\"Contemporary\"}, {\"key\"=>\"Brand\", \"value\"=>\"Fullcutdiamond\"}, {\"key\"=>\"Precious/Artificial Jewellery\", \"value\"=>\"Precious Jewellery\"}, {\"key\"=>\"Model Number\", \"value\"=>\"FCDR7203\"}, {\"key\"=>\"Type\", \"value\"=>\"Ring\"}, {\"key\"=>\"Model Name\", \"value\"=>\"FCDR7203R\"}, {\"key\"=>\"Occasion\", \"value\"=>\"Everyday\"}, {\"key\"=>\"Ideal For\", \"value\"=>\"Women\"}, {\"key\"=>\"Color\", \"value\"=>\"Gold\"}, {\"key\"=>\"Diamond Weight\", \"value\"=>\"0.24 carat\"}, {\"key\"=>\"Diamond Shape\", \"value\"=>\"Round\"}, {\"key\"=>\"Diamond Color Grade\", \"value\"=>\"GH\"}, {\"key\"=>\"Natural/Synthetic Diamond\", \"value\"=>\"Natural Diamond\"}, {\"key\"=>\"Diamond Clarity\", \"value\"=>\"SI\"}, {\"key\"=>\"Warranty Summary\", \"value\"=>\"Lifetime\"}, {\"key\"=>\"Weight\", \"value\"=>\"2.822 g\"}, {\"key\"=>\"Other Dimensions\", \"value\"=>\"3.70mm x 7.10 mm\"}, {\"key\"=>\"Height\", \"value\"=>\"3.7 mm\"}, {\"key\"=>\"Width\", \"value\"=>\"7.1 mm\"}, {\"key\"=>\"Gold Purity\", \"value\"=>\"18 K\"}, {\"key\"=>\"Gold Weight\", \"value\"=>\"2.774\"}, {\"key\"=>\"Gold Color\", \"value\"=>\"Yellow Gold\"}, {\"key\"=>\"Base Material\", \"value\"=>\"Yellow Gold\"}, {\"key\"=>\"Gemstone\", \"value\"=>\"Diamond\"}, {\"key\"=>\"Plating\", \"value\"=>\"18K Yellow Gold\"}, {\"key\"=>\"Number of Gemstones\", \"value\"=>\"4\"}, {\"key\"=>\"Ring Size\", \"value\"=>\"11\"}, {\"key\"=>\"Certification\", \"value\"=>\"BIS Hallmark\"}, {\"key\"=>\"Sales Package\", \"value\"=>\"1 Ring\"}, {\"key\"=>\"Pack of\", \"value\"=>\"1\"}]}',\n",
              "       '{\"product_specification\"=>[{\"key\"=>\"Collection\", \"value\"=>\"Designer\"}, {\"key\"=>\"Brand\", \"value\"=>\"Jadoo Collections\"}, {\"key\"=>\"Precious/Artificial Jewellery\", \"value\"=>\"Fashion Jewellery\"}, {\"key\"=>\"Model Number\", \"value\"=>\"E061\"}, {\"key\"=>\"Type\", \"value\"=>\"Necklace\"}, {\"key\"=>\"Occasion\", \"value\"=>\"Everyday, Love, Religious, Wedding and Engagement, Workwear\"}, {\"key\"=>\"Ideal For\", \"value\"=>\"Women, Girls\"}, {\"key\"=>\"Color\", \"value\"=>\"Multicolor\"}, {\"key\"=>\"Base Material\", \"value\"=>\"Alloy\"}, {\"key\"=>\"Pack of\", \"value\"=>\"1\"}]}'],\n",
              "      dtype=object)"
            ]
          },
          "metadata": {
            "tags": []
          },
          "execution_count": 36
        }
      ]
    },
    {
      "cell_type": "code",
      "metadata": {
        "colab": {
          "base_uri": "https://localhost:8080/"
        },
        "id": "Kyxc0_dvIb6H",
        "outputId": "d5491706-5705-435c-ebb2-88cd1656172b"
      },
      "source": [
        "new_df.info()"
      ],
      "execution_count": 37,
      "outputs": [
        {
          "output_type": "stream",
          "text": [
            "<class 'pandas.core.frame.DataFrame'>\n",
            "RangeIndex: 19664 entries, 0 to 19663\n",
            "Data columns (total 4 columns):\n",
            " #   Column                  Non-Null Count  Dtype \n",
            "---  ------                  --------------  ----- \n",
            " 0   description             19664 non-null  object\n",
            " 1   product_specifications  19650 non-null  object\n",
            " 2   category_1              19664 non-null  object\n",
            " 3   name                    19664 non-null  object\n",
            "dtypes: object(4)\n",
            "memory usage: 614.6+ KB\n"
          ],
          "name": "stdout"
        }
      ]
    },
    {
      "cell_type": "code",
      "metadata": {
        "id": "_8dACdXTI0n1"
      },
      "source": [
        "def clean_product_spec(s):\n",
        "    \"\"\"Cleans the variable \n",
        "    & joins to have a semantic meaning\n",
        "\n",
        "    Parameters\n",
        "    ----------\n",
        "    s : string\n",
        "        A single product spec\n",
        "    \n",
        "    Returns\n",
        "    -------\n",
        "    parsed : string\n",
        "        parsed string\n",
        "    \"\"\"\n",
        "    if pd.isna(s):\n",
        "        return np.nan\n",
        "    pattern = re.compile(r'\"key\"=>\"(.*?)\".*?\"value\"=>\"(.*?)\"')\n",
        "    matches = pattern.finditer(s)\n",
        "    parsed = \"\"\n",
        "    for match in matches:\n",
        "        key = match.group(1)\n",
        "        value = match.group(2)\n",
        "        parsed += f\"{key} is {value}, \"\n",
        "    parsed = parsed.strip()[:-1]\n",
        "    if parsed:\n",
        "        return parsed\n",
        "    return np.nan"
      ],
      "execution_count": 38,
      "outputs": []
    },
    {
      "cell_type": "markdown",
      "metadata": {
        "id": "AafKvY00PIBI"
      },
      "source": [
        "Check out a Random example to see which feature can be used as a sequence having meaning."
      ]
    },
    {
      "cell_type": "code",
      "metadata": {
        "id": "tzmRxs0VJ4E9"
      },
      "source": [
        "RANDOM_EXAMPLE = 30"
      ],
      "execution_count": 39,
      "outputs": []
    },
    {
      "cell_type": "code",
      "metadata": {
        "colab": {
          "base_uri": "https://localhost:8080/",
          "height": 52
        },
        "id": "oBKzyfKhBYXs",
        "outputId": "c934e92c-0504-4ed2-a698-8a5b470153c8"
      },
      "source": [
        "new_df['product_specifications'].map(clean_product_spec)[RANDOM_EXAMPLE]"
      ],
      "execution_count": 40,
      "outputs": [
        {
          "output_type": "execute_result",
          "data": {
            "application/vnd.google.colaboratory.intrinsic+json": {
              "type": "string"
            },
            "text/plain": [
              "'Ruling is Ruled, Model id is NB00664, Type is Notebook, GSM is 75, Cover Type is 300 GSM Hard Laminated Cover, No. of Pages is 160, Brand Name is Shopmania, Binding is Spiral Bound, Color is Multicolor, Size is A5, Length is 9 inch, Width is 6 inch, Sales Package is 1 Notebook'"
            ]
          },
          "metadata": {
            "tags": []
          },
          "execution_count": 40
        }
      ]
    },
    {
      "cell_type": "code",
      "metadata": {
        "colab": {
          "base_uri": "https://localhost:8080/",
          "height": 52
        },
        "id": "xZN1a8XnJM8V",
        "outputId": "1bcd7aa7-858e-4191-8c4c-2c8ecdff5fb1"
      },
      "source": [
        "new_df['description'][RANDOM_EXAMPLE]"
      ],
      "execution_count": 41,
      "outputs": [
        {
          "output_type": "execute_result",
          "data": {
            "application/vnd.google.colaboratory.intrinsic+json": {
              "type": "string"
            },
            "text/plain": [
              "'GSM Cover inch Box Laminated Dimensions Shopmania Pages used Writing Can Band Ruling Model pad Features Hard Type Brand Name Music Size Special Bound Notepad Package Binding Length No NB Multicolor Sales id In Diary Spiral Color General Notebook Ruled Width Specifications'"
            ]
          },
          "metadata": {
            "tags": []
          },
          "execution_count": 41
        }
      ]
    },
    {
      "cell_type": "markdown",
      "metadata": {
        "id": "2GXW2WaQLKiV"
      },
      "source": [
        "The `Product Spec` feature looks promising compared to `description`."
      ]
    },
    {
      "cell_type": "code",
      "metadata": {
        "id": "aVTlKBAHIvFU"
      },
      "source": [
        "new_df['product_spec'] = new_df['product_specifications'].apply(clean_product_spec)\n",
        "new_df.drop(columns = ['product_specifications'], inplace = True)\n",
        "new_df = new_df[new_df['product_spec'].notna()].copy(deep = True)\n",
        "new_df.reset_index(inplace = True, drop = True)"
      ],
      "execution_count": 42,
      "outputs": []
    },
    {
      "cell_type": "code",
      "metadata": {
        "colab": {
          "base_uri": "https://localhost:8080/",
          "height": 202
        },
        "id": "XYNh7uLkQRAN",
        "outputId": "fddcb963-6520-4c49-8373-ccccaa53b363"
      },
      "source": [
        "new_df.head()"
      ],
      "execution_count": 43,
      "outputs": [
        {
          "output_type": "execute_result",
          "data": {
            "text/html": [
              "<div>\n",
              "<style scoped>\n",
              "    .dataframe tbody tr th:only-of-type {\n",
              "        vertical-align: middle;\n",
              "    }\n",
              "\n",
              "    .dataframe tbody tr th {\n",
              "        vertical-align: top;\n",
              "    }\n",
              "\n",
              "    .dataframe thead th {\n",
              "        text-align: right;\n",
              "    }\n",
              "</style>\n",
              "<table border=\"1\" class=\"dataframe\">\n",
              "  <thead>\n",
              "    <tr style=\"text-align: right;\">\n",
              "      <th></th>\n",
              "      <th>description</th>\n",
              "      <th>category_1</th>\n",
              "      <th>name</th>\n",
              "      <th>product_spec</th>\n",
              "    </tr>\n",
              "  </thead>\n",
              "  <tbody>\n",
              "    <tr>\n",
              "      <th>0</th>\n",
              "      <td>Box Style Red Lycra Details Fabric Bleach ALTH...</td>\n",
              "      <td>Clothing</td>\n",
              "      <td>Alisha Solid Women Cycling Shorts</td>\n",
              "      <td>Number of Contents in Sales Package is Pack of...</td>\n",
              "    </tr>\n",
              "    <tr>\n",
              "      <th>1</th>\n",
              "      <td>quality Box hard professionally direct replace...</td>\n",
              "      <td>Furniture</td>\n",
              "      <td>FabHomeDecor Fabric Double Sofa Bed</td>\n",
              "      <td>Installation &amp; Demo Details is Installation an...</td>\n",
              "    </tr>\n",
              "    <tr>\n",
              "      <th>2</th>\n",
              "      <td>inch Box stains shoe Red Product Details Of Al...</td>\n",
              "      <td>Footwear</td>\n",
              "      <td>AW Bellies</td>\n",
              "      <td>Ideal For is Women, Occasion is Casual, Color ...</td>\n",
              "    </tr>\n",
              "    <tr>\n",
              "      <th>3</th>\n",
              "      <td>Box Style Red Lycra Details Fabric Bleach Addi...</td>\n",
              "      <td>Clothing</td>\n",
              "      <td>Alisha Solid Women Cycling Shorts</td>\n",
              "      <td>Number of Contents in Sales Package is Pack of...</td>\n",
              "    </tr>\n",
              "    <tr>\n",
              "      <th>4</th>\n",
              "      <td>Box Fashion Form Number Quantity Model Fragran...</td>\n",
              "      <td>Pet Supplies</td>\n",
              "      <td>Sicons All Purpose Arnica Dog Shampoo</td>\n",
              "      <td>Pet Type is Dog, Brand is Sicons, Quantity is ...</td>\n",
              "    </tr>\n",
              "  </tbody>\n",
              "</table>\n",
              "</div>"
            ],
            "text/plain": [
              "                                         description  ...                                       product_spec\n",
              "0  Box Style Red Lycra Details Fabric Bleach ALTH...  ...  Number of Contents in Sales Package is Pack of...\n",
              "1  quality Box hard professionally direct replace...  ...  Installation & Demo Details is Installation an...\n",
              "2  inch Box stains shoe Red Product Details Of Al...  ...  Ideal For is Women, Occasion is Casual, Color ...\n",
              "3  Box Style Red Lycra Details Fabric Bleach Addi...  ...  Number of Contents in Sales Package is Pack of...\n",
              "4  Box Fashion Form Number Quantity Model Fragran...  ...  Pet Type is Dog, Brand is Sicons, Quantity is ...\n",
              "\n",
              "[5 rows x 4 columns]"
            ]
          },
          "metadata": {
            "tags": []
          },
          "execution_count": 43
        }
      ]
    },
    {
      "cell_type": "code",
      "metadata": {
        "colab": {
          "base_uri": "https://localhost:8080/"
        },
        "id": "7Co9mpFTHtZB",
        "outputId": "1c1bd563-c682-46d7-c5d5-db9aa72334c4"
      },
      "source": [
        "new_df.info()"
      ],
      "execution_count": 44,
      "outputs": [
        {
          "output_type": "stream",
          "text": [
            "<class 'pandas.core.frame.DataFrame'>\n",
            "RangeIndex: 19597 entries, 0 to 19596\n",
            "Data columns (total 4 columns):\n",
            " #   Column        Non-Null Count  Dtype \n",
            "---  ------        --------------  ----- \n",
            " 0   description   19597 non-null  object\n",
            " 1   category_1    19597 non-null  object\n",
            " 2   name          19597 non-null  object\n",
            " 3   product_spec  19597 non-null  object\n",
            "dtypes: object(4)\n",
            "memory usage: 612.5+ KB\n"
          ],
          "name": "stdout"
        }
      ]
    },
    {
      "cell_type": "code",
      "metadata": {
        "colab": {
          "base_uri": "https://localhost:8080/",
          "height": 416
        },
        "id": "tluQ5M1Ncgev",
        "outputId": "005f1d15-405d-482c-d8d1-76cff73099ed"
      },
      "source": [
        "new_df[new_df.duplicated()]"
      ],
      "execution_count": 45,
      "outputs": [
        {
          "output_type": "execute_result",
          "data": {
            "text/html": [
              "<div>\n",
              "<style scoped>\n",
              "    .dataframe tbody tr th:only-of-type {\n",
              "        vertical-align: middle;\n",
              "    }\n",
              "\n",
              "    .dataframe tbody tr th {\n",
              "        vertical-align: top;\n",
              "    }\n",
              "\n",
              "    .dataframe thead th {\n",
              "        text-align: right;\n",
              "    }\n",
              "</style>\n",
              "<table border=\"1\" class=\"dataframe\">\n",
              "  <thead>\n",
              "    <tr style=\"text-align: right;\">\n",
              "      <th></th>\n",
              "      <th>description</th>\n",
              "      <th>category_1</th>\n",
              "      <th>name</th>\n",
              "      <th>product_spec</th>\n",
              "    </tr>\n",
              "  </thead>\n",
              "  <tbody>\n",
              "    <tr>\n",
              "      <th>138</th>\n",
              "      <td>Rs Ladies Day Boots Replacement Free On Delive...</td>\n",
              "      <td>Footwear</td>\n",
              "      <td>Kielz Ladies Boots</td>\n",
              "      <td>Ideal For is Women, Occasion is Casual, Sole M...</td>\n",
              "    </tr>\n",
              "    <tr>\n",
              "      <th>140</th>\n",
              "      <td>Rs Day Boots Replacement Free Gambe On Deliver...</td>\n",
              "      <td>Footwear</td>\n",
              "      <td>Belle Gambe Boots</td>\n",
              "      <td>Occasion is Casual, Ideal For is Women, Heel H...</td>\n",
              "    </tr>\n",
              "    <tr>\n",
              "      <th>174</th>\n",
              "      <td>Rs Ladies Day Boots Replacement Free On Delive...</td>\n",
              "      <td>Footwear</td>\n",
              "      <td>Kielz Ladies Boots</td>\n",
              "      <td>Ideal For is Women, Occasion is Casual, Sole M...</td>\n",
              "    </tr>\n",
              "    <tr>\n",
              "      <th>206</th>\n",
              "      <td>Rs Day Boots Replacement Free Remson On Delive...</td>\n",
              "      <td>Footwear</td>\n",
              "      <td>Remson India Boots</td>\n",
              "      <td>Ideal For is Women, Occasion is Casual, Heel H...</td>\n",
              "    </tr>\n",
              "    <tr>\n",
              "      <th>213</th>\n",
              "      <td>Rs Ladies Day Boots Replacement Free On Delive...</td>\n",
              "      <td>Footwear</td>\n",
              "      <td>Kielz Ladies Boots</td>\n",
              "      <td>Ideal For is Women, Occasion is Casual, Sole M...</td>\n",
              "    </tr>\n",
              "    <tr>\n",
              "      <th>...</th>\n",
              "      <td>...</td>\n",
              "      <td>...</td>\n",
              "      <td>...</td>\n",
              "      <td>...</td>\n",
              "    </tr>\n",
              "    <tr>\n",
              "      <th>19583</th>\n",
              "      <td>shipping Replacement WallDesign prices Only Pr...</td>\n",
              "      <td>Baby Care</td>\n",
              "      <td>WallDesign Small Vinyl Sticker</td>\n",
              "      <td>Number of Contents in Sales Package is Pack of...</td>\n",
              "    </tr>\n",
              "    <tr>\n",
              "      <th>19585</th>\n",
              "      <td>shipping Replacement WallDesign prices Only Pr...</td>\n",
              "      <td>Baby Care</td>\n",
              "      <td>WallDesign Small Vinyl Sticker</td>\n",
              "      <td>Number of Contents in Sales Package is Pack of...</td>\n",
              "    </tr>\n",
              "    <tr>\n",
              "      <th>19586</th>\n",
              "      <td>shipping Replacement prices Medium Only Produc...</td>\n",
              "      <td>Baby Care</td>\n",
              "      <td>store Medium Paper Sticker</td>\n",
              "      <td>Sales Package is Wall Sticker, Shape is Rectan...</td>\n",
              "    </tr>\n",
              "    <tr>\n",
              "      <th>19589</th>\n",
              "      <td>shipping Replacement prices Medium Only Produc...</td>\n",
              "      <td>Baby Care</td>\n",
              "      <td>store Medium Paper Sticker</td>\n",
              "      <td>Sales Package is Wall Sticker, Shape is Rectan...</td>\n",
              "    </tr>\n",
              "    <tr>\n",
              "      <th>19592</th>\n",
              "      <td>shipping Replacement WallDesign prices Only Pr...</td>\n",
              "      <td>Baby Care</td>\n",
              "      <td>WallDesign Small Vinyl Sticker</td>\n",
              "      <td>Number of Contents in Sales Package is Pack of...</td>\n",
              "    </tr>\n",
              "  </tbody>\n",
              "</table>\n",
              "<p>543 rows × 4 columns</p>\n",
              "</div>"
            ],
            "text/plain": [
              "                                             description  ...                                       product_spec\n",
              "138    Rs Ladies Day Boots Replacement Free On Delive...  ...  Ideal For is Women, Occasion is Casual, Sole M...\n",
              "140    Rs Day Boots Replacement Free Gambe On Deliver...  ...  Occasion is Casual, Ideal For is Women, Heel H...\n",
              "174    Rs Ladies Day Boots Replacement Free On Delive...  ...  Ideal For is Women, Occasion is Casual, Sole M...\n",
              "206    Rs Day Boots Replacement Free Remson On Delive...  ...  Ideal For is Women, Occasion is Casual, Heel H...\n",
              "213    Rs Ladies Day Boots Replacement Free On Delive...  ...  Ideal For is Women, Occasion is Casual, Sole M...\n",
              "...                                                  ...  ...                                                ...\n",
              "19583  shipping Replacement WallDesign prices Only Pr...  ...  Number of Contents in Sales Package is Pack of...\n",
              "19585  shipping Replacement WallDesign prices Only Pr...  ...  Number of Contents in Sales Package is Pack of...\n",
              "19586  shipping Replacement prices Medium Only Produc...  ...  Sales Package is Wall Sticker, Shape is Rectan...\n",
              "19589  shipping Replacement prices Medium Only Produc...  ...  Sales Package is Wall Sticker, Shape is Rectan...\n",
              "19592  shipping Replacement WallDesign prices Only Pr...  ...  Number of Contents in Sales Package is Pack of...\n",
              "\n",
              "[543 rows x 4 columns]"
            ]
          },
          "metadata": {
            "tags": []
          },
          "execution_count": 45
        }
      ]
    },
    {
      "cell_type": "markdown",
      "metadata": {
        "id": "pxSTpkE8PX_I"
      },
      "source": [
        "Clean up the duplicates"
      ]
    },
    {
      "cell_type": "code",
      "metadata": {
        "id": "SzOCLvA0eHLT"
      },
      "source": [
        "new_df.drop_duplicates(inplace=True, ignore_index = True)"
      ],
      "execution_count": 46,
      "outputs": []
    },
    {
      "cell_type": "code",
      "metadata": {
        "id": "0zs6rdqhQkAN"
      },
      "source": [
        "# cleaned data for modelling\n",
        "new_df.to_csv('processed_data.csv')"
      ],
      "execution_count": 47,
      "outputs": []
    },
    {
      "cell_type": "markdown",
      "metadata": {
        "id": "OdxeSmIfPaXw"
      },
      "source": [
        "We can predict on this as they **don't have the correct level of target variable**."
      ]
    },
    {
      "cell_type": "code",
      "metadata": {
        "id": "azQRpxWST0RG"
      },
      "source": [
        "# Missing category for Level `LEVEL`\n",
        "if cat_missing_ids:\n",
        "    with open(\"cat_missing_ids.txt\", \"w\") as fp:\n",
        "        json.dump(cat_missing_ids, fp)\n",
        "\n",
        "# Samples whose category has < COUNT_THRESH samples\n",
        "if below_thresh_index:\n",
        "    with open(\"below_thresh_index.txt\", \"w\") as fp:\n",
        "        json.dump(below_thresh_index, fp)"
      ],
      "execution_count": 48,
      "outputs": []
    }
  ]
}